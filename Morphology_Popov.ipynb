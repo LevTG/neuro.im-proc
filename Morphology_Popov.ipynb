{
 "cells": [
  {
   "cell_type": "code",
   "execution_count": 1,
   "id": "6e27af89",
   "metadata": {},
   "outputs": [
    {
     "name": "stdout",
     "output_type": "stream",
     "text": [
      "Can't load imreg package, affine and homography registrations won't work\n"
     ]
    },
    {
     "name": "stderr",
     "output_type": "stream",
     "text": [
      "/home/incredible/Neuroscience/Code/lib/imfun/imfun/external/tifffile.py:7261: UserWarning: No module named 'imfun.external._tifffile'\n",
      "  Functionality might be degraded or be slow.\n",
      "\n",
      "  warnings.warn(\"%s%s\" % (e, warn))\n",
      "/home/incredible/Neuroscience/Code/lib/imfun/imfun/external/czifile.py:146: UserWarning: ImportError: No module named '_czifile'. Decoding of JXR and JPEG encoded images will not be available. Czifile.pyx can be obtained at http://www.lfd.uci.edu/~gohlke/\n",
      "  warnings.warn(\n"
     ]
    }
   ],
   "source": [
    "import os\n",
    "import sys\n",
    "import itertools as itt\n",
    "\n",
    "# File reading\n",
    "from pathlib import Path\n",
    "import czifile as czi\n",
    "import tifffile as tiff\n",
    "\n",
    "# Image preprocessing\n",
    "import cv2\n",
    "from skimage.filters import threshold_li, threshold_minimum, threshold_triangle\n",
    "from skimage.morphology import remove_small_objects\n",
    "\n",
    "\n",
    "# Calculations\n",
    "from scipy import ndimage as ndi\n",
    "import numpy as np\n",
    "\n",
    "# Analysis\n",
    "import astrobject as ao\n",
    "import ccdb\n",
    "import astromorpho as astro\n",
    "\n",
    "# Viewing\n",
    "import napari\n",
    "import matplotlib.pyplot as plt\n",
    "%matplotlib inline\n",
    "\n",
    "# Beauty\n",
    "from tqdm.auto import tqdm"
   ]
  },
  {
   "cell_type": "markdown",
   "id": "d7a460d2",
   "metadata": {},
   "source": [
    "# Параметры для запуска"
   ]
  },
  {
   "cell_type": "code",
   "execution_count": 2,
   "id": "bcbdfcde",
   "metadata": {},
   "outputs": [],
   "source": [
    "if os.path.exists('/home/incredible/astro-morpho'):\n",
    "    data_dir = '/home/incredible/astro-morpho/data/HT_Tumor_12vs34 for Tatiana/'\n",
    "else:\n",
    "    print(\"Dont know where to look for the data\")\n",
    "\n",
    "output_dir = '../output/'\n",
    "\n",
    "filename = 'T1.czi'\n",
    "\n",
    "use_clahe = True\n",
    "sigmas = 2**np.arange(0, 3, 0.5)\n",
    "alpha = 0.5 # relative weight of coside distance between Hessian vector and linkage vector\n",
    "beta = 0.0  # weight of Euclidean distance between the nodes \n",
    "offset=1\n",
    "\n",
    "VERBOSE = True\n",
    "\n",
    "# Set false to start from console\n",
    "HANDY = True\n",
    "\n",
    "# Set true to save output\n",
    "OUT = False"
   ]
  },
  {
   "cell_type": "markdown",
   "id": "4c806925",
   "metadata": {},
   "source": [
    "# Считывание изображения"
   ]
  },
  {
   "cell_type": "code",
   "execution_count": 3,
   "id": "b25c1555",
   "metadata": {},
   "outputs": [],
   "source": [
    "if HANDY:\n",
    "    VERBOSE = True"
   ]
  },
  {
   "cell_type": "code",
   "execution_count": 4,
   "id": "9ca3dc7b",
   "metadata": {},
   "outputs": [
    {
     "data": {
      "text/plain": [
       "PosixPath('/home/incredible/astro-morpho/data/HT_Tumor_12vs34 for Tatiana/T1.czi')"
      ]
     },
     "execution_count": 4,
     "metadata": {},
     "output_type": "execute_result"
    }
   ],
   "source": [
    "datapath = Path(data_dir).joinpath(filename)\n",
    "# datapath = Path(data_dir).joinpath(filename)\n",
    "datapath"
   ]
  },
  {
   "cell_type": "code",
   "execution_count": 5,
   "id": "ee10ee70",
   "metadata": {},
   "outputs": [
    {
     "name": "stdout",
     "output_type": "stream",
     "text": [
      "\n",
      "Opening CZI file... 0.605424 s\n",
      "Image\n",
      "  axes:  CZYX\n",
      "  shape: (3, 70, 512, 512)\n",
      "  dtype: uint16\n",
      "  size:  105.00 MiB\n",
      "Creating empty TIF file... 0.135808 s\n",
      "Copying image from CZI to TIF file... 3.477781 s\n"
     ]
    }
   ],
   "source": [
    "tifname = str(datapath)[:-3] + 'tif' \n",
    "\n",
    "czi.czi2tif(datapath, tiffile=tifname)\n",
    "stack = tiff.imread(tifname)[2]"
   ]
  },
  {
   "cell_type": "code",
   "execution_count": 6,
   "id": "17818795",
   "metadata": {},
   "outputs": [
    {
     "ename": "KeyboardInterrupt",
     "evalue": "",
     "output_type": "error",
     "traceback": [
      "\u001b[0;31m---------------------------------------------------------------------------\u001b[0m",
      "\u001b[0;31mKeyboardInterrupt\u001b[0m                         Traceback (most recent call last)",
      "Input \u001b[0;32mIn [6]\u001b[0m, in \u001b[0;36m<module>\u001b[0;34m\u001b[0m\n\u001b[1;32m      1\u001b[0m \u001b[38;5;28;01mif\u001b[39;00m VERBOSE:\n\u001b[0;32m----> 2\u001b[0m     w \u001b[38;5;241m=\u001b[39m \u001b[43mnapari\u001b[49m\u001b[38;5;241;43m.\u001b[39;49m\u001b[43mview_image\u001b[49m\u001b[43m(\u001b[49m\u001b[43mstack\u001b[49m\u001b[43m)\u001b[49m\n",
      "File \u001b[0;32m~/Neuroscience/Code/venv/lib/python3.8/site-packages/napari/view_layers.py:143\u001b[0m, in \u001b[0;36mview_image\u001b[0;34m(*args, **kwargs)\u001b[0m\n\u001b[1;32m    141\u001b[0m \u001b[38;5;129m@_merge_layer_viewer_sigs_docs\u001b[39m\n\u001b[1;32m    142\u001b[0m \u001b[38;5;28;01mdef\u001b[39;00m \u001b[38;5;21mview_image\u001b[39m(\u001b[38;5;241m*\u001b[39margs, \u001b[38;5;241m*\u001b[39m\u001b[38;5;241m*\u001b[39mkwargs):\n\u001b[0;32m--> 143\u001b[0m     \u001b[38;5;28;01mreturn\u001b[39;00m \u001b[43m_make_viewer_then\u001b[49m\u001b[43m(\u001b[49m\u001b[38;5;124;43m'\u001b[39;49m\u001b[38;5;124;43madd_image\u001b[39;49m\u001b[38;5;124;43m'\u001b[39;49m\u001b[43m,\u001b[49m\u001b[43m \u001b[49m\u001b[43margs\u001b[49m\u001b[43m,\u001b[49m\u001b[43m \u001b[49m\u001b[43mkwargs\u001b[49m\u001b[43m)\u001b[49m\n",
      "File \u001b[0;32m~/Neuroscience/Code/venv/lib/python3.8/site-packages/napari/view_layers.py:122\u001b[0m, in \u001b[0;36m_make_viewer_then\u001b[0;34m(add_method, args, kwargs)\u001b[0m\n\u001b[1;32m    118\u001b[0m \u001b[38;5;66;03m# separate dims kwargs because we want to set those after adding data\u001b[39;00m\n\u001b[1;32m    119\u001b[0m dims_kwargs \u001b[38;5;241m=\u001b[39m {\n\u001b[1;32m    120\u001b[0m     k: vkwargs\u001b[38;5;241m.\u001b[39mpop(k) \u001b[38;5;28;01mfor\u001b[39;00m k \u001b[38;5;129;01min\u001b[39;00m \u001b[38;5;28mlist\u001b[39m(vkwargs) \u001b[38;5;28;01mif\u001b[39;00m k \u001b[38;5;129;01min\u001b[39;00m _dims_params\n\u001b[1;32m    121\u001b[0m }\n\u001b[0;32m--> 122\u001b[0m viewer \u001b[38;5;241m=\u001b[39m \u001b[43mViewer\u001b[49m\u001b[43m(\u001b[49m\u001b[38;5;241;43m*\u001b[39;49m\u001b[38;5;241;43m*\u001b[39;49m\u001b[43mvkwargs\u001b[49m\u001b[43m)\u001b[49m\n\u001b[1;32m    123\u001b[0m \u001b[38;5;28;01mif\u001b[39;00m \u001b[38;5;124m'\u001b[39m\u001b[38;5;124mkwargs\u001b[39m\u001b[38;5;124m'\u001b[39m \u001b[38;5;129;01min\u001b[39;00m kwargs:\n\u001b[1;32m    124\u001b[0m     kwargs\u001b[38;5;241m.\u001b[39mupdate(kwargs\u001b[38;5;241m.\u001b[39mpop(\u001b[38;5;124m\"\u001b[39m\u001b[38;5;124mkwargs\u001b[39m\u001b[38;5;124m\"\u001b[39m))\n",
      "File \u001b[0;32m~/Neuroscience/Code/venv/lib/python3.8/site-packages/napari/viewer.py:57\u001b[0m, in \u001b[0;36mViewer.__init__\u001b[0;34m(self, title, ndisplay, order, axis_labels, show)\u001b[0m\n\u001b[1;32m     53\u001b[0m \u001b[38;5;66;03m# having this import here makes all of Qt imported lazily, upon\u001b[39;00m\n\u001b[1;32m     54\u001b[0m \u001b[38;5;66;03m# instantiating the first Viewer.\u001b[39;00m\n\u001b[1;32m     55\u001b[0m \u001b[38;5;28;01mfrom\u001b[39;00m \u001b[38;5;21;01m.\u001b[39;00m\u001b[38;5;21;01mwindow\u001b[39;00m \u001b[38;5;28;01mimport\u001b[39;00m Window\n\u001b[0;32m---> 57\u001b[0m \u001b[38;5;28mself\u001b[39m\u001b[38;5;241m.\u001b[39m_window \u001b[38;5;241m=\u001b[39m \u001b[43mWindow\u001b[49m\u001b[43m(\u001b[49m\u001b[38;5;28;43mself\u001b[39;49m\u001b[43m,\u001b[49m\u001b[43m \u001b[49m\u001b[43mshow\u001b[49m\u001b[38;5;241;43m=\u001b[39;49m\u001b[43mshow\u001b[49m\u001b[43m)\u001b[49m\n\u001b[1;32m     58\u001b[0m \u001b[38;5;28mself\u001b[39m\u001b[38;5;241m.\u001b[39m_instances\u001b[38;5;241m.\u001b[39madd(\u001b[38;5;28mself\u001b[39m)\n",
      "File \u001b[0;32m~/Neuroscience/Code/venv/lib/python3.8/site-packages/napari/_qt/qt_main_window.py:409\u001b[0m, in \u001b[0;36mWindow.__init__\u001b[0;34m(self, viewer, show)\u001b[0m\n\u001b[1;32m    407\u001b[0m \u001b[38;5;28;01mdef\u001b[39;00m \u001b[38;5;21m__init__\u001b[39m(\u001b[38;5;28mself\u001b[39m, viewer: \u001b[38;5;124m'\u001b[39m\u001b[38;5;124mViewer\u001b[39m\u001b[38;5;124m'\u001b[39m, \u001b[38;5;241m*\u001b[39m, show: \u001b[38;5;28mbool\u001b[39m \u001b[38;5;241m=\u001b[39m \u001b[38;5;28;01mTrue\u001b[39;00m):\n\u001b[1;32m    408\u001b[0m     \u001b[38;5;66;03m# create QApplication if it doesn't already exist\u001b[39;00m\n\u001b[0;32m--> 409\u001b[0m     \u001b[43mget_app\u001b[49m\u001b[43m(\u001b[49m\u001b[43m)\u001b[49m\n\u001b[1;32m    411\u001b[0m     \u001b[38;5;66;03m# Dictionary holding dock widgets\u001b[39;00m\n\u001b[1;32m    412\u001b[0m     \u001b[38;5;28mself\u001b[39m\u001b[38;5;241m.\u001b[39m_dock_widgets: Dict[\n\u001b[1;32m    413\u001b[0m         \u001b[38;5;28mstr\u001b[39m, QtViewerDockWidget\n\u001b[1;32m    414\u001b[0m     ] \u001b[38;5;241m=\u001b[39m WeakValueDictionary()\n",
      "File \u001b[0;32m~/Neuroscience/Code/venv/lib/python3.8/site-packages/napari/_qt/qt_event_loop.py:154\u001b[0m, in \u001b[0;36mget_app\u001b[0;34m(app_name, app_version, icon, org_name, org_domain, app_id, ipy_interactive)\u001b[0m\n\u001b[1;32m    152\u001b[0m     app \u001b[38;5;241m=\u001b[39m QApplicationWithTracing(argv)\n\u001b[1;32m    153\u001b[0m \u001b[38;5;28;01melse\u001b[39;00m:\n\u001b[0;32m--> 154\u001b[0m     app \u001b[38;5;241m=\u001b[39m \u001b[43mQApplication\u001b[49m\u001b[43m(\u001b[49m\u001b[43margv\u001b[49m\u001b[43m)\u001b[49m\n\u001b[1;32m    156\u001b[0m \u001b[38;5;66;03m# if this is the first time the Qt app is being instantiated, we set\u001b[39;00m\n\u001b[1;32m    157\u001b[0m \u001b[38;5;66;03m# the name and metadata\u001b[39;00m\n\u001b[1;32m    158\u001b[0m app\u001b[38;5;241m.\u001b[39msetApplicationName(kwargs\u001b[38;5;241m.\u001b[39mget(\u001b[38;5;124m'\u001b[39m\u001b[38;5;124mapp_name\u001b[39m\u001b[38;5;124m'\u001b[39m))\n",
      "\u001b[0;31mKeyboardInterrupt\u001b[0m: "
     ]
    }
   ],
   "source": [
    "if VERBOSE:\n",
    "    w = napari.view_image(stack)"
   ]
  },
  {
   "cell_type": "markdown",
   "id": "9d9457fc",
   "metadata": {},
   "source": [
    "# Удаление пипетки"
   ]
  },
  {
   "cell_type": "code",
   "execution_count": 27,
   "id": "04fd3a5e",
   "metadata": {},
   "outputs": [],
   "source": [
    "import pipette_segmentation as ps"
   ]
  },
  {
   "cell_type": "code",
   "execution_count": null,
   "id": "39af6e47",
   "metadata": {},
   "outputs": [],
   "source": [
    "simple_mask = ps.make_simple_mask(stack)\n",
    "sato_mask = ps.make_sato_mask(stack)\n",
    "masks3 = ps.combine_masks(stack, simple_mask, sato_mask)\n",
    "\n",
    "vx = masks3.sum(axis=(1,2))\n",
    "vx_sato = ps.st_roll(sato_mask).sum(axis=(1,2))\n",
    "\n",
    "try:\n",
    "    kink = ps.find_kink(vx)\n",
    "except :\n",
    "    #print(E)\n",
    "    kink = len(vx)\n",
    "\n",
    "masks3a = masks3.copy()\n",
    "masks3a[kink:]=0\n",
    "masks3a = ucats.masks.largest_region(masks3a)\n",
    "\n",
    "masks3_final = masks3a if use_kink else masks3\n",
    "masks3_final = np.moveaxis(masks3_final,0,2)\n",
    "\n",
    "show_stack = (stack*(~(ndi.binary_dilation(masks3_final,iterations=3)))).astype(float64)"
   ]
  },
  {
   "cell_type": "code",
   "execution_count": null,
   "id": "215f9aa9",
   "metadata": {},
   "outputs": [],
   "source": []
  },
  {
   "cell_type": "code",
   "execution_count": null,
   "id": "a30636e7",
   "metadata": {},
   "outputs": [],
   "source": []
  },
  {
   "cell_type": "code",
   "execution_count": null,
   "id": "e092f023",
   "metadata": {},
   "outputs": [],
   "source": []
  },
  {
   "cell_type": "code",
   "execution_count": null,
   "id": "0fa8df64",
   "metadata": {},
   "outputs": [],
   "source": []
  }
 ],
 "metadata": {
  "kernelspec": {
   "display_name": "venv",
   "language": "python",
   "name": "venv"
  },
  "language_info": {
   "codemirror_mode": {
    "name": "ipython",
    "version": 3
   },
   "file_extension": ".py",
   "mimetype": "text/x-python",
   "name": "python",
   "nbconvert_exporter": "python",
   "pygments_lexer": "ipython3",
   "version": "3.8.10"
  },
  "toc": {
   "base_numbering": 1,
   "nav_menu": {},
   "number_sections": true,
   "sideBar": true,
   "skip_h1_title": false,
   "title_cell": "Table of Contents",
   "title_sidebar": "Contents",
   "toc_cell": false,
   "toc_position": {},
   "toc_section_display": true,
   "toc_window_display": false
  },
  "varInspector": {
   "cols": {
    "lenName": 16,
    "lenType": 16,
    "lenVar": 40
   },
   "kernels_config": {
    "python": {
     "delete_cmd_postfix": "",
     "delete_cmd_prefix": "del ",
     "library": "var_list.py",
     "varRefreshCmd": "print(var_dic_list())"
    },
    "r": {
     "delete_cmd_postfix": ") ",
     "delete_cmd_prefix": "rm(",
     "library": "var_list.r",
     "varRefreshCmd": "cat(var_dic_list()) "
    }
   },
   "types_to_exclude": [
    "module",
    "function",
    "builtin_function_or_method",
    "instance",
    "_Feature"
   ],
   "window_display": false
  }
 },
 "nbformat": 4,
 "nbformat_minor": 5
}
