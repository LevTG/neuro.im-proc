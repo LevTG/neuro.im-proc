{
 "cells": [
  {
   "cell_type": "markdown",
   "id": "55244e94",
   "metadata": {
    "toc": true
   },
   "source": [
    "<h1>Table of Contents<span class=\"tocSkip\"></span></h1>\n",
    "<div class=\"toc\"><ul class=\"toc-item\"><li><span><a href=\"#Параметры-для-запуска\" data-toc-modified-id=\"Параметры-для-запуска-1\">Параметры для запуска</a></span></li><li><span><a href=\"#Чтение-данных\" data-toc-modified-id=\"Чтение-данных-2\">Чтение данных</a></span></li></ul></div>"
   ]
  },
  {
   "cell_type": "code",
   "execution_count": 1,
   "id": "4e572b89",
   "metadata": {},
   "outputs": [],
   "source": [
    "import os\n",
    "import sys"
   ]
  },
  {
   "cell_type": "code",
   "execution_count": 2,
   "id": "6fd9d251",
   "metadata": {},
   "outputs": [],
   "source": [
    "from tqdm.auto import tqdm"
   ]
  },
  {
   "cell_type": "code",
   "execution_count": 3,
   "id": "922d596f",
   "metadata": {},
   "outputs": [],
   "source": [
    "import napari"
   ]
  },
  {
   "cell_type": "code",
   "execution_count": 4,
   "id": "a1598024",
   "metadata": {},
   "outputs": [],
   "source": [
    "import scipy\n",
    "from scipy import ndimage as ndi\n",
    "import numpy as np\n",
    "import networkx as nx\n",
    "\n",
    "from pathlib import Path"
   ]
  },
  {
   "cell_type": "code",
   "execution_count": 5,
   "id": "c9a95bcd",
   "metadata": {},
   "outputs": [],
   "source": [
    "import matplotlib.pyplot as plt\n",
    "%matplotlib inline"
   ]
  },
  {
   "cell_type": "code",
   "execution_count": 6,
   "id": "f13fdcf1",
   "metadata": {},
   "outputs": [],
   "source": [
    "import pickle\n",
    "from astrocyte import Astrocyte"
   ]
  },
  {
   "cell_type": "code",
   "execution_count": 7,
   "id": "01b06554",
   "metadata": {},
   "outputs": [
    {
     "name": "stdout",
     "output_type": "stream",
     "text": [
      "Can't load imreg package, affine and homography registrations won't work\n"
     ]
    },
    {
     "name": "stderr",
     "output_type": "stream",
     "text": [
      "/home/levtg/astro-morpho/venv/lib64/python3.10/site-packages/imfun/external/tifffile.py:7261: UserWarning: No module named 'imfun.external._tifffile'\n",
      "  Functionality might be degraded or be slow.\n",
      "\n",
      "  warnings.warn(\"%s%s\" % (e, warn))\n",
      "/home/levtg/astro-morpho/venv/lib64/python3.10/site-packages/imfun/external/czifile.py:146: UserWarning: ImportError: No module named '_czifile'. Decoding of JXR and JPEG encoded images will not be available. Czifile.pyx can be obtained at http://www.lfd.uci.edu/~gohlke/\n",
      "  warnings.warn(\n",
      "2022-08-31 16:30:03.727136: W tensorflow/stream_executor/platform/default/dso_loader.cc:64] Could not load dynamic library 'libcudart.so.11.0'; dlerror: libcudart.so.11.0: cannot open shared object file: No such file or directory; LD_LIBRARY_PATH: /home/levtg/astro-morpho/venv/lib/python3.10/site-packages/cv2/../../lib64:/home/levtg/v3d_external/v3d_main/common_lib/lib/\n",
      "2022-08-31 16:30:03.727157: I tensorflow/stream_executor/cuda/cudart_stub.cc:29] Ignore above cudart dlerror if you do not have a GPU set up on your machine.\n"
     ]
    }
   ],
   "source": [
    "import ccdb\n",
    "import astromorpho as astro"
   ]
  },
  {
   "cell_type": "code",
   "execution_count": 8,
   "id": "fa3035d6",
   "metadata": {},
   "outputs": [],
   "source": [
    "import graph_utils as gu  \n",
    "import visualization as vis"
   ]
  },
  {
   "cell_type": "code",
   "execution_count": 181,
   "id": "3f44b989",
   "metadata": {},
   "outputs": [],
   "source": [
    "import networkx as nx"
   ]
  },
  {
   "cell_type": "code",
   "execution_count": 9,
   "id": "0e8088cd",
   "metadata": {},
   "outputs": [],
   "source": [
    "from networx2napari import draw_edges, draw_nodes"
   ]
  },
  {
   "cell_type": "code",
   "execution_count": 160,
   "id": "1962b097",
   "metadata": {},
   "outputs": [],
   "source": [
    "import astro_graph"
   ]
  },
  {
   "cell_type": "markdown",
   "id": "1f278f8b",
   "metadata": {},
   "source": [
    "# Параметры для запуска"
   ]
  },
  {
   "cell_type": "code",
   "execution_count": 10,
   "id": "ed936674",
   "metadata": {},
   "outputs": [],
   "source": [
    "if os.path.exists('/home/levtg/astro-morpho'):\n",
    "#     data_dir = '/home/levtg/astro-morpho/data/graphs'\n",
    "    data_dir = '/home/levtg/astro-morpho/src/output/'\n",
    "else:\n",
    "    print(\"Dont know where to look for the data\")\n",
    "\n",
    "output_dir = './output/'\n",
    "\n",
    "filename = '4wk-ly9-raw.pic-sequential_graph.pickle' # Octopus\n",
    "\n",
    "VERBOSE = True\n",
    "\n",
    "# Set false to start from console\n",
    "HANDY = True\n",
    "\n",
    "# Set true to save output\n",
    "OUT = False"
   ]
  },
  {
   "cell_type": "markdown",
   "id": "146439f4",
   "metadata": {},
   "source": [
    "# Чтение данных"
   ]
  },
  {
   "cell_type": "code",
   "execution_count": 146,
   "id": "6a414e41",
   "metadata": {},
   "outputs": [
    {
     "data": {
      "text/plain": [
       "PosixPath('/home/levtg/astro-morpho/src/output/4wk-ly9-raw.pic-sequential_graph.pickle')"
      ]
     },
     "execution_count": 146,
     "metadata": {},
     "output_type": "execute_result"
    }
   ],
   "source": [
    "filepath = Path(data_dir).joinpath(filename)\n",
    "filepath"
   ]
  },
  {
   "cell_type": "code",
   "execution_count": 197,
   "id": "4c18c625",
   "metadata": {},
   "outputs": [
    {
     "name": "stdout",
     "output_type": "stream",
     "text": [
      "CPU times: user 34.6 ms, sys: 44.6 ms, total: 79.2 ms\n",
      "Wall time: 78.5 ms\n"
     ]
    }
   ],
   "source": [
    "%time data = pickle.load(open(filepath, 'rb'))"
   ]
  },
  {
   "cell_type": "code",
   "execution_count": 148,
   "id": "ca1a9876",
   "metadata": {},
   "outputs": [
    {
     "name": "stderr",
     "output_type": "stream",
     "text": [
      "WARNING: could not determine DPI\n",
      "/home/levtg/astro-morpho/venv/lib64/python3.10/site-packages/napari_tools_menu/__init__.py:179: FutureWarning: Public access to Window.qt_viewer is deprecated and will be removed in\n",
      "v0.5.0. It is considered an \"implementation detail\" of the napari\n",
      "application, not part of the napari viewer model. If your use case\n",
      "requires access to qt_viewer, please open an issue to discuss.\n",
      "  self.tools_menu = ToolsMenu(self, self.qt_viewer.viewer)\n"
     ]
    }
   ],
   "source": [
    "w =  napari.view_image(data.image, ndisplay=3, opacity=0.5)\n",
    "vis.view_graph_as_colored_image(data.graph, data.parameters['shape'], w);"
   ]
  },
  {
   "cell_type": "code",
   "execution_count": 149,
   "id": "1f5a169d",
   "metadata": {},
   "outputs": [
    {
     "data": {
      "text/plain": [
       "{(18, 153, 172),\n",
       " (19, 159, 170),\n",
       " (19, 159, 171),\n",
       " (20, 132, 173),\n",
       " (20, 159, 169),\n",
       " (20, 160, 170),\n",
       " (21, 144, 170),\n",
       " (21, 156, 167),\n",
       " (21, 158, 169),\n",
       " (21, 159, 170),\n",
       " (22, 130, 176),\n",
       " (22, 145, 170),\n",
       " (22, 148, 167),\n",
       " (22, 149, 166),\n",
       " (22, 167, 195),\n",
       " (23, 135, 194),\n",
       " (23, 147, 169),\n",
       " (23, 151, 167),\n",
       " (27, 170, 190),\n",
       " (27, 173, 187),\n",
       " (28, 170, 189),\n",
       " (29, 161, 183),\n",
       " (29, 170, 182),\n",
       " (30, 166, 181)}"
      ]
     },
     "execution_count": 149,
     "metadata": {},
     "output_type": "execute_result"
    }
   ],
   "source": [
    "roots = gu.get_roots(data.graph)\n",
    "roots"
   ]
  },
  {
   "cell_type": "code",
   "execution_count": 191,
   "id": "f742e2b2",
   "metadata": {},
   "outputs": [],
   "source": [
    "branches = {}\n",
    "for root in roots:\n",
    "    branches[root] = astro_graph.AstroGraph(gu.filter_graph(data.graph, lambda node: node['root'] == root))"
   ]
  },
  {
   "cell_type": "markdown",
   "id": "0799e9a4",
   "metadata": {},
   "source": [
    "Смотрим на веточки"
   ]
  },
  {
   "cell_type": "code",
   "execution_count": 151,
   "id": "24d1aa56",
   "metadata": {},
   "outputs": [
    {
     "name": "stderr",
     "output_type": "stream",
     "text": [
      "WARNING: could not determine DPI\n",
      "/home/levtg/astro-morpho/venv/lib64/python3.10/site-packages/napari_tools_menu/__init__.py:179: FutureWarning: Public access to Window.qt_viewer is deprecated and will be removed in\n",
      "v0.5.0. It is considered an \"implementation detail\" of the napari\n",
      "application, not part of the napari viewer model. If your use case\n",
      "requires access to qt_viewer, please open an issue to discuss.\n",
      "  self.tools_menu = ToolsMenu(self, self.qt_viewer.viewer)\n"
     ]
    }
   ],
   "source": [
    "import itertools as itt\n",
    "\n",
    "w = napari.view_image(data.image, opacity=0.5)\n",
    "pos = {node: node for node in data.graph.nodes}\n",
    "\n",
    "colors = ['blue', 'red', 'yellow', 'cyan', 'green', 'magenta', 'bop orange']\n",
    "for branch, color in zip(branches.values(), itt.cycle(colors)):\n",
    "    img = np.zeros(data.image.shape)\n",
    "    points = draw_nodes(pos, branch.nodes)\n",
    "    img[points[:, 0], points[:, 1], points[:, 2]] = 1\n",
    "    w.add_image(img, colormap=color, blending='additive')\n",
    "napari.run()"
   ]
  },
  {
   "cell_type": "code",
   "execution_count": 152,
   "id": "91779885",
   "metadata": {},
   "outputs": [],
   "source": [
    "roots_arr = np.array(list(roots))"
   ]
  },
  {
   "cell_type": "markdown",
   "id": "8d1de38d",
   "metadata": {},
   "source": [
    "Объединяем ветки в пучки основываясь на расстоянии между корневыми точками"
   ]
  },
  {
   "cell_type": "code",
   "execution_count": 153,
   "id": "ac1f9134",
   "metadata": {
    "scrolled": true
   },
   "outputs": [],
   "source": [
    "bunches = []\n",
    "min_dist = 4\n",
    "\n",
    "for root in roots:\n",
    "    roots_dists = np.linalg.norm(root - roots_arr, axis=-1)\n",
    "#     for r, d in zip(roots_arr[roots_dists < min_dist], roots_dists[roots_dists < min_dist]):\n",
    "#         print(root , r, d)\n",
    "    neighbours = [tuple(r) for r in roots_arr[roots_dists < min_dist]]\n",
    "    STOP=False\n",
    "    for bunch in bunches:\n",
    "        for n in neighbours:\n",
    "            if n in bunch:\n",
    "                bunch.update(neighbours)\n",
    "                STOP = True\n",
    "                continue\n",
    "        \n",
    "        if STOP:\n",
    "            break\n",
    "    if not STOP:\n",
    "        bunches.append(set(neighbours))"
   ]
  },
  {
   "cell_type": "markdown",
   "id": "4990b547",
   "metadata": {},
   "source": [
    "Часть пучков содержит одни и те же ветки. Объеденим такие пучки в один, а лишние удалим"
   ]
  },
  {
   "cell_type": "code",
   "execution_count": 154,
   "id": "f0cc2444",
   "metadata": {},
   "outputs": [],
   "source": [
    "set2del = []\n",
    "\n",
    "for i, cur_bunch in enumerate(bunches[:-1]):\n",
    "    FOUND = False\n",
    "    for node in cur_bunch:\n",
    "        for bunch in bunches[i+1:]:\n",
    "            if node in bunch:\n",
    "                bunch.update(cur_bunch)\n",
    "                set2del.append(i)\n",
    "                FOUND = True\n",
    "                break\n",
    "        if FOUND:\n",
    "            break\n"
   ]
  },
  {
   "cell_type": "code",
   "execution_count": 155,
   "id": "d055ea9d",
   "metadata": {},
   "outputs": [
    {
     "data": {
      "text/plain": [
       "{(21, 144, 170),\n",
       " (22, 145, 170),\n",
       " (22, 148, 167),\n",
       " (22, 149, 166),\n",
       " (23, 147, 169),\n",
       " (23, 151, 167)}"
      ]
     },
     "execution_count": 155,
     "metadata": {},
     "output_type": "execute_result"
    }
   ],
   "source": [
    "bunches.pop(*set2del)"
   ]
  },
  {
   "cell_type": "markdown",
   "id": "12699745",
   "metadata": {},
   "source": [
    "Смотрим на результат"
   ]
  },
  {
   "cell_type": "code",
   "execution_count": 156,
   "id": "041047fb",
   "metadata": {},
   "outputs": [
    {
     "name": "stderr",
     "output_type": "stream",
     "text": [
      "WARNING: could not determine DPI\n",
      "/home/levtg/astro-morpho/venv/lib64/python3.10/site-packages/napari_tools_menu/__init__.py:179: FutureWarning: Public access to Window.qt_viewer is deprecated and will be removed in\n",
      "v0.5.0. It is considered an \"implementation detail\" of the napari\n",
      "application, not part of the napari viewer model. If your use case\n",
      "requires access to qt_viewer, please open an issue to discuss.\n",
      "  self.tools_menu = ToolsMenu(self, self.qt_viewer.viewer)\n"
     ]
    }
   ],
   "source": [
    "w = napari.view_image(data.image, opacity=0.5)\n",
    "pos = {node: node for node in data.graph.nodes}\n",
    "colors = ['blue', 'red', 'yellow', 'cyan', 'green', 'magenta', 'bop orange']\n",
    "\n",
    "\n",
    "for bunch, color in zip(bunches, itt.cycle(colors)):\n",
    "    img = np.zeros(data.image.shape)\n",
    "    for root in bunch:\n",
    "        points = draw_nodes(pos, branches[root].nodes)\n",
    "        img[points[:, 0], points[:, 1], points[:, 2]] = 1\n",
    "    w.add_image(img, colormap=color, blending='additive')"
   ]
  },
  {
   "cell_type": "markdown",
   "id": "e39a5571",
   "metadata": {},
   "source": [
    "Выбираем рандомный пучок"
   ]
  },
  {
   "cell_type": "code",
   "execution_count": 157,
   "id": "f9be0503",
   "metadata": {},
   "outputs": [],
   "source": [
    "bunch = bunches[2]"
   ]
  },
  {
   "cell_type": "code",
   "execution_count": 158,
   "id": "adcce62f",
   "metadata": {},
   "outputs": [
    {
     "name": "stderr",
     "output_type": "stream",
     "text": [
      "WARNING: could not determine DPI\n",
      "/home/levtg/astro-morpho/venv/lib64/python3.10/site-packages/napari_tools_menu/__init__.py:179: FutureWarning: Public access to Window.qt_viewer is deprecated and will be removed in\n",
      "v0.5.0. It is considered an \"implementation detail\" of the napari\n",
      "application, not part of the napari viewer model. If your use case\n",
      "requires access to qt_viewer, please open an issue to discuss.\n",
      "  self.tools_menu = ToolsMenu(self, self.qt_viewer.viewer)\n"
     ]
    },
    {
     "data": {
      "text/plain": [
       "<Image layer 'img' at 0x7f50722a25c0>"
      ]
     },
     "execution_count": 158,
     "metadata": {},
     "output_type": "execute_result"
    }
   ],
   "source": [
    "w = napari.view_image(data.image, opacity=0.5)\n",
    "\n",
    "img = np.zeros(data.image.shape)\n",
    "for root in bunch:\n",
    "    points = draw_nodes(pos, branches[root].nodes)\n",
    "    img[points[:, 0], points[:, 1], points[:, 2]] = 1\n",
    "w.add_image(img, colormap=color, blending='additive')"
   ]
  },
  {
   "cell_type": "markdown",
   "id": "d9159267",
   "metadata": {},
   "source": [
    "Определяем основную ветку к которой будем прикреплять остальные. Основной считается ветка с наибольшим количеством точек"
   ]
  },
  {
   "cell_type": "code",
   "execution_count": 258,
   "id": "5b13af1f",
   "metadata": {},
   "outputs": [],
   "source": [
    "def choose_main_branch(bunch, branches):\n",
    "    max_mass = 0\n",
    "    for branch_root in bunch:\n",
    "        branch = branches[branch_root]\n",
    "        branch_mass = len(branch.nodes)\n",
    "        if branch_mass > max_mass:\n",
    "            max_mass = branch_mass\n",
    "            main_branch_root = branch_root\n",
    "            main_branch = branches[main_branch_root]\n",
    "    return main_branch_root, main_branch"
   ]
  },
  {
   "cell_type": "markdown",
   "id": "1496dd28",
   "metadata": {},
   "source": [
    "Выбираем первый (ближайший к корню) участок ветки и рассматриваем его положение относительно основной ветки. "
   ]
  },
  {
   "cell_type": "code",
   "execution_count": 161,
   "id": "80c8debd",
   "metadata": {},
   "outputs": [
    {
     "name": "stderr",
     "output_type": "stream",
     "text": [
      "WARNING: could not determine DPI\n",
      "/home/levtg/astro-morpho/venv/lib64/python3.10/site-packages/napari_tools_menu/__init__.py:179: FutureWarning: Public access to Window.qt_viewer is deprecated and will be removed in\n",
      "v0.5.0. It is considered an \"implementation detail\" of the napari\n",
      "application, not part of the napari viewer model. If your use case\n",
      "requires access to qt_viewer, please open an issue to discuss.\n",
      "  self.tools_menu = ToolsMenu(self, self.qt_viewer.viewer)\n"
     ]
    }
   ],
   "source": [
    "# w = napari.view_image(data.image, opacity=0.5)\n",
    "# pos = {node: node for node in data.graph.nodes}\n",
    "\n",
    "# for branch, color in zip(bunch, itt.cycle(colors)):\n",
    "#     img = np.zeros(data.image.shape)\n",
    "#     astroGraph = astro_graph.AstroGraph(branches[branch])\n",
    "#     path = list(astroGraph.graph_to_paths().values())[0][0]\n",
    "#     points = draw_nodes(pos, path)\n",
    "    \n",
    "#     img[points[:, 0], points[:, 1], points[:, 2]] = 1\n",
    "#     w.add_image(img, colormap=color, blending='additive')    "
   ]
  },
  {
   "cell_type": "code",
   "execution_count": 162,
   "id": "ab900db9",
   "metadata": {},
   "outputs": [
    {
     "data": {
      "text/plain": [
       "<Image layer 'main branch' at 0x7f528c83a1a0>"
      ]
     },
     "execution_count": 162,
     "metadata": {},
     "output_type": "execute_result"
    }
   ],
   "source": [
    "# # Adding main branch\n",
    "# img = np.zeros(data.image.shape)\n",
    "# astroGraph = astro_graph.AstroGraph(branches[main_branch_root])\n",
    "# path = list(astroGraph.graph_to_paths().values())[0][0]\n",
    "# points = draw_nodes(pos, path)\n",
    "\n",
    "# img[points[:, 0], points[:, 1], points[:, 2]] = 1\n",
    "# w.add_image(img, colormap='gray', blending='additive', name='main branch') "
   ]
  },
  {
   "cell_type": "markdown",
   "id": "98158f0b",
   "metadata": {},
   "source": [
    "Выбираем первый (ближайший к корню) участок ветки и рассматриваем его положение относительно основной ветки. Если расстояние между ветками от корневых точек не увеличивается, то точки расссматриваемой ветки удалаются, а последующая соединяется с соответствующей точкой на основной ветке"
   ]
  },
  {
   "cell_type": "code",
   "execution_count": 172,
   "id": "581635f2",
   "metadata": {},
   "outputs": [],
   "source": [
    "# def draw_points(viewer, points, img_shape, color='red'):\n",
    "#     img = np.zeros(img_shape)\n",
    "#     img[points[:, 0], points[:, 1], points[:, 2]] = 1\n",
    "#     viewer.add_image(img, colormap=color, blending='additive')"
   ]
  },
  {
   "cell_type": "code",
   "execution_count": 260,
   "id": "ebf1fea7",
   "metadata": {
    "scrolled": false
   },
   "outputs": [
    {
     "data": {
      "application/vnd.jupyter.widget-view+json": {
       "model_id": "856662baa0734fb390e1e2fc1fc2a43a",
       "version_major": 2,
       "version_minor": 0
      },
      "text/plain": [
       "  0%|          | 0/1 [00:00<?, ?it/s]"
      ]
     },
     "metadata": {},
     "output_type": "display_data"
    },
    {
     "data": {
      "application/vnd.jupyter.widget-view+json": {
       "model_id": "9b93fef4d08d4f39b7a60d72ce61df75",
       "version_major": 2,
       "version_minor": 0
      },
      "text/plain": [
       "  0%|          | 0/1 [00:00<?, ?it/s]"
      ]
     },
     "metadata": {},
     "output_type": "display_data"
    },
    {
     "data": {
      "application/vnd.jupyter.widget-view+json": {
       "model_id": "56eb9929bd5d488dbb08306f7e4c97c5",
       "version_major": 2,
       "version_minor": 0
      },
      "text/plain": [
       "  0%|          | 0/7 [00:00<?, ?it/s]"
      ]
     },
     "metadata": {},
     "output_type": "display_data"
    },
    {
     "data": {
      "application/vnd.jupyter.widget-view+json": {
       "model_id": "7831b510d94843db947b996c7acdba5b",
       "version_major": 2,
       "version_minor": 0
      },
      "text/plain": [
       "  0%|          | 0/1 [00:00<?, ?it/s]"
      ]
     },
     "metadata": {},
     "output_type": "display_data"
    },
    {
     "data": {
      "application/vnd.jupyter.widget-view+json": {
       "model_id": "9344ea5e9b09404a85c21a7ccda07797",
       "version_major": 2,
       "version_minor": 0
      },
      "text/plain": [
       "  0%|          | 0/3 [00:00<?, ?it/s]"
      ]
     },
     "metadata": {},
     "output_type": "display_data"
    },
    {
     "data": {
      "application/vnd.jupyter.widget-view+json": {
       "model_id": "94e1ac2954e9498ba2d3a7a5d2b88985",
       "version_major": 2,
       "version_minor": 0
      },
      "text/plain": [
       "  0%|          | 0/1 [00:00<?, ?it/s]"
      ]
     },
     "metadata": {},
     "output_type": "display_data"
    },
    {
     "data": {
      "application/vnd.jupyter.widget-view+json": {
       "model_id": "af145704e82d431c8ac48d1c0cfd9841",
       "version_major": 2,
       "version_minor": 0
      },
      "text/plain": [
       "  0%|          | 0/1 [00:00<?, ?it/s]"
      ]
     },
     "metadata": {},
     "output_type": "display_data"
    },
    {
     "data": {
      "application/vnd.jupyter.widget-view+json": {
       "model_id": "faafa5f72aee4a8b980666026ac8fda1",
       "version_major": 2,
       "version_minor": 0
      },
      "text/plain": [
       "  0%|          | 0/1 [00:00<?, ?it/s]"
      ]
     },
     "metadata": {},
     "output_type": "display_data"
    },
    {
     "data": {
      "application/vnd.jupyter.widget-view+json": {
       "model_id": "4abde3029b594a6a87393031f49c79d7",
       "version_major": 2,
       "version_minor": 0
      },
      "text/plain": [
       "  0%|          | 0/6 [00:00<?, ?it/s]"
      ]
     },
     "metadata": {},
     "output_type": "display_data"
    },
    {
     "data": {
      "application/vnd.jupyter.widget-view+json": {
       "model_id": "db197a011dd849d8a7852b2bc209eb9e",
       "version_major": 2,
       "version_minor": 0
      },
      "text/plain": [
       "  0%|          | 0/1 [00:00<?, ?it/s]"
      ]
     },
     "metadata": {},
     "output_type": "display_data"
    },
    {
     "data": {
      "application/vnd.jupyter.widget-view+json": {
       "model_id": "f27d94a4678b451d9439277dc02fa55c",
       "version_major": 2,
       "version_minor": 0
      },
      "text/plain": [
       "  0%|          | 0/1 [00:00<?, ?it/s]"
      ]
     },
     "metadata": {},
     "output_type": "display_data"
    }
   ],
   "source": [
    "for bunch in bunches:\n",
    "    main_branch_root, main_branch = choose_main_branch(bunch, branches)\n",
    "    main_branch_path = [main_branch_root] + list(main_branch.graph_to_paths().values())[0][0]\n",
    "    main_branch_points = draw_nodes(pos, main_branch_path)\n",
    "\n",
    "    for branch_root in tqdm(bunch):\n",
    "        if branch_root == main_branch_root:\n",
    "            continue\n",
    "        branch = branches[branch_root]\n",
    "        nx.set_node_attributes(data.graph, {p: main_branch_root for p in branch.nodes()}, name='root')\n",
    "        \n",
    "        branch_paths = list(branch.graph_to_paths().values())\n",
    "        path = [branch_root] + branch_paths[0][0]\n",
    "        points = draw_nodes(pos, path)\n",
    "        \n",
    "        count = min(len(points), len(main_branch_points))\n",
    "        dists = np.linalg.norm(points[:count] - main_branch_points[:count], axis=-1)\n",
    "\n",
    "        for p, mbp, d in zip(points[:count], main_branch_points[:count], dists):\n",
    "            point = p\n",
    "            mb_point = mbp\n",
    "            if d <= dists[0]:\n",
    "                data.graph.remove_node(tuple(p))\n",
    "            else:\n",
    "                break\n",
    "\n",
    "        else:\n",
    "            if tuple(point) == branch_paths[0][0][-1]:\n",
    "                point = np.array(branch_paths[0][1][1])\n",
    "\n",
    "        cur_p = mb_point \n",
    "        prev_p = mb_point\n",
    "        end_p = point\n",
    "        azi = np.array([*np.sign(end_p - cur_p)])\n",
    "\n",
    "        while tuple(cur_p) != tuple(end_p):\n",
    "            cur_p = np.clip(cur_p + azi, np.min([point, mb_point], axis=0), np.max([point, mb_point], axis=0))\n",
    "            data.graph.add_node(tuple(cur_p), root=main_branch_root) #Add another parameters\n",
    "            data.graph.add_edge(tuple(prev_p), tuple(cur_p))\n",
    "            prev_p = cur_p"
   ]
  },
  {
   "cell_type": "code",
   "execution_count": 261,
   "id": "4a0edf82",
   "metadata": {},
   "outputs": [
    {
     "name": "stderr",
     "output_type": "stream",
     "text": [
      "WARNING: could not determine DPI\n",
      "/home/levtg/astro-morpho/venv/lib64/python3.10/site-packages/napari_tools_menu/__init__.py:179: FutureWarning: Public access to Window.qt_viewer is deprecated and will be removed in\n",
      "v0.5.0. It is considered an \"implementation detail\" of the napari\n",
      "application, not part of the napari viewer model. If your use case\n",
      "requires access to qt_viewer, please open an issue to discuss.\n",
      "  self.tools_menu = ToolsMenu(self, self.qt_viewer.viewer)\n"
     ]
    }
   ],
   "source": [
    "w =  napari.view_image(data.image, ndisplay=3, opacity=0.5)\n",
    "vis.view_graph_as_colored_image(data.graph, data.parameters['shape'], w);"
   ]
  },
  {
   "cell_type": "code",
   "execution_count": 81,
   "id": "7665104c",
   "metadata": {},
   "outputs": [
    {
     "data": {
      "text/plain": [
       "array([ 28, 131, 142])"
      ]
     },
     "execution_count": 81,
     "metadata": {},
     "output_type": "execute_result"
    }
   ],
   "source": [
    "# np.clip(p+np.array([*np.sign(ep - p)]), np.min([p, ep], axis=0), np.max([p, ep], axis=0))"
   ]
  },
  {
   "cell_type": "code",
   "execution_count": null,
   "id": "55a04c1c",
   "metadata": {},
   "outputs": [],
   "source": []
  }
 ],
 "metadata": {
  "kernelspec": {
   "display_name": "venv",
   "language": "python",
   "name": "venv"
  },
  "language_info": {
   "codemirror_mode": {
    "name": "ipython",
    "version": 3
   },
   "file_extension": ".py",
   "mimetype": "text/x-python",
   "name": "python",
   "nbconvert_exporter": "python",
   "pygments_lexer": "ipython3",
   "version": "3.10.5"
  },
  "toc": {
   "base_numbering": 1,
   "nav_menu": {},
   "number_sections": false,
   "sideBar": true,
   "skip_h1_title": false,
   "title_cell": "Table of Contents",
   "title_sidebar": "Contents",
   "toc_cell": true,
   "toc_position": {
    "height": "calc(100% - 180px)",
    "left": "10px",
    "top": "150px",
    "width": "165px"
   },
   "toc_section_display": true,
   "toc_window_display": true
  }
 },
 "nbformat": 4,
 "nbformat_minor": 5
}
