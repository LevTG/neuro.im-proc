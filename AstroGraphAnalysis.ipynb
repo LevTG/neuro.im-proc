{
 "cells": [
  {
   "cell_type": "markdown",
   "id": "55244e94",
   "metadata": {
    "toc": true
   },
   "source": [
    "<h1>Table of Contents<span class=\"tocSkip\"></span></h1>\n",
    "<div class=\"toc\"><ul class=\"toc-item\"><li><span><a href=\"#Параметры-для-запуска\" data-toc-modified-id=\"Параметры-для-запуска-1\">Параметры для запуска</a></span></li><li><span><a href=\"#Чтение-данных\" data-toc-modified-id=\"Чтение-данных-2\">Чтение данных</a></span></li></ul></div>"
   ]
  },
  {
   "cell_type": "code",
   "execution_count": 1,
   "id": "4e572b89",
   "metadata": {},
   "outputs": [],
   "source": [
    "import os\n",
    "import sys"
   ]
  },
  {
   "cell_type": "code",
   "execution_count": 2,
   "id": "6fd9d251",
   "metadata": {},
   "outputs": [],
   "source": [
    "from tqdm.auto import tqdm"
   ]
  },
  {
   "cell_type": "code",
   "execution_count": 3,
   "id": "922d596f",
   "metadata": {},
   "outputs": [],
   "source": [
    "import napari"
   ]
  },
  {
   "cell_type": "code",
   "execution_count": 4,
   "id": "a1598024",
   "metadata": {},
   "outputs": [],
   "source": [
    "import scipy\n",
    "from scipy import ndimage as ndi\n",
    "import numpy as np\n",
    "import networkx as nx\n",
    "\n",
    "from pathlib import Path"
   ]
  },
  {
   "cell_type": "code",
   "execution_count": 5,
   "id": "c9a95bcd",
   "metadata": {},
   "outputs": [],
   "source": [
    "import matplotlib.pyplot as plt\n",
    "%matplotlib inline"
   ]
  },
  {
   "cell_type": "code",
   "execution_count": 6,
   "id": "f13fdcf1",
   "metadata": {},
   "outputs": [],
   "source": [
    "import pickle\n",
    "from astrocyte import Astrocyte"
   ]
  },
  {
   "cell_type": "code",
   "execution_count": 7,
   "id": "01b06554",
   "metadata": {},
   "outputs": [
    {
     "name": "stdout",
     "output_type": "stream",
     "text": [
      "Can't load imreg package, affine and homography registrations won't work\n"
     ]
    },
    {
     "name": "stderr",
     "output_type": "stream",
     "text": [
      "/home/levtg/astro-morpho/venv/lib64/python3.10/site-packages/imfun/external/tifffile.py:7261: UserWarning: No module named 'imfun.external._tifffile'\n",
      "  Functionality might be degraded or be slow.\n",
      "\n",
      "  warnings.warn(\"%s%s\" % (e, warn))\n",
      "/home/levtg/astro-morpho/venv/lib64/python3.10/site-packages/imfun/external/czifile.py:146: UserWarning: ImportError: No module named '_czifile'. Decoding of JXR and JPEG encoded images will not be available. Czifile.pyx can be obtained at http://www.lfd.uci.edu/~gohlke/\n",
      "  warnings.warn(\n",
      "2022-09-06 14:23:45.692944: W tensorflow/stream_executor/platform/default/dso_loader.cc:64] Could not load dynamic library 'libcudart.so.11.0'; dlerror: libcudart.so.11.0: cannot open shared object file: No such file or directory; LD_LIBRARY_PATH: /home/levtg/astro-morpho/venv/lib/python3.10/site-packages/cv2/../../lib64:/home/levtg/v3d_external/v3d_main/common_lib/lib/\n",
      "2022-09-06 14:23:45.692967: I tensorflow/stream_executor/cuda/cudart_stub.cc:29] Ignore above cudart dlerror if you do not have a GPU set up on your machine.\n"
     ]
    }
   ],
   "source": [
    "import ccdb\n",
    "import astromorpho as astro"
   ]
  },
  {
   "cell_type": "code",
   "execution_count": 8,
   "id": "fa3035d6",
   "metadata": {},
   "outputs": [],
   "source": [
    "import graph_utils as gu  \n",
    "import visualization as vis"
   ]
  },
  {
   "cell_type": "code",
   "execution_count": 9,
   "id": "d51a473c",
   "metadata": {},
   "outputs": [],
   "source": [
    "import networkx as nx"
   ]
  },
  {
   "cell_type": "code",
   "execution_count": 10,
   "id": "0e8088cd",
   "metadata": {},
   "outputs": [],
   "source": [
    "from networx2napari import draw_edges, draw_nodes"
   ]
  },
  {
   "cell_type": "code",
   "execution_count": 11,
   "id": "1962b097",
   "metadata": {},
   "outputs": [],
   "source": [
    "import astro_graph"
   ]
  },
  {
   "cell_type": "markdown",
   "id": "1f278f8b",
   "metadata": {},
   "source": [
    "# Параметры для запуска"
   ]
  },
  {
   "cell_type": "code",
   "execution_count": 12,
   "id": "ed936674",
   "metadata": {},
   "outputs": [],
   "source": [
    "if os.path.exists('/home/levtg/astro-morpho'):\n",
    "#     data_dir = '/home/levtg/astro-morpho/data/graphs'\n",
    "    data_dir = '/home/levtg/astro-morpho/src/output/'\n",
    "else:\n",
    "    print(\"Dont know where to look for the data\")\n",
    "\n",
    "output_dir = './output/'\n",
    "\n",
    "filename = '4wk-ly9-raw.pic-sequential_graph.pickle' # Octopus\n",
    "\n",
    "VERBOSE = True\n",
    "\n",
    "# Set false to start from console\n",
    "HANDY = True\n",
    "\n",
    "# Set true to save output\n",
    "OUT = False"
   ]
  },
  {
   "cell_type": "markdown",
   "id": "146439f4",
   "metadata": {},
   "source": [
    "# Чтение данных"
   ]
  },
  {
   "cell_type": "code",
   "execution_count": 13,
   "id": "6a414e41",
   "metadata": {},
   "outputs": [
    {
     "data": {
      "text/plain": [
       "PosixPath('/home/levtg/astro-morpho/src/output/4wk-ly9-raw.pic-sequential_graph.pickle')"
      ]
     },
     "execution_count": 13,
     "metadata": {},
     "output_type": "execute_result"
    }
   ],
   "source": [
    "filepath = Path(data_dir).joinpath(filename)\n",
    "filepath"
   ]
  },
  {
   "cell_type": "code",
   "execution_count": 154,
   "id": "4c18c625",
   "metadata": {},
   "outputs": [
    {
     "name": "stdout",
     "output_type": "stream",
     "text": [
      "CPU times: user 40.7 ms, sys: 35.7 ms, total: 76.4 ms\n",
      "Wall time: 76 ms\n"
     ]
    }
   ],
   "source": [
    "%time data = pickle.load(open(filepath, 'rb'))"
   ]
  },
  {
   "cell_type": "code",
   "execution_count": 155,
   "id": "ca1a9876",
   "metadata": {},
   "outputs": [
    {
     "name": "stderr",
     "output_type": "stream",
     "text": [
      "WARNING: could not determine DPI\n",
      "/home/levtg/astro-morpho/venv/lib64/python3.10/site-packages/napari_tools_menu/__init__.py:179: FutureWarning: Public access to Window.qt_viewer is deprecated and will be removed in\n",
      "v0.5.0. It is considered an \"implementation detail\" of the napari\n",
      "application, not part of the napari viewer model. If your use case\n",
      "requires access to qt_viewer, please open an issue to discuss.\n",
      "  self.tools_menu = ToolsMenu(self, self.qt_viewer.viewer)\n"
     ]
    }
   ],
   "source": [
    "w =  napari.view_image(data.image, ndisplay=3, opacity=0.5)\n",
    "vis.view_graph_as_colored_image(data.graph, data.parameters['shape'], w);"
   ]
  },
  {
   "cell_type": "code",
   "execution_count": 156,
   "id": "1f5a169d",
   "metadata": {},
   "outputs": [
    {
     "data": {
      "text/plain": [
       "{(18, 153, 172),\n",
       " (19, 159, 170),\n",
       " (19, 159, 171),\n",
       " (20, 132, 173),\n",
       " (20, 159, 169),\n",
       " (20, 160, 170),\n",
       " (21, 144, 170),\n",
       " (21, 156, 167),\n",
       " (21, 158, 169),\n",
       " (21, 159, 170),\n",
       " (22, 130, 176),\n",
       " (22, 145, 170),\n",
       " (22, 148, 167),\n",
       " (22, 149, 166),\n",
       " (22, 167, 195),\n",
       " (23, 135, 194),\n",
       " (23, 147, 169),\n",
       " (23, 151, 167),\n",
       " (27, 170, 190),\n",
       " (27, 173, 187),\n",
       " (28, 170, 189),\n",
       " (29, 161, 183),\n",
       " (29, 170, 182),\n",
       " (30, 166, 181)}"
      ]
     },
     "execution_count": 156,
     "metadata": {},
     "output_type": "execute_result"
    }
   ],
   "source": [
    "roots = gu.get_roots(data.graph)\n",
    "roots"
   ]
  },
  {
   "cell_type": "code",
   "execution_count": 157,
   "id": "f742e2b2",
   "metadata": {},
   "outputs": [],
   "source": [
    "branches = {}\n",
    "for root in roots:\n",
    "    branches[root] = astro_graph.AstroGraph(gu.filter_graph(data.graph, lambda node: node['root'] == root))"
   ]
  },
  {
   "cell_type": "markdown",
   "id": "c0b75467",
   "metadata": {},
   "source": [
    "Смотрим на веточки"
   ]
  },
  {
   "cell_type": "code",
   "execution_count": 158,
   "id": "24d1aa56",
   "metadata": {},
   "outputs": [
    {
     "name": "stderr",
     "output_type": "stream",
     "text": [
      "WARNING: could not determine DPI\n",
      "/home/levtg/astro-morpho/venv/lib64/python3.10/site-packages/napari_tools_menu/__init__.py:179: FutureWarning: Public access to Window.qt_viewer is deprecated and will be removed in\n",
      "v0.5.0. It is considered an \"implementation detail\" of the napari\n",
      "application, not part of the napari viewer model. If your use case\n",
      "requires access to qt_viewer, please open an issue to discuss.\n",
      "  self.tools_menu = ToolsMenu(self, self.qt_viewer.viewer)\n"
     ]
    }
   ],
   "source": [
    "import itertools as itt\n",
    "\n",
    "w = napari.view_image(data.image, opacity=0.5)\n",
    "pos = {node: node for node in data.graph.nodes}\n",
    "\n",
    "colors = ['blue', 'red', 'yellow', 'cyan', 'green', 'magenta', 'bop orange']\n",
    "for branch, color in zip(branches.values(), itt.cycle(colors)):\n",
    "    img = np.zeros(data.image.shape)\n",
    "    points = draw_nodes(pos, branch.nodes())\n",
    "    img[points[:, 0], points[:, 1], points[:, 2]] = 1\n",
    "    w.add_image(img, colormap=color, blending='additive')\n",
    "napari.run()"
   ]
  },
  {
   "cell_type": "code",
   "execution_count": 159,
   "id": "91779885",
   "metadata": {},
   "outputs": [],
   "source": [
    "roots_arr = np.array(list(roots))"
   ]
  },
  {
   "cell_type": "markdown",
   "id": "e6b4b9bc",
   "metadata": {},
   "source": [
    "Объединяем ветки в пучки основываясь на расстоянии между корневыми точками"
   ]
  },
  {
   "cell_type": "code",
   "execution_count": 160,
   "id": "ac1f9134",
   "metadata": {
    "scrolled": true
   },
   "outputs": [],
   "source": [
    "bunches = []\n",
    "min_dist = 4\n",
    "\n",
    "for root in roots:\n",
    "    roots_dists = np.linalg.norm(root - roots_arr, axis=-1)\n",
    "#     for r, d in zip(roots_arr[roots_dists < min_dist], roots_dists[roots_dists < min_dist]):\n",
    "#         print(root , r, d)\n",
    "    neighbours = [tuple(r) for r in roots_arr[roots_dists < min_dist]]\n",
    "    STOP=False\n",
    "    for bunch in bunches:\n",
    "        for n in neighbours:\n",
    "            if n in bunch:\n",
    "                bunch.update(neighbours)\n",
    "                STOP = True\n",
    "                continue\n",
    "        \n",
    "        if STOP:\n",
    "            break\n",
    "    if not STOP:\n",
    "        bunches.append(set(neighbours))"
   ]
  },
  {
   "cell_type": "markdown",
   "id": "706feffb",
   "metadata": {},
   "source": [
    "Часть пучков содержит одни и те же ветки. Объеденим такие пучки в один, а лишние удалим"
   ]
  },
  {
   "cell_type": "code",
   "execution_count": 161,
   "id": "f0cc2444",
   "metadata": {},
   "outputs": [],
   "source": [
    "set2del = []\n",
    "\n",
    "for i, cur_bunch in enumerate(bunches[:-1]):\n",
    "    FOUND = False\n",
    "    for node in cur_bunch:\n",
    "        for bunch in bunches[i+1:]:\n",
    "            if node in bunch:\n",
    "                bunch.update(cur_bunch)\n",
    "                set2del.append(i)\n",
    "                FOUND = True\n",
    "                break\n",
    "        if FOUND:\n",
    "            break\n"
   ]
  },
  {
   "cell_type": "code",
   "execution_count": 162,
   "id": "d055ea9d",
   "metadata": {},
   "outputs": [
    {
     "data": {
      "text/plain": [
       "{(21, 144, 170),\n",
       " (22, 145, 170),\n",
       " (22, 148, 167),\n",
       " (22, 149, 166),\n",
       " (23, 147, 169),\n",
       " (23, 151, 167)}"
      ]
     },
     "execution_count": 162,
     "metadata": {},
     "output_type": "execute_result"
    }
   ],
   "source": [
    "bunches.pop(*set2del)"
   ]
  },
  {
   "cell_type": "markdown",
   "id": "390f424a",
   "metadata": {},
   "source": [
    "Смотрим на результат"
   ]
  },
  {
   "cell_type": "code",
   "execution_count": 163,
   "id": "041047fb",
   "metadata": {},
   "outputs": [
    {
     "name": "stderr",
     "output_type": "stream",
     "text": [
      "WARNING: could not determine DPI\n",
      "/home/levtg/astro-morpho/venv/lib64/python3.10/site-packages/napari_tools_menu/__init__.py:179: FutureWarning: Public access to Window.qt_viewer is deprecated and will be removed in\n",
      "v0.5.0. It is considered an \"implementation detail\" of the napari\n",
      "application, not part of the napari viewer model. If your use case\n",
      "requires access to qt_viewer, please open an issue to discuss.\n",
      "  self.tools_menu = ToolsMenu(self, self.qt_viewer.viewer)\n"
     ]
    }
   ],
   "source": [
    "w = napari.view_image(data.image, opacity=0.5)\n",
    "pos = {node: node for node in data.graph.nodes}\n",
    "colors = ['blue', 'red', 'yellow', 'cyan', 'green', 'magenta', 'bop orange']\n",
    "\n",
    "\n",
    "for bunch, color in zip(bunches, itt.cycle(colors)):\n",
    "    img = np.zeros(data.image.shape)\n",
    "    for root in bunch:\n",
    "        points = draw_nodes(pos, branches[root].nodes())\n",
    "        img[points[:, 0], points[:, 1], points[:, 2]] = 1\n",
    "    w.add_image(img, colormap=color, blending='additive')"
   ]
  },
  {
   "cell_type": "code",
   "execution_count": 164,
   "id": "5b13af1f",
   "metadata": {},
   "outputs": [],
   "source": [
    "def choose_main(bunch, branches, mass_func=len):\n",
    "    max_mass = 0\n",
    "    for branch_root in bunch:\n",
    "        branch = branches[branch_root]\n",
    "        branch_mass = mass_func(branch)\n",
    "        if branch_mass > max_mass:\n",
    "            max_mass = branch_mass\n",
    "            main_branch_root = branch_root\n",
    "            main_branch = branches[main_branch_root]\n",
    "    return main_branch_root, main_branch"
   ]
  },
  {
   "cell_type": "markdown",
   "id": "c0351b8f",
   "metadata": {},
   "source": [
    "Выбираем первый (ближайший к корню) участок ветки и рассматриваем его положение относительно основной ветки. "
   ]
  },
  {
   "cell_type": "code",
   "execution_count": null,
   "id": "80c8debd",
   "metadata": {},
   "outputs": [],
   "source": [
    "# w = napari.view_image(data.image, opacity=0.5)\n",
    "# pos = {node: node for node in data.graph.nodes}\n",
    "\n",
    "# for branch, color in zip(bunch, itt.cycle(colors)):\n",
    "#     img = np.zeros(data.image.shape)\n",
    "#     astroGraph = astro_graph.AstroGraph(branches[branch])\n",
    "#     path = list(astroGraph.graph_to_paths().values())[0][0]\n",
    "#     points = draw_nodes(pos, path)\n",
    "    \n",
    "#     img[points[:, 0], points[:, 1], points[:, 2]] = 1\n",
    "#     w.add_image(img, colormap=color, blending='additive')    "
   ]
  },
  {
   "cell_type": "code",
   "execution_count": null,
   "id": "52ac2ccc",
   "metadata": {},
   "outputs": [],
   "source": [
    "# # Adding main branch\n",
    "# img = np.zeros(data.image.shape)\n",
    "# astroGraph = astro_graph.AstroGraph(branches[main_branch_root])\n",
    "# path = list(astroGraph.graph_to_paths().values())[0][0]\n",
    "# points = draw_nodes(pos, path)\n",
    "\n",
    "# img[points[:, 0], points[:, 1], points[:, 2]] = 1\n",
    "# w.add_image(img, colormap='gray', blending='additive', name='main branch') "
   ]
  },
  {
   "cell_type": "markdown",
   "id": "d254f1dc",
   "metadata": {},
   "source": [
    "Выбираем первый (ближайший к корню) участок ветки и рассматриваем его положение относительно основной ветки. Если расстояние между ветками от корневых точек не увеличивается, то точки расссматриваемой ветки удалаются, а последующая соединяется с соответствующей точкой на основной ветке"
   ]
  },
  {
   "cell_type": "code",
   "execution_count": 172,
   "id": "23ae82a3",
   "metadata": {},
   "outputs": [],
   "source": [
    "# def draw_points(viewer, points, img_shape, color='red'):\n",
    "#     img = np.zeros(img_shape)\n",
    "#     img[points[:, 0], points[:, 1], points[:, 2]] = 1\n",
    "#     viewer.add_image(img, colormap=color, blending='additive')"
   ]
  },
  {
   "cell_type": "code",
   "execution_count": 165,
   "id": "864b6059",
   "metadata": {},
   "outputs": [],
   "source": [
    "def make_lines(branch, root):\n",
    "    lines = {}\n",
    "    for tip in branch.get_tips():\n",
    "        lines[tip] = nx.shortest_path(branch.graph, root, tip), nx.shortest_path_length(branch.graph, root, tip)\n",
    "    return lines"
   ]
  },
  {
   "cell_type": "code",
   "execution_count": null,
   "id": "1aa10cad",
   "metadata": {},
   "outputs": [],
   "source": [
    "max_dist = 4\n",
    "\n",
    "lines = make_lines(branch, branch_root)\n",
    "main_line = choose_main(branch.get_tips(), lines)\n",
    "for line in lines:\n",
    "    parallel = []\n",
    "    cur_dist = 0\n",
    "    start_dist = 0\n",
    "    for l, ml in zip(line, main_line):\n",
    "        if "
   ]
  },
  {
   "cell_type": "code",
   "execution_count": 166,
   "id": "ebf1fea7",
   "metadata": {
    "scrolled": false
   },
   "outputs": [
    {
     "data": {
      "application/vnd.jupyter.widget-view+json": {
       "model_id": "750dcc5f9359413395730d3faa244e0a",
       "version_major": 2,
       "version_minor": 0
      },
      "text/plain": [
       "  0%|          | 0/1 [00:00<?, ?it/s]"
      ]
     },
     "metadata": {},
     "output_type": "display_data"
    },
    {
     "data": {
      "application/vnd.jupyter.widget-view+json": {
       "model_id": "53f824c5dc8c46ddb7fb995f6ebe7f83",
       "version_major": 2,
       "version_minor": 0
      },
      "text/plain": [
       "  0%|          | 0/1 [00:00<?, ?it/s]"
      ]
     },
     "metadata": {},
     "output_type": "display_data"
    },
    {
     "data": {
      "application/vnd.jupyter.widget-view+json": {
       "model_id": "b857c373f778423f92970012925a3691",
       "version_major": 2,
       "version_minor": 0
      },
      "text/plain": [
       "  0%|          | 0/7 [00:00<?, ?it/s]"
      ]
     },
     "metadata": {},
     "output_type": "display_data"
    },
    {
     "data": {
      "application/vnd.jupyter.widget-view+json": {
       "model_id": "604fc0997eea459db5bc6e2b5737349c",
       "version_major": 2,
       "version_minor": 0
      },
      "text/plain": [
       "  0%|          | 0/1 [00:00<?, ?it/s]"
      ]
     },
     "metadata": {},
     "output_type": "display_data"
    },
    {
     "data": {
      "application/vnd.jupyter.widget-view+json": {
       "model_id": "84be503277924ce48f7851c3ba40148b",
       "version_major": 2,
       "version_minor": 0
      },
      "text/plain": [
       "  0%|          | 0/3 [00:00<?, ?it/s]"
      ]
     },
     "metadata": {},
     "output_type": "display_data"
    },
    {
     "data": {
      "application/vnd.jupyter.widget-view+json": {
       "model_id": "0eecf00e05974ea6b1fb54c695a3bd7b",
       "version_major": 2,
       "version_minor": 0
      },
      "text/plain": [
       "  0%|          | 0/1 [00:00<?, ?it/s]"
      ]
     },
     "metadata": {},
     "output_type": "display_data"
    },
    {
     "data": {
      "application/vnd.jupyter.widget-view+json": {
       "model_id": "2d559b350eeb486e86c0b178e729e9e5",
       "version_major": 2,
       "version_minor": 0
      },
      "text/plain": [
       "  0%|          | 0/1 [00:00<?, ?it/s]"
      ]
     },
     "metadata": {},
     "output_type": "display_data"
    },
    {
     "data": {
      "application/vnd.jupyter.widget-view+json": {
       "model_id": "bc649e6725f74d4b90da49c5757487ca",
       "version_major": 2,
       "version_minor": 0
      },
      "text/plain": [
       "  0%|          | 0/1 [00:00<?, ?it/s]"
      ]
     },
     "metadata": {},
     "output_type": "display_data"
    },
    {
     "data": {
      "application/vnd.jupyter.widget-view+json": {
       "model_id": "257903eb919444d0875bf07e595e1014",
       "version_major": 2,
       "version_minor": 0
      },
      "text/plain": [
       "  0%|          | 0/6 [00:00<?, ?it/s]"
      ]
     },
     "metadata": {},
     "output_type": "display_data"
    },
    {
     "data": {
      "application/vnd.jupyter.widget-view+json": {
       "model_id": "7b24097b95164d14964bd5a4c06d245c",
       "version_major": 2,
       "version_minor": 0
      },
      "text/plain": [
       "  0%|          | 0/1 [00:00<?, ?it/s]"
      ]
     },
     "metadata": {},
     "output_type": "display_data"
    },
    {
     "data": {
      "application/vnd.jupyter.widget-view+json": {
       "model_id": "c25d9b57c16f4b4b9ed2ff351c4109c5",
       "version_major": 2,
       "version_minor": 0
      },
      "text/plain": [
       "  0%|          | 0/1 [00:00<?, ?it/s]"
      ]
     },
     "metadata": {},
     "output_type": "display_data"
    }
   ],
   "source": [
    "for bunch in bunches:\n",
    "    main_branch_root, main_branch = choose_main(bunch, branches, lambda x: len(x.nodes()))\n",
    "    main_branch_lines = make_lines(main_branch, main_branch_root)\n",
    "    main_branch_line_tip, (main_branch_line, main_branch_line_mass) = choose_main(main_branch.get_tips(), main_branch_lines)\n",
    "    main_branch_points = draw_nodes(pos, main_branch_line)\n",
    "\n",
    "    for branch_root in tqdm(bunch):\n",
    "        if branch_root == main_branch_root:\n",
    "            continue\n",
    "        branch = branches[branch_root]\n",
    "        nx.set_node_attributes(data.graph, {p: main_branch_root for p in branch.nodes()}, name='root')\n",
    "        \n",
    "\n",
    "    \n",
    "        for line, line_mass in make_lines(branch, branch_root).values():\n",
    "            points = draw_nodes(pos, line)\n",
    "\n",
    "    #         branch_paths = list(branch.graph_to_paths().values())\n",
    "    #         for path in branch_paths[0]:\n",
    "    #             path = [branch_root] + path\n",
    "    #             points = draw_nodes(pos, path)\n",
    "\n",
    "            count = min(len(points), len(main_branch_points))\n",
    "            dists = np.linalg.norm(points[:count] - main_branch_points[:count], axis=-1)\n",
    "            REMOVED = False\n",
    "            for p, mbp, d in zip(points[:count], main_branch_points[:count], dists):\n",
    "                point = p\n",
    "                mb_point = mbp\n",
    "#                 print(d, data.graph.nodes[tuple(mbp)]['sigma_mask'])\n",
    "                \n",
    "                if tuple(p) not in data.graph:\n",
    "                    continue\n",
    "                elif data.graph.nodes[tuple(p)]['sigma_mask'] == data.graph.nodes[tuple(mbp)]['sigma_mask'] \\\n",
    "                    or d <= min_dist:\n",
    "#                 min(data.graph.nodes[tuple(mbp)]['sigma_opt'], data.graph.nodes[tuple(p)]['sigma_opt']):\n",
    "                    data.graph.remove_node(tuple(p))\n",
    "                    REMOVED = True\n",
    "                else:\n",
    "#                     print('Mask: {:0.2f} {:0.2f} {:0.3f}'.format(data.graph.nodes[tuple(mbp)]['sigma_mask'], data.graph.nodes[tuple(p)]['sigma_mask'], d, end=' '))\n",
    "#                     print('Opt: {:0.2f} {:0.2f} {:0.3f}'.format(data.graph.nodes[tuple(mbp)]['sigma_opt'], data.graph.nodes[tuple(p)]['sigma_opt'], d))\n",
    "                    break\n",
    "\n",
    "            else:\n",
    "                point = mb_point\n",
    "\n",
    "            if REMOVED:\n",
    "                cur_p = mb_point \n",
    "                prev_p = mb_point\n",
    "                end_p = point\n",
    "                azi = np.array([*np.sign(end_p - cur_p)])\n",
    "\n",
    "                while tuple(cur_p) != tuple(end_p):\n",
    "                    cur_p = np.clip(cur_p + azi, np.min([point, mb_point], axis=0), np.max([point, mb_point], axis=0))\n",
    "                    data.graph.add_node(tuple(cur_p), root=main_branch_root,\n",
    "                                                      sigma_mask=data.parameters['id2sigma'][data.sigma_mask[cur_p[0], cur_p[1], cur_p[2]]]) #Add another parameters\n",
    "                    data.graph.add_edge(tuple(prev_p), tuple(cur_p))\n",
    "                    prev_p = cur_p"
   ]
  },
  {
   "cell_type": "code",
   "execution_count": 145,
   "id": "55a04c1c",
   "metadata": {},
   "outputs": [
    {
     "data": {
      "text/plain": [
       "(55, 464, 312)"
      ]
     },
     "execution_count": 145,
     "metadata": {},
     "output_type": "execute_result"
    }
   ],
   "source": [
    "data.sigma_mask.shape"
   ]
  },
  {
   "cell_type": "code",
   "execution_count": 168,
   "id": "0f9cd703",
   "metadata": {},
   "outputs": [
    {
     "name": "stderr",
     "output_type": "stream",
     "text": [
      "WARNING: could not determine DPI\n",
      "/home/levtg/astro-morpho/venv/lib64/python3.10/site-packages/napari_tools_menu/__init__.py:179: FutureWarning: Public access to Window.qt_viewer is deprecated and will be removed in\n",
      "v0.5.0. It is considered an \"implementation detail\" of the napari\n",
      "application, not part of the napari viewer model. If your use case\n",
      "requires access to qt_viewer, please open an issue to discuss.\n",
      "  self.tools_menu = ToolsMenu(self, self.qt_viewer.viewer)\n"
     ]
    },
    {
     "data": {
      "text/plain": [
       "<Image layer 'main branch' at 0x7f60d5496fe0>"
      ]
     },
     "execution_count": 168,
     "metadata": {},
     "output_type": "execute_result"
    }
   ],
   "source": [
    "pos_ = {node: node for node in data.graph.nodes}\n",
    "\n",
    "w =  napari.view_image(data.image, ndisplay=3, opacity=0.5)\n",
    "img = np.zeros(data.image.shape)\n",
    "\n",
    "points = draw_nodes(pos_, data.graph.nodes())\n",
    "\n",
    "img[points[:, 0], points[:, 1], points[:, 2]] = 1\n",
    "w.add_image(img, colormap='gray', blending='additive', name='main branch')"
   ]
  },
  {
   "cell_type": "code",
   "execution_count": 167,
   "id": "1d8479d6",
   "metadata": {},
   "outputs": [
    {
     "name": "stderr",
     "output_type": "stream",
     "text": [
      "WARNING: could not determine DPI\n",
      "/home/levtg/astro-morpho/venv/lib64/python3.10/site-packages/napari_tools_menu/__init__.py:179: FutureWarning: Public access to Window.qt_viewer is deprecated and will be removed in\n",
      "v0.5.0. It is considered an \"implementation detail\" of the napari\n",
      "application, not part of the napari viewer model. If your use case\n",
      "requires access to qt_viewer, please open an issue to discuss.\n",
      "  self.tools_menu = ToolsMenu(self, self.qt_viewer.viewer)\n"
     ]
    },
    {
     "ename": "RecursionError",
     "evalue": "maximum recursion depth exceeded while calling a Python object",
     "output_type": "error",
     "traceback": [
      "\u001b[0;31m---------------------------------------------------------------------------\u001b[0m",
      "\u001b[0;31mRecursionError\u001b[0m                            Traceback (most recent call last)",
      "Input \u001b[0;32mIn [167]\u001b[0m, in \u001b[0;36m<cell line: 2>\u001b[0;34m()\u001b[0m\n\u001b[1;32m      1\u001b[0m w \u001b[38;5;241m=\u001b[39m  napari\u001b[38;5;241m.\u001b[39mview_image(data\u001b[38;5;241m.\u001b[39mimage, ndisplay\u001b[38;5;241m=\u001b[39m\u001b[38;5;241m3\u001b[39m, opacity\u001b[38;5;241m=\u001b[39m\u001b[38;5;241m0.5\u001b[39m)\n\u001b[0;32m----> 2\u001b[0m \u001b[43mvis\u001b[49m\u001b[38;5;241;43m.\u001b[39;49m\u001b[43mview_graph_as_colored_image\u001b[49m\u001b[43m(\u001b[49m\u001b[43mdata\u001b[49m\u001b[38;5;241;43m.\u001b[39;49m\u001b[43mgraph\u001b[49m\u001b[43m,\u001b[49m\u001b[43m \u001b[49m\u001b[43mdata\u001b[49m\u001b[38;5;241;43m.\u001b[39;49m\u001b[43mparameters\u001b[49m\u001b[43m[\u001b[49m\u001b[38;5;124;43m'\u001b[39;49m\u001b[38;5;124;43mshape\u001b[39;49m\u001b[38;5;124;43m'\u001b[39;49m\u001b[43m]\u001b[49m\u001b[43m,\u001b[49m\u001b[43m \u001b[49m\u001b[43mw\u001b[49m\u001b[43m)\u001b[49m\n",
      "File \u001b[0;32m~/astro-morpho/src/visualization.py:27\u001b[0m, in \u001b[0;36mview_graph_as_colored_image\u001b[0;34m(g, shape, viewer, name, root_chooser, change_color_at_branchpoints)\u001b[0m\n\u001b[1;32m     19\u001b[0m \u001b[38;5;28;01mdef\u001b[39;00m \u001b[38;5;21mview_graph_as_colored_image\u001b[39m(g,  shape, \n\u001b[1;32m     20\u001b[0m                                 viewer\u001b[38;5;241m=\u001b[39m\u001b[38;5;28;01mNone\u001b[39;00m, name\u001b[38;5;241m=\u001b[39m\u001b[38;5;28;01mNone\u001b[39;00m, \n\u001b[1;32m     21\u001b[0m                                 root_chooser\u001b[38;5;241m=\u001b[39m\u001b[38;5;28;01mlambda\u001b[39;00m r: \u001b[38;5;28;01mTrue\u001b[39;00m,\n\u001b[1;32m     22\u001b[0m                                 change_color_at_branchpoints\u001b[38;5;241m=\u001b[39m\u001b[38;5;28;01mFalse\u001b[39;00m):\n\u001b[1;32m     23\u001b[0m     \u001b[38;5;124;03m\"\"\"\u001b[39;00m\n\u001b[1;32m     24\u001b[0m \u001b[38;5;124;03m    Convert a graph to a colored 3D stack image and add it to a napari viewer.\u001b[39;00m\n\u001b[1;32m     25\u001b[0m \u001b[38;5;124;03m    if the viewer instance is None, just return the colored 3D stack\u001b[39;00m\n\u001b[1;32m     26\u001b[0m \u001b[38;5;124;03m    \"\"\"\u001b[39;00m\n\u001b[0;32m---> 27\u001b[0m     paths \u001b[38;5;241m=\u001b[39m \u001b[43mgraph_to_paths\u001b[49m\u001b[43m(\u001b[49m\u001b[43mg\u001b[49m\u001b[43m,\u001b[49m\u001b[43m \u001b[49m\u001b[43mroot_chooser\u001b[49m\u001b[38;5;241;43m=\u001b[39;49m\u001b[43mroot_chooser\u001b[49m\u001b[43m)\u001b[49m\n\u001b[1;32m     28\u001b[0m     stack \u001b[38;5;241m=\u001b[39m paths_to_colored_stack(paths, shape, change_color_at_branchpoints)\n\u001b[1;32m     29\u001b[0m     \u001b[38;5;28;01mif\u001b[39;00m viewer \u001b[38;5;129;01mis\u001b[39;00m \u001b[38;5;129;01mnot\u001b[39;00m \u001b[38;5;28;01mNone\u001b[39;00m:\n",
      "File \u001b[0;32m~/astro-morpho/src/visualization.py:69\u001b[0m, in \u001b[0;36mgraph_to_paths\u001b[0;34m(g, min_path_length, root_chooser)\u001b[0m\n\u001b[1;32m     67\u001b[0m     \u001b[38;5;28;01mif\u001b[39;00m root_chooser(root):\n\u001b[1;32m     68\u001b[0m         px \u001b[38;5;241m=\u001b[39m []\n\u001b[0;32m---> 69\u001b[0m         \u001b[43m_acc_segment\u001b[49m\u001b[43m(\u001b[49m\u001b[43mroot\u001b[49m\u001b[43m,\u001b[49m\u001b[43m \u001b[49m\u001b[43m[\u001b[49m\u001b[43m]\u001b[49m\u001b[43m,\u001b[49m\u001b[43m \u001b[49m\u001b[43mpx\u001b[49m\u001b[43m)\u001b[49m\n\u001b[1;32m     70\u001b[0m         acc[root] \u001b[38;5;241m=\u001b[39m [s \u001b[38;5;28;01mfor\u001b[39;00m s \u001b[38;5;129;01min\u001b[39;00m px \u001b[38;5;28;01mif\u001b[39;00m \u001b[38;5;28mlen\u001b[39m(s) \u001b[38;5;241m>\u001b[39m\u001b[38;5;241m=\u001b[39m min_path_length]\n\u001b[1;32m     71\u001b[0m \u001b[38;5;28;01mreturn\u001b[39;00m acc\n",
      "File \u001b[0;32m~/astro-morpho/src/visualization.py:57\u001b[0m, in \u001b[0;36mgraph_to_paths.<locals>._acc_segment\u001b[0;34m(root, segm, accx)\u001b[0m\n\u001b[1;32m     55\u001b[0m     c \u001b[38;5;241m=\u001b[39m children[\u001b[38;5;241m0\u001b[39m]\n\u001b[1;32m     56\u001b[0m     segm\u001b[38;5;241m.\u001b[39mappend(c)\n\u001b[0;32m---> 57\u001b[0m     \u001b[43m_acc_segment\u001b[49m\u001b[43m(\u001b[49m\u001b[43mc\u001b[49m\u001b[43m,\u001b[49m\u001b[43m \u001b[49m\u001b[43msegm\u001b[49m\u001b[43m,\u001b[49m\u001b[43m \u001b[49m\u001b[43maccx\u001b[49m\u001b[43m)\u001b[49m\n\u001b[1;32m     59\u001b[0m \u001b[38;5;28;01mif\u001b[39;00m \u001b[38;5;28mlen\u001b[39m(children) \u001b[38;5;241m>\u001b[39m \u001b[38;5;241m1\u001b[39m:\n\u001b[1;32m     60\u001b[0m     \u001b[38;5;66;03m#segm.append(root)\u001b[39;00m\n\u001b[1;32m     61\u001b[0m     accx\u001b[38;5;241m.\u001b[39mappend(segm)\n",
      "File \u001b[0;32m~/astro-morpho/src/visualization.py:57\u001b[0m, in \u001b[0;36mgraph_to_paths.<locals>._acc_segment\u001b[0;34m(root, segm, accx)\u001b[0m\n\u001b[1;32m     55\u001b[0m     c \u001b[38;5;241m=\u001b[39m children[\u001b[38;5;241m0\u001b[39m]\n\u001b[1;32m     56\u001b[0m     segm\u001b[38;5;241m.\u001b[39mappend(c)\n\u001b[0;32m---> 57\u001b[0m     \u001b[43m_acc_segment\u001b[49m\u001b[43m(\u001b[49m\u001b[43mc\u001b[49m\u001b[43m,\u001b[49m\u001b[43m \u001b[49m\u001b[43msegm\u001b[49m\u001b[43m,\u001b[49m\u001b[43m \u001b[49m\u001b[43maccx\u001b[49m\u001b[43m)\u001b[49m\n\u001b[1;32m     59\u001b[0m \u001b[38;5;28;01mif\u001b[39;00m \u001b[38;5;28mlen\u001b[39m(children) \u001b[38;5;241m>\u001b[39m \u001b[38;5;241m1\u001b[39m:\n\u001b[1;32m     60\u001b[0m     \u001b[38;5;66;03m#segm.append(root)\u001b[39;00m\n\u001b[1;32m     61\u001b[0m     accx\u001b[38;5;241m.\u001b[39mappend(segm)\n",
      "    \u001b[0;31m[... skipping similar frames: graph_to_paths.<locals>._acc_segment at line 57 (3 times)]\u001b[0m\n",
      "File \u001b[0;32m~/astro-morpho/src/visualization.py:63\u001b[0m, in \u001b[0;36mgraph_to_paths.<locals>._acc_segment\u001b[0;34m(root, segm, accx)\u001b[0m\n\u001b[1;32m     61\u001b[0m accx\u001b[38;5;241m.\u001b[39mappend(segm)\n\u001b[1;32m     62\u001b[0m \u001b[38;5;28;01mfor\u001b[39;00m c \u001b[38;5;129;01min\u001b[39;00m children:\n\u001b[0;32m---> 63\u001b[0m     \u001b[43m_acc_segment\u001b[49m\u001b[43m(\u001b[49m\u001b[43mc\u001b[49m\u001b[43m,\u001b[49m\u001b[43m \u001b[49m\u001b[43m[\u001b[49m\u001b[43mroot\u001b[49m\u001b[43m,\u001b[49m\u001b[43m \u001b[49m\u001b[43mc\u001b[49m\u001b[43m]\u001b[49m\u001b[43m,\u001b[49m\u001b[43m \u001b[49m\u001b[43maccx\u001b[49m\u001b[43m)\u001b[49m\n",
      "File \u001b[0;32m~/astro-morpho/src/visualization.py:63\u001b[0m, in \u001b[0;36mgraph_to_paths.<locals>._acc_segment\u001b[0;34m(root, segm, accx)\u001b[0m\n\u001b[1;32m     61\u001b[0m accx\u001b[38;5;241m.\u001b[39mappend(segm)\n\u001b[1;32m     62\u001b[0m \u001b[38;5;28;01mfor\u001b[39;00m c \u001b[38;5;129;01min\u001b[39;00m children:\n\u001b[0;32m---> 63\u001b[0m     \u001b[43m_acc_segment\u001b[49m\u001b[43m(\u001b[49m\u001b[43mc\u001b[49m\u001b[43m,\u001b[49m\u001b[43m \u001b[49m\u001b[43m[\u001b[49m\u001b[43mroot\u001b[49m\u001b[43m,\u001b[49m\u001b[43m \u001b[49m\u001b[43mc\u001b[49m\u001b[43m]\u001b[49m\u001b[43m,\u001b[49m\u001b[43m \u001b[49m\u001b[43maccx\u001b[49m\u001b[43m)\u001b[49m\n",
      "    \u001b[0;31m[... skipping similar frames: graph_to_paths.<locals>._acc_segment at line 63 (9838 times), graph_to_paths.<locals>._acc_segment at line 57 (117 times)]\u001b[0m\n",
      "File \u001b[0;32m~/astro-morpho/src/visualization.py:63\u001b[0m, in \u001b[0;36mgraph_to_paths.<locals>._acc_segment\u001b[0;34m(root, segm, accx)\u001b[0m\n\u001b[1;32m     61\u001b[0m accx\u001b[38;5;241m.\u001b[39mappend(segm)\n\u001b[1;32m     62\u001b[0m \u001b[38;5;28;01mfor\u001b[39;00m c \u001b[38;5;129;01min\u001b[39;00m children:\n\u001b[0;32m---> 63\u001b[0m     \u001b[43m_acc_segment\u001b[49m\u001b[43m(\u001b[49m\u001b[43mc\u001b[49m\u001b[43m,\u001b[49m\u001b[43m \u001b[49m\u001b[43m[\u001b[49m\u001b[43mroot\u001b[49m\u001b[43m,\u001b[49m\u001b[43m \u001b[49m\u001b[43mc\u001b[49m\u001b[43m]\u001b[49m\u001b[43m,\u001b[49m\u001b[43m \u001b[49m\u001b[43maccx\u001b[49m\u001b[43m)\u001b[49m\n",
      "    \u001b[0;31m[... skipping similar frames: graph_to_paths.<locals>._acc_segment at line 57 (5 times)]\u001b[0m\n",
      "File \u001b[0;32m~/astro-morpho/src/visualization.py:57\u001b[0m, in \u001b[0;36mgraph_to_paths.<locals>._acc_segment\u001b[0;34m(root, segm, accx)\u001b[0m\n\u001b[1;32m     55\u001b[0m     c \u001b[38;5;241m=\u001b[39m children[\u001b[38;5;241m0\u001b[39m]\n\u001b[1;32m     56\u001b[0m     segm\u001b[38;5;241m.\u001b[39mappend(c)\n\u001b[0;32m---> 57\u001b[0m     \u001b[43m_acc_segment\u001b[49m\u001b[43m(\u001b[49m\u001b[43mc\u001b[49m\u001b[43m,\u001b[49m\u001b[43m \u001b[49m\u001b[43msegm\u001b[49m\u001b[43m,\u001b[49m\u001b[43m \u001b[49m\u001b[43maccx\u001b[49m\u001b[43m)\u001b[49m\n\u001b[1;32m     59\u001b[0m \u001b[38;5;28;01mif\u001b[39;00m \u001b[38;5;28mlen\u001b[39m(children) \u001b[38;5;241m>\u001b[39m \u001b[38;5;241m1\u001b[39m:\n\u001b[1;32m     60\u001b[0m     \u001b[38;5;66;03m#segm.append(root)\u001b[39;00m\n\u001b[1;32m     61\u001b[0m     accx\u001b[38;5;241m.\u001b[39mappend(segm)\n",
      "File \u001b[0;32m~/astro-morpho/src/visualization.py:48\u001b[0m, in \u001b[0;36mgraph_to_paths.<locals>._acc_segment\u001b[0;34m(root, segm, accx)\u001b[0m\n\u001b[1;32m     46\u001b[0m \u001b[38;5;28;01mif\u001b[39;00m accx \u001b[38;5;129;01mis\u001b[39;00m \u001b[38;5;28;01mNone\u001b[39;00m:\n\u001b[1;32m     47\u001b[0m     accx \u001b[38;5;241m=\u001b[39m []\n\u001b[0;32m---> 48\u001b[0m children \u001b[38;5;241m=\u001b[39m \u001b[38;5;28mlist\u001b[39m(\u001b[43mg\u001b[49m\u001b[38;5;241;43m.\u001b[39;49m\u001b[43msuccessors\u001b[49m\u001b[43m(\u001b[49m\u001b[43mroot\u001b[49m\u001b[43m)\u001b[49m)\n\u001b[1;32m     50\u001b[0m \u001b[38;5;28;01mif\u001b[39;00m \u001b[38;5;28mlen\u001b[39m(children) \u001b[38;5;241m<\u001b[39m \u001b[38;5;241m1\u001b[39m:\n\u001b[1;32m     51\u001b[0m     accx\u001b[38;5;241m.\u001b[39mappend(segm)\n",
      "File \u001b[0;32m~/astro-morpho/venv/lib64/python3.10/site-packages/networkx/classes/digraph.py:807\u001b[0m, in \u001b[0;36mDiGraph.successors\u001b[0;34m(self, n)\u001b[0m\n\u001b[1;32m    783\u001b[0m \u001b[38;5;124;03m\"\"\"Returns an iterator over successor nodes of n.\u001b[39;00m\n\u001b[1;32m    784\u001b[0m \n\u001b[1;32m    785\u001b[0m \u001b[38;5;124;03mA successor of n is a node m such that there exists a directed\u001b[39;00m\n\u001b[0;32m   (...)\u001b[0m\n\u001b[1;32m    804\u001b[0m \u001b[38;5;124;03mneighbors() and successors() are the same.\u001b[39;00m\n\u001b[1;32m    805\u001b[0m \u001b[38;5;124;03m\"\"\"\u001b[39;00m\n\u001b[1;32m    806\u001b[0m \u001b[38;5;28;01mtry\u001b[39;00m:\n\u001b[0;32m--> 807\u001b[0m     \u001b[38;5;28;01mreturn\u001b[39;00m \u001b[38;5;28;43miter\u001b[39;49m\u001b[43m(\u001b[49m\u001b[38;5;28;43mself\u001b[39;49m\u001b[38;5;241;43m.\u001b[39;49m\u001b[43m_succ\u001b[49m\u001b[43m[\u001b[49m\u001b[43mn\u001b[49m\u001b[43m]\u001b[49m\u001b[43m)\u001b[49m\n\u001b[1;32m    808\u001b[0m \u001b[38;5;28;01mexcept\u001b[39;00m \u001b[38;5;167;01mKeyError\u001b[39;00m \u001b[38;5;28;01mas\u001b[39;00m err:\n\u001b[1;32m    809\u001b[0m     \u001b[38;5;28;01mraise\u001b[39;00m NetworkXError(\u001b[38;5;124mf\u001b[39m\u001b[38;5;124m\"\u001b[39m\u001b[38;5;124mThe node \u001b[39m\u001b[38;5;132;01m{\u001b[39;00mn\u001b[38;5;132;01m}\u001b[39;00m\u001b[38;5;124m is not in the digraph.\u001b[39m\u001b[38;5;124m\"\u001b[39m) \u001b[38;5;28;01mfrom\u001b[39;00m \u001b[38;5;21;01merr\u001b[39;00m\n",
      "\u001b[0;31mRecursionError\u001b[0m: maximum recursion depth exceeded while calling a Python object"
     ]
    }
   ],
   "source": [
    "w =  napari.view_image(data.image, ndisplay=3, opacity=0.5)\n",
    "vis.view_graph_as_colored_image(data.graph, data.parameters['shape'], w);"
   ]
  },
  {
   "cell_type": "code",
   "execution_count": 112,
   "id": "ad71a8e5",
   "metadata": {},
   "outputs": [
    {
     "data": {
      "text/plain": [
       "<Image layer 'Image [4]' at 0x7f6164262c50>"
      ]
     },
     "execution_count": 112,
     "metadata": {},
     "output_type": "execute_result"
    }
   ],
   "source": [
    "w.add_image(data.sigma_mask)"
   ]
  },
  {
   "cell_type": "code",
   "execution_count": 81,
   "id": "cb042d7e",
   "metadata": {},
   "outputs": [
    {
     "data": {
      "text/plain": [
       "array([ 28, 131, 142])"
      ]
     },
     "execution_count": 81,
     "metadata": {},
     "output_type": "execute_result"
    }
   ],
   "source": [
    "# np.clip(p+np.array([*np.sign(ep - p)]), np.min([p, ep], axis=0), np.max([p, ep], axis=0))"
   ]
  }
 ],
 "metadata": {
  "kernelspec": {
   "display_name": "venv",
   "language": "python",
   "name": "venv"
  },
  "language_info": {
   "codemirror_mode": {
    "name": "ipython",
    "version": 3
   },
   "file_extension": ".py",
   "mimetype": "text/x-python",
   "name": "python",
   "nbconvert_exporter": "python",
   "pygments_lexer": "ipython3",
   "version": "3.10.5"
  },
  "toc": {
   "base_numbering": 1,
   "nav_menu": {},
   "number_sections": false,
   "sideBar": true,
   "skip_h1_title": false,
   "title_cell": "Table of Contents",
   "title_sidebar": "Contents",
   "toc_cell": true,
   "toc_position": {
    "height": "calc(100% - 180px)",
    "left": "10px",
    "top": "150px",
    "width": "165px"
   },
   "toc_section_display": true,
   "toc_window_display": true
  }
 },
 "nbformat": 4,
 "nbformat_minor": 5
}
