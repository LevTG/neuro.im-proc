{
 "cells": [
  {
   "cell_type": "markdown",
   "id": "5caa6945",
   "metadata": {},
   "source": [
    "# **Next actions and TODOs**\n",
    "\n",
    "\n",
    "In this notebook I introduce that we drop rescaling in Z-axis (but the distances will get screwed up and need to be rescaled).\n",
    "\n",
    "Also, frustrated by \"branch jumping\", I decided to take another go at iterative building of paths, from large sigmas to smaller ones. It did take a hell lot of a time, but now it seems to work (well, at least performs better than building the paths at one go).\n",
    "\n",
    " - [ ] Test performance on other cells\n",
    " - [ ] Test performace of the approach with more sigma steps (log scale is preferred, i.e. `2.0**np.arange(-1,5,0.5)`)\n",
    " - [ ] Think about a way to regularize vector orientations, using orientations of the neighbours, or at different scales\n",
    " - [-] Find a best way to skeletonize the qstack-based arrays and masks (as one of the approaches)\n",
    " - [X] Find a way to \"glue\" together paths, that a close-by and have a similar direction\n",
    " - [ ] Visualize different sub-trees in the merged paths (add individually to napari?)\n",
    " - [ ] add way to gradually strip/simplify (sub-)graphs for better visualization\n",
    " "
   ]
  },
  {
   "cell_type": "code",
   "execution_count": 2,
   "id": "d8d35b97",
   "metadata": {},
   "outputs": [
    {
     "name": "stdout",
     "output_type": "stream",
     "text": [
      "Can't load imreg package, affine and homography registrations won't work\n"
     ]
    },
    {
     "name": "stderr",
     "output_type": "stream",
     "text": [
      "/home/incredible/Neuroscience/Code/lib/imfun/imfun/external/tifffile.py:7261: UserWarning: No module named 'imfun.external._tifffile'\n",
      "  Functionality might be degraded or be slow.\n",
      "\n",
      "  warnings.warn(\"%s%s\" % (e, warn))\n",
      "/home/incredible/Neuroscience/Code/lib/imfun/imfun/external/czifile.py:146: UserWarning: ImportError: No module named '_czifile'. Decoding of JXR and JPEG encoded images will not be available. Czifile.pyx can be obtained at http://www.lfd.uci.edu/~gohlke/\n",
      "  warnings.warn(\n"
     ]
    }
   ],
   "source": [
    "import os\n",
    "import sys\n",
    "import itertools as itt\n",
    "\n",
    "# File reading\n",
    "from pathlib import Path\n",
    "import tifffile as tiff\n",
    "\n",
    "# Image preprocessing\n",
    "import cv2\n",
    "from skimage.filters import threshold_li, threshold_minimum, threshold_triangle\n",
    "from skimage.morphology import remove_small_objects\n",
    "\n",
    "\n",
    "# Calculations\n",
    "from scipy import ndimage as ndi\n",
    "import numpy as np\n",
    "\n",
    "# Analysis\n",
    "import astrobject as ao\n",
    "import ccdb\n",
    "import astromorpho as astro\n",
    "import networkx as nx\n",
    "\n",
    "# Viewing\n",
    "import napari\n",
    "import matplotlib.pyplot as plt\n",
    "%matplotlib inline\n",
    "from networx2napari import draw_edges, draw_nodes\n",
    "\n",
    "# Beauty\n",
    "from tqdm.auto import tqdm\n",
    "\n",
    "# Utils\n",
    "from functools import reduce\n",
    "import operator as op\n",
    "from importlib import reload"
   ]
  },
  {
   "cell_type": "code",
   "execution_count": 3,
   "id": "9ec7aa3c",
   "metadata": {
    "lines_to_next_cell": 2
   },
   "outputs": [],
   "source": [
    "def eu_dist(p1, p2):\n",
    "    return np.sqrt(np.sum([(x - y)**2 for x, y in zip(p1, p2)]))"
   ]
  },
  {
   "cell_type": "code",
   "execution_count": null,
   "id": "783efae3",
   "metadata": {},
   "outputs": [],
   "source": []
  },
  {
   "cell_type": "code",
   "execution_count": 4,
   "id": "f20e39da",
   "metadata": {},
   "outputs": [],
   "source": [
    "def get_shell_mask(mask, do_skeletonize=False, as_points=False):\n",
    "    out = ndi.binary_erosion(mask)^mask\n",
    "    if do_skeletonize:\n",
    "        out = skeletonize(out)\n",
    "    if as_points:\n",
    "        out = astro.morpho.mask2points(out)\n",
    "    return out "
   ]
  },
  {
   "cell_type": "code",
   "execution_count": 5,
   "id": "6a7ca327",
   "metadata": {},
   "outputs": [],
   "source": [
    "def largest_region(mask):\n",
    "    labels, nlab = ndi.label(mask)\n",
    "    if nlab > 0:\n",
    "        objs = ndi.find_objects(labels)\n",
    "        sizes = [np.sum(labels[o]==k+1) for k,o in enumerate(objs)]\n",
    "        k = np.argmax(sizes)\n",
    "        return labels==k+1\n",
    "    else:\n",
    "        return mask\n",
    "        \n",
    "def crop_image(img, mask=None, margin=0, min_obj_size=0):\n",
    "    if mask is None:\n",
    "        mask = img > 0\n",
    "    if min_obj_size > 0:\n",
    "        mask = remove_small_objects(mask, min_obj_size)\n",
    "    if margin > 0:\n",
    "        mask = ndi.binary_dilation(mask, iterations=margin)\n",
    "    objs = ndi.find_objects(mask)\n",
    "    min_bnds = np.min([[sl.start for sl in o] for o in objs],0)\n",
    "    max_bnds = np.max([[sl.stop for sl in o] for o in objs],0)\n",
    "    crop = tuple(slice(mn,mx) for mn,mx in zip(min_bnds, max_bnds))\n",
    "    return img[crop]"
   ]
  },
  {
   "cell_type": "code",
   "execution_count": 6,
   "id": "1cd62061",
   "metadata": {},
   "outputs": [],
   "source": [
    "plt.rc('figure', dpi=150)"
   ]
  },
  {
   "cell_type": "markdown",
   "id": "7c03ab85",
   "metadata": {},
   "source": [
    "# Параметры для запуска"
   ]
  },
  {
   "cell_type": "code",
   "execution_count": 7,
   "id": "b89a3411",
   "metadata": {
    "tags": [
     "parameters"
    ]
   },
   "outputs": [],
   "source": [
    "if os.path.exists('/home/incredible/astro-morpho'):\n",
    "    data_dir = '/home/incredible/astro-morpho/data/atlas/'\n",
    "else:\n",
    "    print(\"Dont know where to look for the data\")\n",
    "\n",
    "output_dir = './output/'\n",
    "\n",
    "# filename = '28 Alzheimer Lynx1'\n",
    "# filename = '11 Alzheimer'\n",
    "file_dir = 'a22 tgL x20_2'\n",
    "filename = 'a22 tgL x20_2/a22 tgL x20_2_z04.tif'\n",
    "# filename = 'test_astro.tiff'\n",
    "\n",
    "\n",
    "filetype = 'TIFF' # Can be 'TIFF'\n",
    "\n",
    "imagetype = 'CROP' # Can be 'STACK' or 'CROP'\n",
    "\n",
    "use_clahe = True\n",
    "sigmas = 2**np.arange(0, 3, 0.5)\n",
    "alpha = 0.5 # relative weight of coside distance between Hessian vector and linkage vector\n",
    "beta = 0.0  # weight of Euclidean distance between the nodes \n",
    "offset=1\n",
    "\n",
    "VERBOSE = True\n",
    "\n",
    "# Set false to start from console\n",
    "HANDY = True\n",
    "\n",
    "# Set true to save output\n",
    "OUT = False"
   ]
  },
  {
   "cell_type": "markdown",
   "id": "531eae11",
   "metadata": {},
   "source": [
    "# Считывание изображения"
   ]
  },
  {
   "cell_type": "code",
   "execution_count": 8,
   "id": "65465c48",
   "metadata": {},
   "outputs": [],
   "source": [
    "if HANDY:\n",
    "    VERBOSE = False"
   ]
  },
  {
   "cell_type": "code",
   "execution_count": 9,
   "id": "f411a206",
   "metadata": {},
   "outputs": [
    {
     "data": {
      "text/plain": [
       "PosixPath('/home/incredible/astro-morpho/data/atlas/a22 tgL x20_2')"
      ]
     },
     "execution_count": 9,
     "metadata": {},
     "output_type": "execute_result"
    }
   ],
   "source": [
    "datapath = Path(data_dir).joinpath(file_dir)\n",
    "# datapath = Path(data_dir).joinpath(filename)\n",
    "datapath"
   ]
  },
  {
   "cell_type": "code",
   "execution_count": 10,
   "id": "7c197b6e",
   "metadata": {},
   "outputs": [],
   "source": [
    "# x1, x2, y1, y2 = 1004, 1622, 2266, 2780 # 11 Alzheimer\n",
    "# x1, x2, y1, y2 = 822, 1306, 2641, 3082 # 28 Alzheimer Lynx1\n",
    "x1, x2, y1, y2 = 1231, 1634, 2138, 2486 # test_astrocyte"
   ]
  },
  {
   "cell_type": "code",
   "execution_count": 11,
   "id": "65821b64",
   "metadata": {},
   "outputs": [],
   "source": [
    "if imagetype == 'CROP':\n",
    "    stack = np.zeros((23, x2-x1, y2-y1))\n",
    "elif imagetype == 'STACK':\n",
    "    stack = np.zeros((23, 4096, 4096))\n",
    "\n",
    "filenames = [filename for filename in os.listdir(datapath)]\n",
    "filenames = sorted(filenames)\n",
    "for i, filename in enumerate(filenames):\n",
    "    filepath = Path(datapath).joinpath(filename)\n",
    "    if imagetype == 'CROP':\n",
    "        stack[i] = tiff.imread(filepath)[x1:x2, y1:y2]\n",
    "    elif imagetype == 'STACK':\n",
    "        stack[i] = tiff.imread(filepath)[..., 2]"
   ]
  },
  {
   "cell_type": "code",
   "execution_count": null,
   "id": "e41ab5b8",
   "metadata": {},
   "outputs": [],
   "source": [
    "stack = tiff.imread(datapath)\n",
    "# image = np.zeros((2, *stack.shape))\n",
    "# image[0]=stack\n",
    "# image[1]=stack"
   ]
  },
  {
   "cell_type": "code",
   "execution_count": null,
   "id": "8ea73868",
   "metadata": {},
   "outputs": [],
   "source": [
    "stack.shape"
   ]
  },
  {
   "cell_type": "code",
   "execution_count": 12,
   "id": "cb5094ea",
   "metadata": {
    "scrolled": true
   },
   "outputs": [],
   "source": [
    "w = napari.view_image(stack)\n",
    "# w.add_image(tiff.imread(filepath)[..., 2])"
   ]
  },
  {
   "cell_type": "code",
   "execution_count": 13,
   "id": "324a656d",
   "metadata": {},
   "outputs": [],
   "source": [
    "stack = stack[1:9]"
   ]
  },
  {
   "cell_type": "markdown",
   "id": "529843e2",
   "metadata": {},
   "source": [
    "# Выделение отдельных клеток"
   ]
  },
  {
   "cell_type": "code",
   "execution_count": 14,
   "id": "19adbf34",
   "metadata": {},
   "outputs": [],
   "source": [
    "cell_choosing_viewer = napari.view_image(stack[6])"
   ]
  },
  {
   "cell_type": "code",
   "execution_count": 15,
   "id": "2fd844af",
   "metadata": {},
   "outputs": [],
   "source": [
    "class Cell():\n",
    "    def __init__(self, region=None, image=None):\n",
    "        self.region = region\n",
    "        self.image = image"
   ]
  },
  {
   "cell_type": "code",
   "execution_count": null,
   "id": "2d778125",
   "metadata": {
    "scrolled": true
   },
   "outputs": [],
   "source": [
    "cell_choosing_viewer.layers[1].data"
   ]
  },
  {
   "cell_type": "code",
   "execution_count": null,
   "id": "774fa1f7",
   "metadata": {},
   "outputs": [],
   "source": [
    "cells = []\n",
    "layer_name = '{}_cell_select.csv'.format(os.path.basename(filename))\n",
    "\n",
    "if layer_name in :\n",
    "    layer.save(os.path.join(output_dir, layer_name)) \n",
    "\n",
    "\n",
    "for layer in cell_choosing_viewer.layers:\n",
    "    if type(layer) is napari.layers.shapes.shapes.Shapes:      \n",
    "        for arr in layer.data:\n",
    "            r = np.array([arr.min(axis=0), arr.max(axis=0)], dtype=int)\n",
    "            cells.append(Cell(r, stack[:12, r[0][0]:r[1][0], r[0][1]:r[1][1]]))\n",
    "            "
   ]
  },
  {
   "cell_type": "code",
   "execution_count": null,
   "id": "a16db5ae",
   "metadata": {
    "scrolled": true
   },
   "outputs": [],
   "source": [
    "# w = napari.view_image(np.zeros((1,1,1)))\n",
    "# for cell in cells:\n",
    "#     print(cell.region, cell.image.shape)\n",
    "#     w.add_image(cell.image)\n",
    "    "
   ]
  },
  {
   "cell_type": "markdown",
   "id": "71c3a582",
   "metadata": {},
   "source": [
    "# Анализ клеток"
   ]
  },
  {
   "cell_type": "code",
   "execution_count": 75,
   "id": "398657e1",
   "metadata": {},
   "outputs": [
    {
     "name": "stdout",
     "output_type": "stream",
     "text": [
      "Center\n"
     ]
    }
   ],
   "source": [
    "# cell = cells[0]\n",
    "cell = Cell(image=final_image)\n",
    "\n",
    "print('Center')\n",
    "obj = ao.AstrObject(cell.image)\n",
    "obj.center_detection()"
   ]
  },
  {
   "cell_type": "code",
   "execution_count": 76,
   "id": "55b59bb7",
   "metadata": {},
   "outputs": [
    {
     "name": "stdout",
     "output_type": "stream",
     "text": [
      "Soma Mask\n",
      "Mask Expanding\n",
      "Soma Shell\n",
      "CPU times: user 188 ms, sys: 0 ns, total: 188 ms\n",
      "Wall time: 184 ms\n"
     ]
    }
   ],
   "source": [
    "print('Soma Mask')\n",
    "%time obj.soma_segmentation(return_shell=True)"
   ]
  },
  {
   "cell_type": "code",
   "execution_count": 77,
   "id": "78bd620b",
   "metadata": {},
   "outputs": [],
   "source": [
    "if VERBOSE:\n",
    "    w = napari.view_image(cell.image, ndisplay=3, opacity=0.5)\n",
    "    w.add_image(obj.soma_mask, blending='additive', colormap='magenta')"
   ]
  },
  {
   "cell_type": "code",
   "execution_count": 78,
   "id": "0fc3ed66",
   "metadata": {},
   "outputs": [
    {
     "name": "stdout",
     "output_type": "stream",
     "text": [
      "Branch Segmentation\n",
      "Vectors and Masks...\n",
      "Merging...\n",
      "CPU times: user 12.6 s, sys: 69.8 ms, total: 12.7 s\n",
      "Wall time: 12.7 s\n"
     ]
    }
   ],
   "source": [
    "print('Branch Segmentation')\n",
    "%time obj.branch_segmentation((1,), sigmas=sigmas)"
   ]
  },
  {
   "cell_type": "code",
   "execution_count": 79,
   "id": "98368d82",
   "metadata": {},
   "outputs": [],
   "source": [
    "if VERBOSE:\n",
    "    w = napari.view_image(cell.image, ndisplay=3, opacity=0.5)\n",
    "    w.add_image(obj.sigma_mask, blending='additive', colormap='turbo')"
   ]
  },
  {
   "cell_type": "code",
   "execution_count": 80,
   "id": "561af444",
   "metadata": {},
   "outputs": [
    {
     "name": "stdout",
     "output_type": "stream",
     "text": [
      "Full Graph\n",
      "CPU times: user 5.25 s, sys: 43.9 ms, total: 5.29 s\n",
      "Wall time: 5.29 s\n"
     ]
    }
   ],
   "source": [
    "print('Full Graph')\n",
    "%time obj.full_graph_plotting(alpha, beta)"
   ]
  },
  {
   "cell_type": "code",
   "execution_count": 81,
   "id": "9a63f0a1",
   "metadata": {},
   "outputs": [],
   "source": [
    "def draw_edges(pos, edgelist):\n",
    "    return np.asarray([[pos[n1], pos[n2]] for n1, n2 in edgelist])\n",
    "if VERBOSE:\n",
    "    w = napari.view_image(cell.image, ndisplay=3, opacity=0.5)\n",
    "    points = np.array([n for n in obj.full_graph.nodes])\n",
    "    img_test = np.zeros(cell.image.shape)\n",
    "    img_test[points[:,0], points[:,1], points[:,2]] = 1\n",
    "    w.add_image(img_test, blending='additive')\n",
    "    pos = {n:n for n in obj.full_graph.nodes}\n",
    "    edges = draw_edges(pos, list(obj.full_graph.edges))\n",
    "    w.add_shapes(edges[:1000], shape_type='line', edge_width=0.1)"
   ]
  },
  {
   "cell_type": "code",
   "execution_count": 82,
   "id": "b9b324e1",
   "metadata": {
    "scrolled": false
   },
   "outputs": [
    {
     "name": "stdout",
     "output_type": "stream",
     "text": [
      "Graph\n"
     ]
    },
    {
     "data": {
      "application/vnd.jupyter.widget-view+json": {
       "model_id": "03d6c01618b84645bdbff7dc4c6451fd",
       "version_major": 2,
       "version_minor": 0
      },
      "text/plain": [
       "  0%|          | 0/207 [00:00<?, ?it/s]"
      ]
     },
     "metadata": {},
     "output_type": "display_data"
    },
    {
     "name": "stdout",
     "output_type": "stream",
     "text": [
      "<class 'astro_graph.AstroGraph'>\n",
      "No cycles!\n",
      "CPU times: user 1min 44s, sys: 153 ms, total: 1min 44s\n",
      "Wall time: 1min 44s\n"
     ]
    }
   ],
   "source": [
    "print('Graph')\n",
    "%time obj.astro_graph_plotting(min_path_length=10)\n",
    "graph = obj.graph"
   ]
  },
  {
   "cell_type": "code",
   "execution_count": 84,
   "id": "121355d0",
   "metadata": {},
   "outputs": [],
   "source": [
    "if VERBOSE:\n",
    "    w =  napari.view_image(cell.image, ndisplay=3, opacity=0.5)\n",
    "#     w.add_image(sigma_mask, colormap='turbo', blending='additive', visible=False)\n",
    "    graph.view_graph_as_colored_image(cell.image.shape, w);\n",
    "    napari.run()"
   ]
  },
  {
   "cell_type": "markdown",
   "id": "045143ca",
   "metadata": {},
   "source": [
    "Так как тестовый вариант, то сначала считаем для одной клетки"
   ]
  },
  {
   "cell_type": "code",
   "execution_count": 16,
   "id": "b5621fd4",
   "metadata": {},
   "outputs": [],
   "source": [
    "# image = cells[2].image\n",
    "# napari.view_image(image)\n",
    "image = stack"
   ]
  },
  {
   "cell_type": "markdown",
   "id": "c0fd0cd6",
   "metadata": {},
   "source": [
    "# Предобработка изображения"
   ]
  },
  {
   "cell_type": "markdown",
   "id": "e4739984",
   "metadata": {},
   "source": [
    "## CLAHE"
   ]
  },
  {
   "cell_type": "code",
   "execution_count": 17,
   "id": "232a18e3",
   "metadata": {},
   "outputs": [],
   "source": [
    "clahe = cv2.createCLAHE(clipLimit =2.0, tileGridSize=(8,8))"
   ]
  },
  {
   "cell_type": "code",
   "execution_count": 18,
   "id": "e6353c55",
   "metadata": {},
   "outputs": [],
   "source": [
    "stack_shape = image.shape\n",
    "img_clahe = np.zeros(image.shape, np.float32)\n",
    "for k, plane in enumerate(image):\n",
    "    img_clahe[k] = clahe.apply(plane.astype('uint8'))"
   ]
  },
  {
   "cell_type": "code",
   "execution_count": 19,
   "id": "4e3f1871",
   "metadata": {},
   "outputs": [],
   "source": [
    "if VERBOSE:\n",
    "    wi = napari.view_image(image, ndisplay=3, scale=(1, 1,1), name='raw', colormap='magenta')\n",
    "    wi.add_image(img_clahe, scale=(1,1,1), name='CLAHE',colormap='magenta')"
   ]
  },
  {
   "cell_type": "code",
   "execution_count": 20,
   "id": "1a392ade",
   "metadata": {},
   "outputs": [],
   "source": [
    "# check if use clahe or not\n",
    "img = img_clahe # if use_clahe else stack"
   ]
  },
  {
   "cell_type": "markdown",
   "id": "a55420dd",
   "metadata": {},
   "source": [
    "## Фильтрация изображения"
   ]
  },
  {
   "cell_type": "code",
   "execution_count": null,
   "id": "259ccac7",
   "metadata": {},
   "outputs": [],
   "source": [
    "img_noisy = image /255\n",
    "img_noisy.min(), img_noisy.max()"
   ]
  },
  {
   "cell_type": "code",
   "execution_count": null,
   "id": "2cc6f1a1",
   "metadata": {},
   "outputs": [],
   "source": [
    "from skimage.filters import threshold_minimum, threshold_local, threshold_yen, threshold_isodata, rank, threshold_otsu\n",
    "from skimage.morphology import disk, ball"
   ]
  },
  {
   "cell_type": "code",
   "execution_count": null,
   "id": "0d1378aa",
   "metadata": {},
   "outputs": [],
   "source": [
    "def filter_image(image, filter_func):\n",
    "    threshold = filter_func(image)\n",
    "    #img_filt = np.where(image > threshold, image, 0)\n",
    "    pre_mask = ndi.binary_closing(image >= threshold)\n",
    "    pre_mask = remove_small_objects(pre_mask, 5, connectivity=3)\n",
    "    binary_clean = largest_region(pre_mask)\n",
    "    return np.where(binary_clean, image, 0), threshold"
   ]
  },
  {
   "cell_type": "code",
   "execution_count": null,
   "id": "9d1ea014",
   "metadata": {},
   "outputs": [],
   "source": [
    "img_li, li = filter_image(img_noisy, threshold_li)\n",
    "img_min, m = filter_image(img_noisy, threshold_minimum)\n",
    "img_iso, iso = filter_image(img_noisy, threshold_isodata)\n",
    "img_yen, yen = filter_image(img_noisy, threshold_yen)\n",
    "# img_loc, loc = filter_image(img_noisy, threshold_local)"
   ]
  },
  {
   "cell_type": "code",
   "execution_count": null,
   "id": "d30ff88c",
   "metadata": {},
   "outputs": [],
   "source": [
    "img_tr, tr = filter_image(img_noisy, threshold_triangle)\n",
    "img_ots, ots = filter_image(img_noisy, threshold_otsu)"
   ]
  },
  {
   "cell_type": "code",
   "execution_count": null,
   "id": "7b7fd9e7",
   "metadata": {},
   "outputs": [],
   "source": [
    "plt.hist(np.ravel(img_noisy), bins=255)\n",
    "plt.axvline(li, color='red', label='li')\n",
    "plt.axvline(m, color='orange', label='min')\n",
    "plt.axvline(iso, color='green', label='iso')\n",
    "plt.axvline(yen, color='black', label='yen')\n",
    "plt.axvline(ots, color='blue', label='otsu')\n",
    "plt.axvline(tr, color='yellow', label='triangle')\n",
    "plt.legend()\n",
    "# plt.hist(np.ravel(img_clear), bins=255)\n",
    "plt.show()"
   ]
  },
  {
   "cell_type": "code",
   "execution_count": null,
   "id": "6b396430",
   "metadata": {},
   "outputs": [],
   "source": [
    "w = napari.view_image(img_noisy)\n",
    "w.add_image(img_li)\n",
    "w.add_image(img_tr)\n",
    "w.add_image(img_min)\n",
    "w.add_image(img_iso)\n",
    "w.add_image(img_yen)\n",
    "w.add_image(img_ots)\n",
    "w.add_image(img)"
   ]
  },
  {
   "cell_type": "markdown",
   "id": "0c21f469",
   "metadata": {},
   "source": [
    "Лучше всего работает Yen, но Iso лучше"
   ]
  },
  {
   "cell_type": "code",
   "execution_count": null,
   "id": "c1cc983a",
   "metadata": {
    "scrolled": true
   },
   "outputs": [],
   "source": [
    "final_image = image\n",
    "final_image.shape"
   ]
  },
  {
   "cell_type": "code",
   "execution_count": null,
   "id": "cabef076",
   "metadata": {},
   "outputs": [],
   "source": [
    "domain_mask3d = ndi.binary_fill_holes(final_image > 0)\n",
    "domain_shell_mask = get_shell_mask(domain_mask3d)"
   ]
  },
  {
   "cell_type": "code",
   "execution_count": null,
   "id": "2f8a53d8",
   "metadata": {},
   "outputs": [],
   "source": [
    "def planewise_fill_holes(mask):\n",
    "    for k,plane in enumerate(mask):\n",
    "        mask[k] = ndi.binary_fill_holes(plane)\n",
    "    return mask\n",
    "\n",
    "    \n",
    "domain_mask3d = planewise_fill_holes(domain_mask3d)\n",
    "\n",
    "domain_mask3d = np.moveaxis(domain_mask3d, 1, 0)   \n",
    "domain_mask3d = planewise_fill_holes(domain_mask3d)\n",
    "domain_mask3d = np.moveaxis(domain_mask3d, 0, 1)\n",
    "\n",
    "\n",
    "domain_mask3d = np.moveaxis(domain_mask3d, 2, 0)\n",
    "domain_mask3d = planewise_fill_holes(domain_mask3d)\n",
    "domain_mask3d = np.moveaxis(domain_mask3d, 0, 2)"
   ]
  },
  {
   "cell_type": "code",
   "execution_count": null,
   "id": "42792953",
   "metadata": {},
   "outputs": [],
   "source": [
    "domain_outer_shell_mask = get_shell_mask(domain_mask3d) & domain_shell_mask"
   ]
  },
  {
   "cell_type": "code",
   "execution_count": null,
   "id": "f0976456",
   "metadata": {
    "scrolled": true
   },
   "outputs": [],
   "source": [
    "if VERBOSE:\n",
    "    w = napari.view_image(final_image)\n",
    "#     w.add_image(final_image, colormap='magenta', blending='additive')\n",
    "    w.add_image(domain_shell_mask, colormap='green', blending='additive')\n",
    "    w.add_image(domain_outer_shell_mask, colormap='red', blending='additive')"
   ]
  },
  {
   "cell_type": "code",
   "execution_count": null,
   "id": "9516fcb2",
   "metadata": {},
   "outputs": [],
   "source": [
    "import skeletonization as skelet"
   ]
  },
  {
   "cell_type": "code",
   "execution_count": null,
   "id": "ce71592b",
   "metadata": {},
   "outputs": [],
   "source": [
    "from importlib import reload\n",
    "reload(skelet)"
   ]
  },
  {
   "cell_type": "markdown",
   "id": "a66b7bc8",
   "metadata": {},
   "source": [
    "# Сегментация сомы"
   ]
  },
  {
   "cell_type": "code",
   "execution_count": 28,
   "id": "c4ddbd59",
   "metadata": {},
   "outputs": [],
   "source": [
    "from skimage.morphology import flood"
   ]
  },
  {
   "cell_type": "code",
   "execution_count": 29,
   "id": "2131ed8a",
   "metadata": {},
   "outputs": [],
   "source": [
    "def percentile_rescale(arr, plow=1, phigh=99.5):\n",
    "    low, high = np.percentile(arr, (plow, phigh))\n",
    "    if low == high:\n",
    "        return np.zeros_like(arr)\n",
    "    else:\n",
    "        return np.clip((arr-low)/(high-low), 0, 1)\n",
    "\n",
    "\n",
    "def flat_indices(shape):\n",
    "    idx = np.indices(shape)\n",
    "    return np.hstack([np.ravel(x_)[:,None] for x_ in idx])\n"
   ]
  },
  {
   "cell_type": "code",
   "execution_count": 30,
   "id": "f2dd1848",
   "metadata": {},
   "outputs": [],
   "source": [
    "X1a = flat_indices(final_image.shape)\n",
    "weights_s = percentile_rescale(np.ravel(ndi.gaussian_filter(final_image,5))**2,plow=99.5,phigh=99.99)\n",
    "center = tuple(map(int, np.sum(X1a*weights_s[:,None],axis=0)/np.sum(weights_s)))"
   ]
  },
  {
   "cell_type": "code",
   "execution_count": null,
   "id": "4c8c09fa",
   "metadata": {},
   "outputs": [],
   "source": [
    "smooth_stack = ndi.gaussian_filter(final_image, 3)\n",
    "tol = (smooth_stack.max() - smooth_stack[image>0].min())/10\n",
    "soma_seed_mask = flood(smooth_stack, center, tolerance=tol)"
   ]
  },
  {
   "cell_type": "code",
   "execution_count": null,
   "id": "0ca42ca5",
   "metadata": {},
   "outputs": [],
   "source": [
    "w = napari.view_image(final_image, opacity=0.5)\n",
    "w.add_image(soma_seed_mask, colormap='magenta', blending='additive')"
   ]
  },
  {
   "cell_type": "code",
   "execution_count": null,
   "id": "483ee457",
   "metadata": {},
   "outputs": [],
   "source": [
    "soma_mask = astro.morpho.expand_mask(soma_seed_mask, smooth_stack, iterations=10)"
   ]
  },
  {
   "cell_type": "code",
   "execution_count": null,
   "id": "f1fd73c8",
   "metadata": {},
   "outputs": [],
   "source": [
    "soma_shell = get_shell_mask(soma_mask, as_points=True)"
   ]
  },
  {
   "cell_type": "code",
   "execution_count": null,
   "id": "2619af3a",
   "metadata": {},
   "outputs": [],
   "source": [
    "np.array([np.array(center)])"
   ]
  },
  {
   "cell_type": "code",
   "execution_count": null,
   "id": "7b186bff",
   "metadata": {},
   "outputs": [],
   "source": [
    "w = napari.view_image(final_image)\n",
    "w.add_image(soma_seed_mask)\n",
    "w.add_image(soma_mask)\n",
    "w.add_points(data=np.array(center))\n",
    "# w.add_image(soma_shell)"
   ]
  },
  {
   "cell_type": "markdown",
   "id": "168f80db",
   "metadata": {},
   "source": [
    "# Ручное выделение клетки"
   ]
  },
  {
   "cell_type": "code",
   "execution_count": 22,
   "id": "fdd51827",
   "metadata": {},
   "outputs": [],
   "source": [
    "final_image = img"
   ]
  },
  {
   "cell_type": "code",
   "execution_count": 23,
   "id": "91fc1e4b",
   "metadata": {},
   "outputs": [],
   "source": [
    "region_choosing = napari.view_image(final_image)\n",
    "napari.run()"
   ]
  },
  {
   "cell_type": "code",
   "execution_count": 24,
   "id": "80d917fe",
   "metadata": {},
   "outputs": [],
   "source": [
    "idx = region_choosing.layers[1].data[0].astype(int)"
   ]
  },
  {
   "cell_type": "code",
   "execution_count": 25,
   "id": "ab186a41",
   "metadata": {},
   "outputs": [],
   "source": [
    "from skimage.draw import polygon, polygon2mask, polygon_perimeter\n",
    "mask = np.zeros(final_image.shape, dtype=bool)\n",
    "rr, cc = polygon(idx[:,1], idx[:,2], final_image.shape[1:])\n",
    "mask[4, rr, cc] = 1"
   ]
  },
  {
   "cell_type": "code",
   "execution_count": 31,
   "id": "be62f3c6",
   "metadata": {},
   "outputs": [],
   "source": [
    "# flats = np.array([(i, r, c) for i in range(final_image.shape[0]) for r,c in zip(rr, cc)])\n",
    "flats = np.array([(4, r, c) for r,c in zip(rr, cc)])\n",
    "weights_s = percentile_rescale(np.ravel(ndi.gaussian_filter(final_image[mask],5))**2,plow=99.5,phigh=99.99)\n",
    "center = tuple(map(int, np.sum(flats*weights_s[:,None],axis=0)/np.sum(weights_s)))"
   ]
  },
  {
   "cell_type": "code",
   "execution_count": 32,
   "id": "bf0a8fac",
   "metadata": {},
   "outputs": [
    {
     "data": {
      "text/plain": [
       "(3, 223, 188)"
      ]
     },
     "execution_count": 32,
     "metadata": {},
     "output_type": "execute_result"
    }
   ],
   "source": [
    "center"
   ]
  },
  {
   "cell_type": "code",
   "execution_count": 33,
   "id": "1aaf8833",
   "metadata": {},
   "outputs": [
    {
     "data": {
      "text/plain": [
       "Viewer(axes=Axes(visible=False, labels=True, colored=True, dashed=False, arrows=True), camera=Camera(center=(0.0, 201.0, 173.5), zoom=1.713771712158809, angles=(0.0, 0.0, 90.0), perspective=0.0, interactive=True), cursor=Cursor(position=(1.0, 1.0, 0.0), scaled=True, size=1, style=<CursorStyle.STANDARD: 'standard'>), dims=Dims(ndim=3, ndisplay=2, last_used=0, range=((0.0, 8.0, 1.0), (0.0, 403.0, 1.0), (0.0, 348.0, 1.0)), current_step=(4, 201, 174), order=(0, 1, 2), axis_labels=('0', '1', '2')), grid=GridCanvas(stride=1, shape=(-1, -1), enabled=False), layers=[<Image layer 'img' at 0x7f94443b8940>], scale_bar=ScaleBar(visible=False, colored=False, ticks=True, position=<Position.BOTTOM_RIGHT: 'bottom_right'>, font_size=10.0, unit=None), text_overlay=TextOverlay(visible=False, color=array([0.5, 0.5, 0.5, 1. ]), font_size=10.0, position=<TextOverlayPosition.TOP_LEFT: 'top_left'>, text=''), overlays=Overlays(interaction_box=InteractionBox(points=None, show=False, show_handle=False, show_vertices=False, selection_box_drag=None, selection_box_final=None, transform_start=<napari.utils.transforms.transforms.Affine object at 0x7f943168dbe0>, transform_drag=<napari.utils.transforms.transforms.Affine object at 0x7f943168dc40>, transform_final=<napari.utils.transforms.transforms.Affine object at 0x7f943168dca0>, transform=<napari.utils.transforms.transforms.Affine object at 0x7f943168dd00>, allow_new_selection=True, selected_vertex=None)), help='', status='Ready', tooltip=Tooltip(visible=False, text=''), theme='dark', title='napari', mouse_move_callbacks=[<function InteractionBoxMouseBindings.initialize_mouse_events.<locals>.mouse_move at 0x7f944437f820>], mouse_drag_callbacks=[<function InteractionBoxMouseBindings.initialize_mouse_events.<locals>.mouse_drag at 0x7f944437f430>], mouse_double_click_callbacks=[], mouse_wheel_callbacks=[<function dims_scroll at 0x7f948713b5e0>], _persisted_mouse_event={}, _mouse_drag_gen={}, _mouse_wheel_gen={}, keymap={'Shift': <function InteractionBoxMouseBindings.initialize_key_events.<locals>.hold_to_lock_aspect_ratio at 0x7f944437f4c0>, 'Control-Shift-R': <function InteractionBoxMouseBindings._reset_active_layer_affine at 0x7f944437f1f0>, 'Control-Shift-A': <function InteractionBoxMouseBindings._transform_active_layer at 0x7f944437f700>})"
      ]
     },
     "execution_count": 33,
     "metadata": {},
     "output_type": "execute_result"
    }
   ],
   "source": [
    "test_mask = mask[:]\n",
    "test_mask[:, rr, cc] = 1\n",
    "img[~test_mask] = 0\n",
    "napari.view_image(img)"
   ]
  },
  {
   "cell_type": "code",
   "execution_count": null,
   "id": "62679a3f",
   "metadata": {},
   "outputs": [],
   "source": []
  },
  {
   "cell_type": "code",
   "execution_count": null,
   "id": "297e26e9",
   "metadata": {},
   "outputs": [],
   "source": []
  },
  {
   "cell_type": "markdown",
   "id": "cbae76f9",
   "metadata": {},
   "source": [
    "# Сегментация веток"
   ]
  },
  {
   "cell_type": "markdown",
   "id": "7a61810f",
   "metadata": {},
   "source": [
    "## Расчет СВ и контраста Сато для различных сигм"
   ]
  },
  {
   "cell_type": "code",
   "execution_count": null,
   "id": "804a8b91",
   "metadata": {},
   "outputs": [],
   "source": [
    "if HANDY:\n",
    "    #sigmas = 2**np.arange(-1, 3, 0.5)\n",
    "    sigmas = 2**np.arange(0.5, 5, 0.5)"
   ]
  },
  {
   "cell_type": "code",
   "execution_count": null,
   "id": "95a0ef0a",
   "metadata": {},
   "outputs": [],
   "source": [
    "sato_coll = {}\n",
    "Vf_coll = {}"
   ]
  },
  {
   "cell_type": "code",
   "execution_count": null,
   "id": "e1e4829a",
   "metadata": {},
   "outputs": [],
   "source": [
    "scale = (2,)"
   ]
  },
  {
   "cell_type": "code",
   "execution_count": null,
   "id": "db2b267e",
   "metadata": {},
   "outputs": [],
   "source": [
    "for sigma in tqdm(sigmas):\n",
    "    #astro.morpho.sato3d is newer and uses tensorflow (if it's installed)\n",
    "    #optimally, the two variants of sato3d should be merged\n",
    "    sato, Vf = astro.morpho.sato3d(final_image, (sigma/scale[0], sigma, sigma), hessian_variant='gradient_of_smoothed', do_brightness_correction=False, return_vectors=True)\n",
    "    sato_coll[sigma] = (sato*sigma**2)*(final_image > 0)\n",
    "    # Zero'th eigenvector is now the one corresponding to the largest eigenvalue \n",
    "    # (due to eigenvalue sorting in Sato3d)\n",
    "    Vf_coll[sigma] = Vf[...,0][...,::-1] # z, r, c"
   ]
  },
  {
   "cell_type": "code",
   "execution_count": null,
   "id": "ddf5a025",
   "metadata": {},
   "outputs": [],
   "source": [
    "lengths_coll = {sigma: astro.enh.percentile_rescale(sato)**0.5 for sigma, sato in sato_coll.items()}\n",
    "vectors_coll = {}"
   ]
  },
  {
   "cell_type": "code",
   "execution_count": null,
   "id": "25edb917",
   "metadata": {},
   "outputs": [],
   "source": [
    "for sigma in Vf_coll:\n",
    "    Vfx = Vf_coll[sigma]\n",
    "    #V = Vfx[..., 0] # Y \n",
    "    #U = Vfx[..., 1] # X\n",
    "    #C = Vfx[..., 2] # Z\n",
    "    # I would rather keep vectors in the ZRC (as in matrix indexing, not Cartezian order)\n",
    "    C = Vfx[...,0] # -> Z (d)\n",
    "    V = Vfx[...,1] # -> Y (r)\n",
    "    U = Vfx[...,2] # -> X (c)\n",
    "    lengths = lengths_coll[sigma]\n",
    "    vectors_coll[sigma] = np.stack((C*lengths, V*lengths, U*lengths), axis=3) # (in XYZ)"
   ]
  },
  {
   "cell_type": "markdown",
   "id": "5e576d40",
   "metadata": {},
   "source": [
    "## Расчет масок для различных сигм"
   ]
  },
  {
   "cell_type": "code",
   "execution_count": null,
   "id": "b85f7c47",
   "metadata": {},
   "outputs": [],
   "source": [
    "from ucats import masks as umasks"
   ]
  },
  {
   "cell_type": "code",
   "execution_count": null,
   "id": "2dfd086d",
   "metadata": {},
   "outputs": [],
   "source": [
    "w = napari.view_image(final_image)\n",
    "masks = {}\n",
    "for sigma in tqdm(sigmas):\n",
    "    sato = sato_coll[sigma]\n",
    "    threshold = threshold_li(sato[sato>0])*sigma**0.5\n",
    "    masks[sigma] = remove_small_objects(sato > threshold, min_size=int(sigma*64))\n",
    "    w.add_image(masks[sigma], blending='additive')"
   ]
  },
  {
   "cell_type": "markdown",
   "id": "e9deb4a3",
   "metadata": {},
   "source": [
    "Некоторые маски обнуляются для больших сигм. Это значит, что они не несут важной информации и их можно исключить из рассмотрения"
   ]
  },
  {
   "cell_type": "code",
   "execution_count": null,
   "id": "369fd1ca",
   "metadata": {},
   "outputs": [],
   "source": [
    "sigma2del = {}\n",
    "\n",
    "for i, sigma in enumerate(tqdm(sigmas)):\n",
    "    if np.sum(masks[sigma]) == 0:\n",
    "        sigma2del[i] = sigma"
   ]
  },
  {
   "cell_type": "code",
   "execution_count": null,
   "id": "10d66501",
   "metadata": {},
   "outputs": [],
   "source": [
    "for sigma in sigma2del.values():\n",
    "    del masks[sigma]\n",
    "    del sato_coll[sigma]\n",
    "    del vectors_coll[sigma]\n",
    "    del lengths_coll[sigma]\n",
    "\n",
    "sigmas = np.delete(sigmas, list(sigma2del.keys()))"
   ]
  },
  {
   "cell_type": "code",
   "execution_count": null,
   "id": "79dd2d37",
   "metadata": {},
   "outputs": [],
   "source": [
    "id2sigma = {i+1:sigma for i, sigma in enumerate(sigmas)} # shift by one, so that zero doesn't correspond to a cell\n",
    "sigma2id = {sigma:i+1 for i, sigma in enumerate(sigmas)}"
   ]
  },
  {
   "cell_type": "code",
   "execution_count": null,
   "id": "594cd6af",
   "metadata": {},
   "outputs": [],
   "source": [
    "masks[sigmas[-1]] = umasks.select_overlapping(masks[sigmas[-1]], soma_mask)"
   ]
  },
  {
   "cell_type": "code",
   "execution_count": null,
   "id": "02036ad8",
   "metadata": {},
   "outputs": [],
   "source": [
    "for k in range(len(sigmas)-2,-1,-1):\n",
    "    sigma = sigmas[k]\n",
    "    masks[sigma] = umasks.select_overlapping(masks[sigma], ndi.binary_dilation(masks[sigmas[k+1]], iterations=5))"
   ]
  },
  {
   "cell_type": "markdown",
   "id": "5e5744c6",
   "metadata": {},
   "source": [
    "Определение оптимальной сигмы"
   ]
  },
  {
   "cell_type": "code",
   "execution_count": null,
   "id": "a49ba89e",
   "metadata": {},
   "outputs": [],
   "source": [
    "fig, axs = plt.subplots(2, 4, figsize=(8,4), sharex=True)\n",
    "mask_threshs = {}\n",
    "\n",
    "for ax, sigma in zip(np.ravel(axs), sigmas):\n",
    "    lightness = final_image[masks[sigma]]\n",
    "    if sigma <= 3:\n",
    "        th = 0\n",
    "    else:\n",
    "        th = threshold_li(lightness)\n",
    "    mask_threshs[sigma] = th\n",
    "    ax.set_title(f'σ={sigma :0.1f}, th={th:0.1f}')\n",
    "    ax.hist(lightness)\n",
    "    ax.axvline(th, color='red', label='li')\n",
    "    ax.legend()"
   ]
  },
  {
   "cell_type": "code",
   "execution_count": null,
   "id": "120b96d8",
   "metadata": {},
   "outputs": [],
   "source": [
    "for sigma, mask in masks.items():\n",
    "    print(sigma)\n",
    "    pre_mask = remove_small_objects((final_image > mask_threshs[sigma]) & masks[sigma], 5, connectivity=3)\n",
    "    masks[sigma] = pre_mask"
   ]
  },
  {
   "cell_type": "code",
   "execution_count": null,
   "id": "7e6a67ee",
   "metadata": {},
   "outputs": [],
   "source": [
    "if VERBOSE:\n",
    "    w = napari.view_image(final_image)\n",
    "    for sigma in sigmas:\n",
    "        sato = sato_coll[sigma]\n",
    "        w.add_image(sato)\n",
    "        w.add_image(masks[sigma], blending='additive', name=f'σ={sigma:02f}', colormap='red')"
   ]
  },
  {
   "cell_type": "markdown",
   "id": "00e39a2c",
   "metadata": {},
   "source": [
    "## Объединение коэффициентов Сато для различных сигм"
   ]
  },
  {
   "cell_type": "code",
   "execution_count": null,
   "id": "b5076551",
   "metadata": {},
   "outputs": [],
   "source": [
    "sigma_sato = np.zeros(final_image.shape, dtype=int)\n",
    "hout = np.zeros(final_image.shape)\n",
    "mask_sum = np.zeros(final_image.shape, dtype=bool)\n",
    "\n",
    "for sigma, sato in tqdm(sorted(sato_coll.items(), reverse=True)):\n",
    "# for sigma, sato in tqdm(sorted(sato_coll.items())):\n",
    "    hcurr = sato\n",
    "    mask_sum = masks[sigma] | mask_sum\n",
    "    mask = (hcurr > hout)*mask_sum # restrict search for optimal sigmas by the corresponding mask\n",
    "    \n",
    "    hout[mask] = hcurr[mask]\n",
    "    sigma_sato[mask] = sigma2id[sigma]"
   ]
  },
  {
   "cell_type": "code",
   "execution_count": null,
   "id": "c25829df",
   "metadata": {},
   "outputs": [],
   "source": [
    "len(sigmas)"
   ]
  },
  {
   "cell_type": "markdown",
   "id": "34f6a71e",
   "metadata": {},
   "source": [
    "## Объединение собственных векторов различных сигм"
   ]
  },
  {
   "cell_type": "code",
   "execution_count": null,
   "id": "be9a05f9",
   "metadata": {},
   "outputs": [],
   "source": [
    "vectors_best = np.zeros(vectors_coll[sigmas[0]].shape)\n",
    "Vf_best = np.zeros(Vf_coll[sigmas[0]].shape)\n",
    "\n",
    "mask_sum = np.zeros(final_image.shape,bool)\n",
    "masks_exclusive = {}\n",
    "\n",
    "for k in range(len(sigmas)-1,-1,-1):\n",
    "# for k in range(len(sigmas)):\n",
    "    sigma = sigmas[k]\n",
    "    mask = masks[sigma]\n",
    "    if k < len(sigmas)-1:\n",
    "        mask = mask & (mask ^ mask_sum)\n",
    "    mask_sum += mask.astype(bool)\n",
    "    masks_exclusive[sigma] = mask\n",
    "    vectors_best[mask] = vectors_coll[sigma][mask]\n",
    "    Vf_best[mask] = Vf_coll[sigma][mask]"
   ]
  },
  {
   "cell_type": "code",
   "execution_count": null,
   "id": "5b9d1ee9",
   "metadata": {},
   "outputs": [],
   "source": [
    "sigma_mask = np.zeros(final_image.shape, dtype=int)\n",
    "for sigma_id, sigma in id2sigma.items():\n",
    "    sigma_mask[masks_exclusive[sigma]] = sigma_id"
   ]
  },
  {
   "cell_type": "code",
   "execution_count": null,
   "id": "023854d5",
   "metadata": {},
   "outputs": [],
   "source": [
    "import hessian_vectors as hv"
   ]
  },
  {
   "cell_type": "code",
   "execution_count": null,
   "id": "b70edf3b",
   "metadata": {},
   "outputs": [],
   "source": [
    "final_image.shape"
   ]
  },
  {
   "cell_type": "code",
   "execution_count": null,
   "id": "f9f6b671",
   "metadata": {},
   "outputs": [],
   "source": [
    "if VERBOSE:    \n",
    "    w = napari.view_image(final_image, )\n",
    "    colors = ['red', 'green', 'magenta', 'cyan', 'blue']\n",
    "    for sigma, color in zip(masks, itt.cycle(colors)):\n",
    "        w.add_image(masks_exclusive[sigma], blending='additive', name=f'σ={sigma:02f}',colormap=color)"
   ]
  },
  {
   "cell_type": "code",
   "execution_count": null,
   "id": "a23e5bf1",
   "metadata": {},
   "outputs": [],
   "source": [
    "qnorm = np.linalg.norm(vectors_best, axis=-1)"
   ]
  },
  {
   "cell_type": "code",
   "execution_count": null,
   "id": "880ea610",
   "metadata": {},
   "outputs": [],
   "source": [
    "if VERBOSE:\n",
    "    w = napari.view_image(final_image, opacity=0.5)\n",
    "    w.add_image(soma_mask, blending='additive', colormap='magenta')\n",
    "    w.add_image(qnorm, blending='additive', name='qnorm', contrast_limits=(qnorm[qnorm>0].min(), qnorm.max()))"
   ]
  },
  {
   "cell_type": "markdown",
   "id": "3c7be329",
   "metadata": {},
   "source": [
    "## Построение графа"
   ]
  },
  {
   "cell_type": "markdown",
   "id": "ca7b3080",
   "metadata": {},
   "source": [
    "### Выражение для весов ребер\n",
    "\n",
    "В качестве весов мы используем dissimilarities (неcхожести между узлами,  расстояния). \n",
    "\n",
    "Нам сначала удобнее сформулировать схожести векторов между соседними узлами, потом задать веса ребер как нечто противоположное схожести.\n",
    "\n",
    "Основной мерой схожести (пока) будет совпадение направлений собственных векторов матрицы Гессе. Кроме того, длины векторов у нас используются из значений vesselness (по Sato, например), а значит, чем длинее оба вектора, тем меньше должен быть вес этой связи (сильнее связь).\n",
    "\n",
    "Совпадение направлений между векторами $\\mathbf u$ и $\\mathbf{v}$ рассчитывается как cosine similarity:\n",
    "\n",
    "\\begin{equation}\n",
    "S_{uv} = S(\\mathbf{u},\\mathbf{v}) = \n",
    "\\frac{\\mathbf{u}\\cdot \\mathbf{v}}\n",
    "     {\\lVert \\mathbf{u} \\lVert \\lVert \\mathbf{v} \\lVert}\n",
    "\\end{equation}\n",
    "\n",
    "Поскольку у нас, формально, вектора могут оказаться разнонаправленными, мы должны использовать абсолютное значение $\\lvert S \\lvert$.\n",
    "\n",
    "\n",
    "Итак,  выражение для веса ребер:\n",
    "\n",
    "**Внимание: код мог \"убежать вперед\" от этого описания, проверь код!**\n",
    "\\begin{equation}\n",
    "W_{ij} := 1 - \\left[(1-\\alpha)\\lvert S^H_{ij} \\lvert + \\alpha \\lvert S^E_{ij} \\lvert \\right]\\frac{N_{ij}}{\\max{N_{ij}}},\n",
    "\\end{equation}\n",
    "\n",
    "Или (сейчас используется этот вариант)\n",
    "\n",
    "\\begin{equation}\n",
    "W_{ij} := 1 - \\lvert S^H_{ij} \\lvert + \\lvert S^E_{ij} \\lvert^\\alpha\\frac{N_{ij}}{\\max{N_{ij}}},\n",
    "\\end{equation}\n",
    "\n",
    "где $N_{ij}$ — средняя норма Hessian-based векторов в узлах, нормированная на максимальное значение. $S^H_{ij}$ — cosine similarity направлений векторов в соседних узлах, $S^E_{ii}$ — cosine similarity между ориентацией Hessian-вектора в узле $i$ и ориентацией ребра между узлами $i$ и $j$."
   ]
  },
  {
   "cell_type": "markdown",
   "id": "7c060b44",
   "metadata": {},
   "source": [
    "Можно предложить как минимум, два варианта объединения масштабов:\n",
    " 1. [X] \"Best\" -- это где вектора в каждом вокселе взяты из соответствующих масок для разных масштабов, потом все это сведено в один граф, и во всем графе\n",
    "         ищется путь до поверхности сомы. **NOTE:** по идее, маски должны быть \"исключительными\", то есть каждая область может принадлежать только одной сигме.\n",
    " 2. [ ] \"Combined\" -- скелет и пути задаются итеративно от больших масштабов к маленьким, то есть используется свой граф для каждого масштаба и пути ищутся в дополнение к уже найденым. \n",
    "       Кстати, можно сделать лучше (предположительно), если вектора из qstack_mask старшего масштаба добавлять к графу меньшего масштаба и опять искать пути до сомы. Тогда будут дополнительно \n",
    "       \"тренироваться\" пути вдоль больших веток. \n",
    "       Потом можно брать просто сумму qstacks для разных масштабов, маску можно брать как объединение всех масок на разных уровнях или снова как надпороговые пиксели. "
   ]
  },
  {
   "cell_type": "code",
   "execution_count": null,
   "id": "5884eea6",
   "metadata": {},
   "outputs": [],
   "source": []
  },
  {
   "cell_type": "code",
   "execution_count": null,
   "id": "f9ca96ac",
   "metadata": {},
   "outputs": [],
   "source": [
    "def prep_crops(ndim=3):\n",
    "    \"makes list of crops for edges\"\n",
    "    num2slice = {1: (slice(1,None), slice(None,-1)), \n",
    "                 0: (slice(None), slice(None)), \n",
    "                -1: (slice(None,-1), slice(1,None))}\n",
    "    shifts = list(itt.product(*[(-1,0,1)]*ndim))\n",
    "    # we only need one half of that\n",
    "    cut = int(np.ceil(len(shifts)/2))\n",
    "    crops_new = [list(zip(*[num2slice[n] for n in tuple])) for tuple in shifts[cut:]]\n",
    "    return crops_new"
   ]
  },
  {
   "cell_type": "code",
   "execution_count": null,
   "id": "bd952a99",
   "metadata": {},
   "outputs": [],
   "source": [
    "crops2d = prep_crops(2)"
   ]
  },
  {
   "cell_type": "code",
   "execution_count": null,
   "id": "7d272ee6",
   "metadata": {},
   "outputs": [],
   "source": [
    "def tensor_cosine_similarity(U, V, return_norms=False):\n",
    "    \"Calculate cosine similarity between vectors stored in the last dimension of some tensor\"\n",
    "    \n",
    "    dprod = np.einsum('...ij,...ij->...i', U, V)\n",
    "    \n",
    "    #norm_U = np.linalg.norm(U, axis=-1)\n",
    "    #norm_V = np.linalg.norm(V, axis=-1)\n",
    "    \n",
    "    # don't know why, but this is faster than linalg.norm\n",
    "    norm_U = np.sum(U**2, axis=-1)**0.5\n",
    "    norm_V = np.sum(V**2, axis=-1)**0.5\n",
    "    \n",
    "    normprod = norm_U*norm_V\n",
    "    \n",
    "    out = np.zeros(U.shape[:-1], dtype=np.float32)\n",
    "    nonzero = normprod>0\n",
    "    out[nonzero] = dprod[nonzero]/normprod[nonzero]\n",
    "    \n",
    "    if return_norms:\n",
    "        return out, (norm_U, norm_V)\n",
    "    else:\n",
    "        return out"
   ]
  },
  {
   "cell_type": "code",
   "execution_count": null,
   "id": "ee0e671f",
   "metadata": {},
   "outputs": [],
   "source": [
    "def calc_edges(U, V, index1, index2, alpha=0.1, beta=0.001, offset=2,\n",
    "               do_threshold=True, return_W=False, verbose=False):\n",
    "    \n",
    "    # cовпадение направлений из Гессиана\n",
    "    Sh, (normU,normV) = tensor_cosine_similarity(U,V, return_norms=True)\n",
    "    Sh = np.abs(Sh)\n",
    "    \n",
    "    # совпадение направления из Гессиана и направления к соседу\n",
    "    Se = tensor_cosine_similarity(U, (index2-index1), return_norms=False)\n",
    "    Se = np.abs(Se)\n",
    "    \n",
    "    #Sx = np.sum((index2-index1)**2, axis=-1)#**0.5\n",
    "    Sx = np.sum(np.abs(index2-index1), axis=-1)\n",
    "    #Sx /= Sx.max()\n",
    "    \n",
    "    N = (normU + normV)/2\n",
    "    N /= N.max()\n",
    "    \n",
    "    #W = 1 - N*((1 - alpha)*Sh + alpha*Se)\n",
    "    #W = 1 - N*(Sh * Se**alpha) # last working\n",
    "    #W = 1 - (Sh**0 * Se**alpha)\n",
    "    #W = Sx*0 + (1 - Se - 0*N*Sh)\n",
    "    #W  = np.ones(Sx.shape)\n",
    "    \n",
    "    if VERBOSE:\n",
    "        print('N+ percentiles:', np.percentile(N[N>0], (2,25,50,75,95)))\n",
    "    #W = offset + Sx - N*(Sh*Se)\n",
    "    \n",
    "    # Cosine similarity between Hessian eigenvectors orientations and \n",
    "    # between Hessian vector and linkage vector\n",
    "    S = (1-alpha)*Sh + alpha*Se\n",
    "\n",
    "    \n",
    "    # THIS IS THE MAIN THING IN THE NOTEBOOK\n",
    "    #W = np.exp(-N*S) + Sx*beta + 100*()\n",
    "    W  = Sx*beta + offset - N*S\n",
    "#     W = Sx * beta + offset - N*Sh*Se\n",
    "    \n",
    "    \n",
    "    if VERBOSE:\n",
    "        print('Negative weights?', np.any(W<offset))\n",
    "        print('S stats:', np.percentile(np.exp(-N*S)[N>0], (2,25,50,75,95)))\n",
    "        print('W stats:', np.percentile(W[N>0], (2,25,50,75,95)))\n",
    "        print('Sx stats:', np.percentile(Sx[N>0], (2,25,50,75,95)))\n",
    "\n",
    "    W = np.maximum(0, W) # just to be safe\n",
    "    \n",
    "    if return_W:\n",
    "        return W\n",
    "    \n",
    "    Wflat = W.ravel()\n",
    "    #cond = Wflat < Wflat.max()\n",
    "    cond = np.ravel(N) > 0\n",
    "    Sx = Wflat[cond]\n",
    "    #thresholds = [1-threshold_minimum(Sx),\n",
    "    #              1-threshold_li(Sx),\n",
    "    #              1-threshold_triangle(Sx)\n",
    "    #             ]\n",
    "    #th = np.max(thresholds)\n",
    "    #th = Wflat.max() - threshold_li(Sx)\n",
    "    # Thresholding is the tricky bit: too little and it takes forever to compute paths\n",
    "    # Too high and you can't build paths at all\n",
    "    \n",
    "    # The negative threshold of negative distribution trick\n",
    "    # Rationale is that we want to take \"dark\" values rather than \"bright\"\n",
    "    # So we take a negative of the  \"picture\" and flip over the threshold\n",
    "    th = -threshold_li(-Sx)\n",
    "    #li = threshold_li(Wflat) if do_threshold else W.max()\n",
    "    th = th if do_threshold else W.max()\n",
    "    Wgood = (Wflat < th) & (np.ravel(N)>0) # was this\n",
    "    #Wgood = (np.ravel(N) > 0) # temporarily, just where vectors are non-negative\n",
    "    \n",
    "    if VERBOSE:\n",
    "        print('Thresholding done')\n",
    "        print('Threshold: ', th)\n",
    "        print('Max, min:', Wflat.max(), Wflat.min())\n",
    "        print('% supra-threshold', 100*np.sum(Wgood)/len(Wflat))\n",
    "    \n",
    "    idx1 = (tuple(i) for i in index1.reshape((-1, index1.shape[-1]))[Wgood])\n",
    "    idx2 = (tuple(i) for i in index2.reshape((-1, index2.shape[-1]))[Wgood])\n",
    "    \n",
    "    return zip(idx1, idx2,  Wflat[Wgood])\n",
    "    \n",
    "    "
   ]
  },
  {
   "cell_type": "code",
   "execution_count": null,
   "id": "4a0c51da",
   "metadata": {},
   "outputs": [],
   "source": [
    "i, j, k = np.indices(final_image.shape)\n",
    "idx = np.stack((i,j,k), axis=3)\n",
    "idx.shape"
   ]
  },
  {
   "cell_type": "code",
   "execution_count": null,
   "id": "ef889f42",
   "metadata": {},
   "outputs": [],
   "source": [
    "i, j= np.indices(final_image.shape[1:])\n",
    "idx2d = np.stack((i,j), axis=2)\n",
    "idx2d.shape"
   ]
  },
  {
   "cell_type": "code",
   "execution_count": null,
   "id": "84702982",
   "metadata": {},
   "outputs": [],
   "source": [
    "crops = prep_crops()"
   ]
  },
  {
   "cell_type": "code",
   "execution_count": null,
   "id": "e35f6a14",
   "metadata": {},
   "outputs": [],
   "source": [
    "# # Move these to Papermill parameters?\n",
    "# if HANDY:\n",
    "#     alpha = 0 # relative weight of coside distance between Hessian vector and linkage vector\n",
    "#     beta = 0.0  # weight of Euclidean distance between the nodes \n",
    "\n",
    "# graph = nx.Graph()\n",
    "\n",
    "# vectors = vectors_best\n",
    "\n",
    "# file_log = 'log.log'\n",
    "# fd = open(file_log, 'a')\n",
    "# print('alpha: {}, beta: {}'.format(alpha, beta), file=fd)\n",
    "# for crop, acrop in tqdm(crops):\n",
    "#         weights = calc_edges(vectors[crop], vectors[acrop], \n",
    "#                               idx[crop], idx[acrop], \n",
    "#                               alpha=alpha, beta=beta,\n",
    "#                               verbose=False)\n",
    "# #         print(weights, file=fd)\n",
    "# #         graph.add_weighted_edges_from(edges)"
   ]
  },
  {
   "cell_type": "code",
   "execution_count": null,
   "id": "bca507d2",
   "metadata": {},
   "outputs": [],
   "source": [
    "if HANDY:\n",
    "    alpha = 0.5 # relative weight of coside distance between Hessian vector and linkage vector\n",
    "    beta = 0.0  # weight of Euclidean distance between the nodes \n",
    "    offset = 1\n",
    "graph = nx.Graph()\n",
    "\n",
    "vectors = vectors_best\n",
    "\n",
    "for crop, acrop in tqdm(crops):\n",
    "         graph.add_weighted_edges_from(calc_edges(vectors[crop], vectors[acrop], \n",
    "                                                  idx[crop], idx[acrop], \n",
    "                                                  alpha=alpha, beta=beta,\n",
    "                                                  offset=offset, verbose=False))"
   ]
  },
  {
   "cell_type": "markdown",
   "id": "2e5dae75",
   "metadata": {},
   "source": [
    "#### No-no for too big sigma_jumps\n",
    "(Could also be a papermill flag)"
   ]
  },
  {
   "cell_type": "code",
   "execution_count": null,
   "id": "618c7fba",
   "metadata": {},
   "outputs": [],
   "source": [
    "for p1, p2, data in tqdm(graph.edges(data=True)):\n",
    "    if np.abs(sigma_mask[p1]-sigma_mask[p2]) > 1:\n",
    "        graph.add_edge(p1,p2, weight=data['weight']*10)"
   ]
  },
  {
   "cell_type": "markdown",
   "id": "be3789e7",
   "metadata": {},
   "source": [
    "### Добавление точек оболочки сомы в граф"
   ]
  },
  {
   "cell_type": "code",
   "execution_count": null,
   "id": "49c31269",
   "metadata": {},
   "outputs": [],
   "source": [
    "def get_mask_vals(idxs, mask):\n",
    "    idx_mask = mask[idxs[:,0], idxs[:,1], idxs[:,2]]\n",
    "    return idxs[idx_mask]"
   ]
  },
  {
   "cell_type": "code",
   "execution_count": null,
   "id": "091c9eee",
   "metadata": {},
   "outputs": [],
   "source": [
    "def get_edges(mask, index1, index2, weight):\n",
    "    idx1 = [tuple(i) for i in get_mask_vals(index1.reshape((-1, index1.shape[-1])), mask)]\n",
    "    idx2 = [tuple(i) for i in get_mask_vals(index2.reshape((-1, index2.shape[-1])), mask)]\n",
    "    return zip(idx1, idx2, np.full(len(idx1), weight))"
   ]
  },
  {
   "cell_type": "code",
   "execution_count": null,
   "id": "c3747086",
   "metadata": {},
   "outputs": [],
   "source": [
    "Gsoma = nx.Graph()"
   ]
  },
  {
   "cell_type": "code",
   "execution_count": null,
   "id": "3d7050b6",
   "metadata": {},
   "outputs": [],
   "source": [
    "soma_shell_mask = get_shell_mask(soma_mask)"
   ]
  },
  {
   "cell_type": "code",
   "execution_count": null,
   "id": "bf34f6a5",
   "metadata": {},
   "outputs": [],
   "source": [
    "for crop, acrop in tqdm(crops):\n",
    "    Gsoma.add_weighted_edges_from(get_edges(soma_shell_mask, idx[crop], idx[acrop], 0.7))"
   ]
  },
  {
   "cell_type": "code",
   "execution_count": null,
   "id": "017ea334",
   "metadata": {
    "tags": []
   },
   "outputs": [],
   "source": [
    "%%time \n",
    "\n",
    "for p1, p2, weight in Gsoma.edges(data=True):\n",
    "    try:\n",
    "        old_weight = graph.get_edge_data(p1, p2)['weight']\n",
    "    except Exception as exc:\n",
    "        old_weight = 1\n",
    "    graph.add_edge(p1, p2, weight=min(weight['weight'], old_weight))"
   ]
  },
  {
   "cell_type": "code",
   "execution_count": null,
   "id": "065b5f65",
   "metadata": {},
   "outputs": [],
   "source": [
    "sigma_mask[soma_mask] = sigma2id[sigmas[-1]] # Soma is also the largest scale\n",
    "sigma_mask[soma_shell_mask] = sigma2id[sigmas[-1]] # Soma is also the largest scale"
   ]
  },
  {
   "cell_type": "code",
   "execution_count": null,
   "id": "17de60fe",
   "metadata": {},
   "outputs": [],
   "source": [
    "import graph_utils as gu "
   ]
  },
  {
   "cell_type": "code",
   "execution_count": null,
   "id": "5004587c",
   "metadata": {},
   "outputs": [],
   "source": [
    "id2sigma[0] = 0\n",
    "nx.set_node_attributes(graph, \n",
    "                       gu.get_attrs_by_nodes(graph, sigma_mask, lambda x: id2sigma[x]), \n",
    "                       'sigma_mask')"
   ]
  },
  {
   "cell_type": "code",
   "execution_count": null,
   "id": "81b3009c",
   "metadata": {},
   "outputs": [],
   "source": [
    "gu.get_tips(graph)"
   ]
  },
  {
   "cell_type": "markdown",
   "id": "44b28c89",
   "metadata": {},
   "source": [
    "## Расчет путей, встречаемости точек в путях и слияние графов по путям"
   ]
  },
  {
   "cell_type": "code",
   "execution_count": null,
   "id": "4c4d3614",
   "metadata": {},
   "outputs": [],
   "source": [
    "from skimage import segmentation\n",
    "from skimage import feature as skf"
   ]
  },
  {
   "cell_type": "markdown",
   "id": "c5091c9a",
   "metadata": {},
   "source": [
    "### Step-by-step in sigmas"
   ]
  },
  {
   "cell_type": "code",
   "execution_count": null,
   "id": "528bce25",
   "metadata": {},
   "outputs": [],
   "source": [
    "def trim_path(g, path, sigma_start, visited_set):\n",
    "    acc = []\n",
    "    for p in path:\n",
    "        acc.append(p)\n",
    "        if (g.nodes[p]['sigma_mask'] > sigma_start) and (p in visited_set):\n",
    "            break\n",
    "    return acc\n",
    "\n",
    "def follow_to_root(g, tip, max_nodes=1000000):\n",
    "    visited = {tip}\n",
    "    acc = [tip]\n",
    "    for i in range(max_nodes):\n",
    "        parents = list(g.predecessors(tip))\n",
    "        parents = [p for p in parents if not p in visited]\n",
    "        if not len(parents):\n",
    "            break\n",
    "        tip = parents[0]\n",
    "        visited.add(tip)\n",
    "        acc.append(tip)\n",
    "    if i >= max_nodes-1:\n",
    "        print('limit reached')\n",
    "    return acc\n",
    "        "
   ]
  },
  {
   "cell_type": "code",
   "execution_count": null,
   "id": "d72a5e36",
   "metadata": {},
   "outputs": [],
   "source": [
    "def scale_sequential_paths(G, sigmas):\n",
    "    \"\"\"\n",
    "    Starting with the largest spatial scale, first try to reach soma, then reach the set of the \n",
    "    previous starting points, and so on. Some  black magic with stopping the path segments at the \n",
    "    right place to prevent loops and cycles in the merged graphs.\n",
    "    Cycles are bad, because they break the coloring/visualization code :)\n",
    "    \"\"\"\n",
    "    sub_graphs = {sigma:gu.filter_graph(G, lambda n: n['sigma_mask']>=sigma) for sigma in sigmas}\n",
    "    targets = set(soma_shell)\n",
    "    visited = set(soma_shell)\n",
    "    path_acc = {}\n",
    "    for sigma in tqdm(sorted(sigmas, reverse=True), desc='paths at sigmas'):\n",
    "        _, paths = gu.find_paths(sub_graphs[sigma], targets, final_image.shape)\n",
    "        targets = targets.union(set(paths.keys()))\n",
    "        if sigma < np.max(sigmas):\n",
    "            paths = {loc:trim_path(G, path, sigma, visited) \n",
    "                     for loc, path in paths.items() \n",
    "                     if G.nodes[loc]['sigma_mask'] == sigma}\n",
    "        visited = visited.union(reduce(set.union, paths.values(), set()))\n",
    "        non_empty_paths = [p for p in paths.values() if p]\n",
    "        if len(non_empty_paths):\n",
    "            path_acc[sigma] = gu.batch_compose_all(non_empty_paths, verbose=False)\n",
    "        else:\n",
    "            path_acc[sigma] = nx.DiGraph()\n",
    "    return path_acc\n",
    "\n",
    "\n",
    "def compose_path_segments(G, seq_paths, ultimate_targets, max_start_sigma=2, min_path_lenght=25):\n",
    "    \"\"\"\n",
    "    Combine all multi-scale path segments to a graph, then take only paths \n",
    "    starting a a small enough sigma and reaching for the soma, the ultimate target\n",
    "    \"\"\"\n",
    "    gx_all = nx.compose_all([seq_paths[sigma] for sigma in sorted(seq_paths)])\n",
    "    \n",
    "    all_tips = gu.get_tips(gx_all)\n",
    "    fine_tips = list({t for t in all_tips if G.nodes[t]['sigma_mask'] <= max_start_sigma})\n",
    "    new_paths = (follow_to_root(gx_all, t) for t in fine_tips)\n",
    "    # Can leave just min_path_length (?)\n",
    "    new_paths = (p for p in new_paths \n",
    "                 if p[-1] in ultimate_targets and len(p)>=min_path_lenght)\n",
    "    new_paths = sorted(new_paths, key=lambda p: len(p), reverse=True)\n",
    "    \n",
    "    gx_all = gu.batch_compose_all(new_paths)\n",
    "    \n",
    "    counts = gu.count_points_paths(new_paths)\n",
    "    qstack = np.zeros(stack.shape)\n",
    "    for p,val in counts.items():\n",
    "        if val >= 1:\n",
    "            qstack[p] = np.log(val) \n",
    "    \n",
    "    # add the useful attributes\n",
    "    nx.set_node_attributes(gx_all, \n",
    "                       gu.get_attrs_by_nodes(gx_all, qstack), \n",
    "                       'occurence')\n",
    "    nx.set_node_attributes(gx_all, \n",
    "                       gu.get_attrs_by_nodes(gx_all, sigma_mask, lambda x: id2sigma[x]), \n",
    "                       'sigma_mask')\n",
    "\n",
    "    nx.set_node_attributes(gx_all, \n",
    "                       gu.get_attrs_by_nodes(gx_all, sigma_sato, lambda x: id2sigma[x]), \n",
    "                       'sigma_opt')\n",
    "    return gx_all"
   ]
  },
  {
   "cell_type": "code",
   "execution_count": null,
   "id": "5dbeccc7",
   "metadata": {},
   "outputs": [],
   "source": [
    "%time seq_paths = scale_sequential_paths(graph, sigmas)"
   ]
  },
  {
   "cell_type": "code",
   "execution_count": null,
   "id": "da82498f",
   "metadata": {},
   "outputs": [],
   "source": [
    "gx_all = nx.compose_all([seq_paths[sigma] for sigma in sorted(seq_paths)])\n"
   ]
  },
  {
   "cell_type": "code",
   "execution_count": null,
   "id": "fdd98c42",
   "metadata": {},
   "outputs": [],
   "source": [
    "g = AG(gx_all)\n",
    "g.get_tips()"
   ]
  },
  {
   "cell_type": "code",
   "execution_count": 182,
   "id": "4e4d1b9a",
   "metadata": {},
   "outputs": [
    {
     "data": {
      "application/vnd.jupyter.widget-view+json": {
       "model_id": "623b6a99152c47ef94a3c33c28bf2b2c",
       "version_major": 2,
       "version_minor": 0
      },
      "text/plain": [
       "  0%|          | 0/685 [00:00<?, ?it/s]"
      ]
     },
     "metadata": {},
     "output_type": "display_data"
    },
    {
     "name": "stdout",
     "output_type": "stream",
     "text": [
      "CPU times: user 6.63 s, sys: 19.5 ms, total: 6.65 s\n",
      "Wall time: 6.63 s\n"
     ]
    }
   ],
   "source": [
    "%time gx_all = compose_path_segments(graph, seq_paths, ultimate_targets=set(soma_shell))"
   ]
  },
  {
   "cell_type": "code",
   "execution_count": 183,
   "id": "f0eb4949",
   "metadata": {},
   "outputs": [
    {
     "name": "stdout",
     "output_type": "stream",
     "text": [
      "No cycles!\n",
      "CPU times: user 777 ms, sys: 0 ns, total: 777 ms\n",
      "Wall time: 775 ms\n"
     ]
    }
   ],
   "source": [
    "%time gu.check_for_cycles(gx_all, verbose=True) # may take a while if the graph is large"
   ]
  },
  {
   "cell_type": "markdown",
   "id": "17802577",
   "metadata": {},
   "source": [
    "### Распределения встречаемостей по сигме"
   ]
  },
  {
   "cell_type": "markdown",
   "id": "3d841961",
   "metadata": {},
   "source": [
    "Попробуем взять только те пути, где встречаемость больше порога на соотв. сигме"
   ]
  },
  {
   "cell_type": "code",
   "execution_count": 184,
   "id": "12450105",
   "metadata": {},
   "outputs": [
    {
     "data": {
      "application/vnd.jupyter.widget-view+json": {
       "model_id": "e6f3fdd1eed44cc88ac9dbcb397a7374",
       "version_major": 2,
       "version_minor": 0
      },
      "text/plain": [
       "  0%|          | 0/5 [00:00<?, ?it/s]"
      ]
     },
     "metadata": {},
     "output_type": "display_data"
    }
   ],
   "source": [
    "occ_acc = {}\n",
    "for sigma in tqdm(sigmas):\n",
    "    sub = gu.filter_graph(gx_all, lambda node: node['sigma_mask']==sigma)\n",
    "    occ_acc[sigma] = np.array([sub.nodes[n]['occurence'] for n in sub.nodes])"
   ]
  },
  {
   "cell_type": "code",
   "execution_count": 185,
   "id": "ab4b7844",
   "metadata": {},
   "outputs": [],
   "source": [
    "from skimage.filters import threshold_triangle"
   ]
  },
  {
   "cell_type": "code",
   "execution_count": 186,
   "id": "05043952",
   "metadata": {},
   "outputs": [
    {
     "name": "stderr",
     "output_type": "stream",
     "text": [
      "/home/incredible/Neuroscience/Code/venv/lib/python3.8/site-packages/skimage/filters/thresholding.py:639: RuntimeWarning: divide by zero encountered in log\n",
      "  (np.log(mean_back) - np.log(mean_fore)))\n"
     ]
    },
    {
     "data": {
      "image/png": "[encoded data removed]",
      "text/plain": [
       "<Figure size 1350x900 with 8 Axes>"
      ]
     },
     "metadata": {
      "needs_background": "light"
     },
     "output_type": "display_data"
    }
   ],
   "source": [
    "fig, axs = plt.subplots(2,4, figsize=(9,6), sharex=True)\n",
    "occ_threshs = {}\n",
    "\n",
    "for ax, sigma in zip(np.ravel(axs), sigmas):\n",
    "    v_occ = occ_acc[sigma]\n",
    "    th = threshold_li(v_occ)\n",
    "    th_tr = threshold_triangle(v_occ)\n",
    "    occ_threshs[sigma] = th\n",
    "    ax.set_title(f'σ={sigma :0.1f}, th={th:0.1f}')\n",
    "    ax.hist(v_occ, 50)\n",
    "    ax.axvline(th, color='red', label='li')\n",
    "    ax.axvline(th_tr, color='green', label='tr')\n",
    "    ax.legend()\n",
    "    "
   ]
  },
  {
   "cell_type": "markdown",
   "id": "86da83f3",
   "metadata": {},
   "source": [
    "Проблема, однако, в том, что если я просто выкину узлы с низкой встречаемостью, то многие пути могут оказаться разрезанными, и я не смогу больше из всех конечных точек дойти до сомы.\n",
    "\n",
    "Как вариант, можно выкидывать узлы с низкой встречаемостью, только если у них нет дочерних узлов (т.е. это листья графа). Но тогда это придется делать в несколько итераций. \n",
    "Либо можно убирать, если эта ветка нигде не ветвится дальше, но это сложнее отслеживать. "
   ]
  },
  {
   "cell_type": "code",
   "execution_count": 187,
   "id": "313e1d21",
   "metadata": {},
   "outputs": [
    {
     "data": {
      "text/plain": [
       "0.6931471805599453"
      ]
     },
     "execution_count": 187,
     "metadata": {},
     "output_type": "execute_result"
    }
   ],
   "source": [
    "np.log(2)"
   ]
  },
  {
   "cell_type": "code",
   "execution_count": 192,
   "id": "a474a906",
   "metadata": {},
   "outputs": [],
   "source": [
    "def filter_fn_(G, n):\n",
    "    ni = G.nodes[n]\n",
    "    #is_high = ni['occurence'] > max(0, occ_threshs[ni['sigma_mask']])\n",
    "    is_high = ni['occurence'] > 0 # very permissive, but some branches are valid and only occur once\n",
    "    not_tip = len(list(G.successors(n)))\n",
    "    return is_high and not_tip"
   ]
  },
  {
   "cell_type": "code",
   "execution_count": 193,
   "id": "db5f342b",
   "metadata": {},
   "outputs": [
    {
     "data": {
      "application/vnd.jupyter.widget-view+json": {
       "model_id": "13676cec41b246418e7573dfca80a70f",
       "version_major": 2,
       "version_minor": 0
      },
      "text/plain": [
       "  0%|          | 0/10 [00:00<?, ?it/s]"
      ]
     },
     "metadata": {},
     "output_type": "display_data"
    }
   ],
   "source": [
    "gx_all_occ = gx_all\n",
    "\n",
    "for i in tqdm(range(10)):\n",
    "    good_nodes = (node for node in gx_all_occ if filter_fn_(gx_all_occ, node))\n",
    "    gx_all_occ = gx_all_occ.subgraph(good_nodes)"
   ]
  },
  {
   "cell_type": "markdown",
   "id": "db14bfca",
   "metadata": {},
   "source": [
    "# Визуализация"
   ]
  },
  {
   "cell_type": "code",
   "execution_count": 190,
   "id": "33937dc8",
   "metadata": {},
   "outputs": [],
   "source": [
    "import visualization as vis"
   ]
  },
  {
   "cell_type": "code",
   "execution_count": 316,
   "id": "040e0b0e",
   "metadata": {},
   "outputs": [],
   "source": [
    "VERBOSE=True"
   ]
  },
  {
   "cell_type": "code",
   "execution_count": 191,
   "id": "906f91eb",
   "metadata": {},
   "outputs": [],
   "source": [
    "if VERBOSE:\n",
    "    w =  napari.view_image(final_image, ndisplay=3, opacity=0.5)\n",
    "#     w.add_image(sigma_mask, colormap='turbo', blending='additive', visible=False)\n",
    "    vis.view_graph_as_colored_image(gx_all, final_image.shape, w);\n",
    "    napari.run()"
   ]
  },
  {
   "cell_type": "code",
   "execution_count": 194,
   "id": "c990f4de",
   "metadata": {},
   "outputs": [],
   "source": [
    "if VERBOSE:\n",
    "    w =  napari.view_image(final_image, ndisplay=3, opacity=0.5)\n",
    "    w.add_image(sigma_mask, colormap='turbo', blending='additive', visible=False)\n",
    "    vis.view_graph_as_colored_image(gx_all_occ, final_image.shape, w);\n",
    "    napari.run()\n",
    "#     w.screenshot(os.path.join(output_dir, '{}_graph.png'.format(filename)))\n",
    "#     w.close()"
   ]
  },
  {
   "cell_type": "code",
   "execution_count": 291,
   "id": "5dbf1700",
   "metadata": {},
   "outputs": [],
   "source": [
    "_ = 1"
   ]
  },
  {
   "cell_type": "code",
   "execution_count": 292,
   "id": "5a891413",
   "metadata": {},
   "outputs": [],
   "source": [
    "# if OUT:\n",
    "#     w.screenshot(os.path.join(output_dir, '{}_graph.png'.format(filename)))"
   ]
  },
  {
   "cell_type": "markdown",
   "id": "dea3166e",
   "metadata": {},
   "source": [
    "# Сохранение"
   ]
  },
  {
   "cell_type": "code",
   "execution_count": 234,
   "id": "8268dbf8",
   "metadata": {},
   "outputs": [],
   "source": [
    "import pickle"
   ]
  },
  {
   "cell_type": "code",
   "execution_count": 143,
   "id": "1a64a9ae",
   "metadata": {},
   "outputs": [
    {
     "data": {
      "text/plain": [
       "'4wk-both8-grn-raw.pic'"
      ]
     },
     "execution_count": 143,
     "metadata": {},
     "output_type": "execute_result"
    }
   ],
   "source": [
    "filename"
   ]
  },
  {
   "cell_type": "code",
   "execution_count": 151,
   "id": "4b2c9e5d",
   "metadata": {},
   "outputs": [
    {
     "name": "stdout",
     "output_type": "stream",
     "text": [
      "CPU times: user 326 ms, sys: 6.93 ms, total: 332 ms\n",
      "Wall time: 332 ms\n"
     ]
    }
   ],
   "source": [
    "if OUT:\n",
    "    pickle_name = os.path.join(output_dir, str(filename) + '-sequential_graph.pickle')\n",
    "    %time pickle.dump(gx_all_occ.copy(), open(pickle_name, 'wb'),)"
   ]
  },
  {
   "cell_type": "code",
   "execution_count": 152,
   "id": "8e994dd2",
   "metadata": {},
   "outputs": [],
   "source": [
    "# %time thin_graph2 = pickle.load(open(pickle_name, 'rb'))"
   ]
  },
  {
   "cell_type": "code",
   "execution_count": null,
   "id": "3ca05aa9",
   "metadata": {},
   "outputs": [],
   "source": [
    "# w =  napari.view_image(final_image, ndisplay=3, opacity=0.5)\n",
    "# vis.view_graph_as_colored_image(thin_graph2, final_image.shape, w);"
   ]
  },
  {
   "cell_type": "code",
   "execution_count": null,
   "id": "007b11e7",
   "metadata": {},
   "outputs": [],
   "source": [
    "# tup2str = lambda x: ','.join(list(map(str, x)))\n",
    "# str2tup = lambda x: tuple(map(int, x.split(',')))"
   ]
  },
  {
   "cell_type": "code",
   "execution_count": null,
   "id": "81edbff7",
   "metadata": {
    "tags": []
   },
   "outputs": [],
   "source": [
    "# with open('graph_3wk-both1-grn-raw.pic.pickle') as fd:\n",
    "#     load_graph = pickle.load(fd)\n"
   ]
  },
  {
   "cell_type": "code",
   "execution_count": null,
   "id": "8ca00e27",
   "metadata": {
    "tags": []
   },
   "outputs": [],
   "source": [
    "# nx.write_gml(gx_all_occ.copy(), \n",
    "#              'gx_all_{}.gml.gz'.format(os.path.basename(filename)), \n",
    "#              stringizer=tup2str)"
   ]
  },
  {
   "cell_type": "code",
   "execution_count": null,
   "id": "3e271de4",
   "metadata": {},
   "outputs": [],
   "source": [
    "# loaded_graph = nx.read_gml('gx_all_{}.gml.gz'.format(os.path.basename(filename)), destringizer=str2tup)"
   ]
  },
  {
   "cell_type": "code",
   "execution_count": null,
   "id": "b4d5c9b8",
   "metadata": {},
   "outputs": [],
   "source": []
  },
  {
   "cell_type": "code",
   "execution_count": null,
   "id": "c52e8fc6",
   "metadata": {
    "tags": []
   },
   "outputs": [],
   "source": []
  },
  {
   "cell_type": "code",
   "execution_count": null,
   "id": "12f44b95",
   "metadata": {},
   "outputs": [],
   "source": []
  },
  {
   "cell_type": "code",
   "execution_count": null,
   "id": "73cca4f0",
   "metadata": {},
   "outputs": [],
   "source": []
  },
  {
   "cell_type": "code",
   "execution_count": null,
   "id": "7eadd43d",
   "metadata": {},
   "outputs": [],
   "source": []
  },
  {
   "cell_type": "code",
   "execution_count": null,
   "id": "c22a7f0b",
   "metadata": {},
   "outputs": [],
   "source": []
  },
  {
   "cell_type": "code",
   "execution_count": null,
   "id": "201c5861",
   "metadata": {},
   "outputs": [],
   "source": []
  }
 ],
 "metadata": {
  "celltoolbar": "Tags",
  "jupytext": {
   "formats": "ipynb,Rmd"
  },
  "kernelspec": {
   "display_name": "venv",
   "language": "python",
   "name": "venv"
  },
  "language_info": {
   "codemirror_mode": {
    "name": "ipython",
    "version": 3
   },
   "file_extension": ".py",
   "mimetype": "text/x-python",
   "name": "python",
   "nbconvert_exporter": "python",
   "pygments_lexer": "ipython3",
   "version": "3.8.10"
  },
  "toc": {
   "base_numbering": 1,
   "nav_menu": {},
   "number_sections": true,
   "sideBar": true,
   "skip_h1_title": false,
   "title_cell": "Table of Contents",
   "title_sidebar": "Contents",
   "toc_cell": false,
   "toc_position": {
    "height": "calc(100% - 180px)",
    "left": "10px",
    "top": "150px",
    "width": "165px"
   },
   "toc_section_display": true,
   "toc_window_display": true
  },
  "varInspector": {
   "cols": {
    "lenName": 16,
    "lenType": 16,
    "lenVar": 40
   },
   "kernels_config": {
    "python": {
     "delete_cmd_postfix": "",
     "delete_cmd_prefix": "del ",
     "library": "var_list.py",
     "varRefreshCmd": "print(var_dic_list())"
    },
    "r": {
     "delete_cmd_postfix": ") ",
     "delete_cmd_prefix": "rm(",
     "library": "var_list.r",
     "varRefreshCmd": "cat(var_dic_list()) "
    }
   },
   "types_to_exclude": [
    "module",
    "function",
    "builtin_function_or_method",
    "instance",
    "_Feature"
   ],
   "window_display": false
  }
 },
 "nbformat": 4,
 "nbformat_minor": 5
}
