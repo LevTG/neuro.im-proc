{
 "cells": [
  {
   "cell_type": "code",
   "execution_count": 2,
   "id": "22c376f7",
   "metadata": {},
   "outputs": [],
   "source": [
    "import os\n",
    "import sys"
   ]
  },
  {
   "cell_type": "code",
   "execution_count": 8,
   "id": "1e2b5870",
   "metadata": {},
   "outputs": [],
   "source": [
    "import numpy as np"
   ]
  },
  {
   "cell_type": "code",
   "execution_count": 49,
   "id": "46b393f7",
   "metadata": {},
   "outputs": [],
   "source": [
    "import scipy\n",
    "from scipy import ndimage as ndi\n",
    "import napari"
   ]
  },
  {
   "cell_type": "code",
   "execution_count": 58,
   "id": "f2f47e10",
   "metadata": {},
   "outputs": [],
   "source": [
    "from tqdm.auto import tqdm\n",
    "import matplotlib.pyplot as plt"
   ]
  },
  {
   "cell_type": "code",
   "execution_count": 5,
   "id": "34899f18",
   "metadata": {},
   "outputs": [
    {
     "name": "stdout",
     "output_type": "stream",
     "text": [
      "Can't load imreg package, affine and homography registrations won't work\n"
     ]
    },
    {
     "name": "stderr",
     "output_type": "stream",
     "text": [
      "/home/levtg/astro-morpho/venv/lib64/python3.10/site-packages/imfun/external/tifffile.py:7261: UserWarning: No module named 'imfun.external._tifffile'\n",
      "  Functionality might be degraded or be slow.\n",
      "\n",
      "  warnings.warn(\"%s%s\" % (e, warn))\n",
      "/home/levtg/astro-morpho/venv/lib64/python3.10/site-packages/imfun/external/czifile.py:146: UserWarning: ImportError: No module named '_czifile'. Decoding of JXR and JPEG encoded images will not be available. Czifile.pyx can be obtained at http://www.lfd.uci.edu/~gohlke/\n",
      "  warnings.warn(\n",
      "2022-09-13 12:40:20.562320: W tensorflow/stream_executor/platform/default/dso_loader.cc:64] Could not load dynamic library 'libcudart.so.11.0'; dlerror: libcudart.so.11.0: cannot open shared object file: No such file or directory; LD_LIBRARY_PATH: /home/levtg/astro-morpho/venv/lib/python3.10/site-packages/cv2/../../lib64:/home/levtg/v3d_external/v3d_main/common_lib/lib/\n",
      "2022-09-13 12:40:20.562344: I tensorflow/stream_executor/cuda/cudart_stub.cc:29] Ignore above cudart dlerror if you do not have a GPU set up on your machine.\n"
     ]
    }
   ],
   "source": [
    "import ccdb\n",
    "import tifffile as tiff\n",
    "import astromorpho as astro"
   ]
  },
  {
   "cell_type": "code",
   "execution_count": 69,
   "id": "809cdde0",
   "metadata": {},
   "outputs": [],
   "source": [
    "from skimage import exposure"
   ]
  },
  {
   "cell_type": "code",
   "execution_count": 6,
   "id": "f96eb9e3",
   "metadata": {},
   "outputs": [],
   "source": [
    "import graph_utils as gu  \n",
    "import visualization as vis"
   ]
  },
  {
   "cell_type": "code",
   "execution_count": 11,
   "id": "44de5050",
   "metadata": {},
   "outputs": [],
   "source": [
    "from pathlib import Path"
   ]
  },
  {
   "cell_type": "markdown",
   "id": "1b93f67f",
   "metadata": {},
   "source": [
    "# Параметры для запуска\n"
   ]
  },
  {
   "cell_type": "code",
   "execution_count": 65,
   "id": "50e46585",
   "metadata": {},
   "outputs": [],
   "source": [
    "data_dir = '/home/levtg/astro-morpho/data/alisa/before'\n",
    "filename = 'M5_UG.tiff'\n",
    "\n",
    "use_clahe = True\n",
    "sigmas = 2**np.arange(0, 3, 0.5)\n",
    "\n",
    "VERBOSE = True\n",
    "\n",
    "# Set false to start from console\n",
    "HANDY = True\n",
    "\n",
    "# Set true to save output\n",
    "OUT = False"
   ]
  },
  {
   "cell_type": "markdown",
   "id": "1cd728e8",
   "metadata": {},
   "source": [
    "# Чтение данных"
   ]
  },
  {
   "cell_type": "code",
   "execution_count": 66,
   "id": "566cbebf",
   "metadata": {},
   "outputs": [
    {
     "data": {
      "text/plain": [
       "PosixPath('/home/levtg/astro-morpho/data/alisa/before/M5_UG.tiff')"
      ]
     },
     "execution_count": 66,
     "metadata": {},
     "output_type": "execute_result"
    }
   ],
   "source": [
    "filepath = Path(data_dir).joinpath(filename)\n",
    "filepath"
   ]
  },
  {
   "cell_type": "code",
   "execution_count": 67,
   "id": "4684228f",
   "metadata": {},
   "outputs": [],
   "source": [
    "stack = tiff.imread(filepath)"
   ]
  },
  {
   "cell_type": "code",
   "execution_count": 68,
   "id": "5600bd29",
   "metadata": {},
   "outputs": [
    {
     "name": "stderr",
     "output_type": "stream",
     "text": [
      "WARNING: could not determine DPI\n",
      "/home/levtg/astro-morpho/venv/lib64/python3.10/site-packages/napari_tools_menu/__init__.py:179: FutureWarning: Public access to Window.qt_viewer is deprecated and will be removed in\n",
      "v0.5.0. It is considered an \"implementation detail\" of the napari\n",
      "application, not part of the napari viewer model. If your use case\n",
      "requires access to qt_viewer, please open an issue to discuss.\n",
      "  self.tools_menu = ToolsMenu(self, self.qt_viewer.viewer)\n"
     ]
    }
   ],
   "source": [
    "if VERBOSE:\n",
    "    napari.view_image(stack)"
   ]
  },
  {
   "cell_type": "code",
   "execution_count": 39,
   "id": "96db434e",
   "metadata": {},
   "outputs": [],
   "source": [
    "def signaltonoise(a, axis=0, ddof=0):\n",
    "    a = np.asanyarray(a)\n",
    "    m = a.mean(axis)\n",
    "    sd = a.std(axis=axis, ddof=ddof)\n",
    "    return np.where(sd == 0, 0, m/sd)"
   ]
  },
  {
   "cell_type": "code",
   "execution_count": 41,
   "id": "929bef0e",
   "metadata": {},
   "outputs": [
    {
     "data": {
      "text/plain": [
       "array(37.6672632)"
      ]
     },
     "execution_count": 41,
     "metadata": {},
     "output_type": "execute_result"
    }
   ],
   "source": [
    "signaltonoise(stack, axis=None)"
   ]
  },
  {
   "cell_type": "code",
   "execution_count": 99,
   "id": "48719638",
   "metadata": {},
   "outputs": [
    {
     "data": {
      "image/png": "[encoded data removed]",
      "text/plain": [
       "<Figure size 432x288 with 1 Axes>"
      ]
     },
     "metadata": {
      "needs_background": "light"
     },
     "output_type": "display_data"
    },
    {
     "name": "stderr",
     "output_type": "stream",
     "text": [
      "/home/levtg/astro-morpho/venv/lib64/python3.10/site-packages/numpy/core/numeric.py:2446: FutureWarning: elementwise comparison failed; returning scalar instead, but in the future will perform elementwise comparison\n",
      "  return bool(asarray(a1 == a2).all())\n"
     ]
    }
   ],
   "source": [
    "plt.hist(np.ravel(stack), bins=255)\n",
    "plt.xlim(400, 1000)\n",
    "plt.ylim(0, 10)\n",
    "plt.show()"
   ]
  },
  {
   "cell_type": "code",
   "execution_count": 93,
   "id": "f3bc9f95",
   "metadata": {},
   "outputs": [
    {
     "data": {
      "text/plain": [
       "991"
      ]
     },
     "execution_count": 93,
     "metadata": {},
     "output_type": "execute_result"
    }
   ],
   "source": [
    "test_image.max()"
   ]
  },
  {
   "cell_type": "code",
   "execution_count": 100,
   "id": "d0e66260",
   "metadata": {},
   "outputs": [
    {
     "name": "stderr",
     "output_type": "stream",
     "text": [
      "WARNING: could not determine DPI\n",
      "/home/levtg/astro-morpho/venv/lib64/python3.10/site-packages/napari_tools_menu/__init__.py:179: FutureWarning: Public access to Window.qt_viewer is deprecated and will be removed in\n",
      "v0.5.0. It is considered an \"implementation detail\" of the napari\n",
      "application, not part of the napari viewer model. If your use case\n",
      "requires access to qt_viewer, please open an issue to discuss.\n",
      "  self.tools_menu = ToolsMenu(self, self.qt_viewer.viewer)\n",
      "/home/levtg/astro-morpho/venv/lib64/python3.10/site-packages/numpy/core/numeric.py:2446: FutureWarning: elementwise comparison failed; returning scalar instead, but in the future will perform elementwise comparison\n",
      "  return bool(asarray(a1 == a2).all())\n"
     ]
    }
   ],
   "source": [
    "# test_image = np.clip(stack, a_min=0, a_max=3000)\n",
    "test_image = stack[:]\n",
    "test_image[test_image >= 500] = 0\n",
    "\n",
    "w = napari.view_image(test_image)"
   ]
  },
  {
   "cell_type": "code",
   "execution_count": 102,
   "id": "da087c2e",
   "metadata": {},
   "outputs": [
    {
     "data": {
      "text/plain": [
       "[array([[ 14.        , 346.23703306, 345.48098278],\n",
       "        [ 14.        , 346.23703306, 366.98379255],\n",
       "        [ 14.        , 359.46953138, 366.98379255],\n",
       "        [ 14.        , 359.46953138, 345.48098278]])]"
      ]
     },
     "execution_count": 102,
     "metadata": {},
     "output_type": "execute_result"
    }
   ],
   "source": [
    "w.layers[1].data"
   ]
  },
  {
   "cell_type": "code",
   "execution_count": 103,
   "id": "8722d494",
   "metadata": {},
   "outputs": [
    {
     "data": {
      "text/plain": [
       "(28, 362, 512)"
      ]
     },
     "execution_count": 103,
     "metadata": {},
     "output_type": "execute_result"
    }
   ],
   "source": [
    "stack.shape"
   ]
  },
  {
   "cell_type": "code",
   "execution_count": 110,
   "id": "fadcd399",
   "metadata": {},
   "outputs": [
    {
     "data": {
      "text/plain": [
       "(124, 152)"
      ]
     },
     "execution_count": 110,
     "metadata": {},
     "output_type": "execute_result"
    }
   ],
   "source": [
    "noise = stack[14, 345:359, 345:366]\n",
    "noise.min(), noise.max()"
   ]
  },
  {
   "cell_type": "code",
   "execution_count": 115,
   "id": "3376eff3",
   "metadata": {},
   "outputs": [
    {
     "data": {
      "text/plain": [
       "65508"
      ]
     },
     "execution_count": 115,
     "metadata": {},
     "output_type": "execute_result"
    }
   ],
   "source": [
    "tmp = stack - noise.max() + noise.min()\n",
    "tmp.max()"
   ]
  },
  {
   "cell_type": "code",
   "execution_count": 111,
   "id": "272dc6a3",
   "metadata": {},
   "outputs": [
    {
     "name": "stderr",
     "output_type": "stream",
     "text": [
      "WARNING: could not determine DPI\n",
      "/home/levtg/astro-morpho/venv/lib64/python3.10/site-packages/napari_tools_menu/__init__.py:179: FutureWarning: Public access to Window.qt_viewer is deprecated and will be removed in\n",
      "v0.5.0. It is considered an \"implementation detail\" of the napari\n",
      "application, not part of the napari viewer model. If your use case\n",
      "requires access to qt_viewer, please open an issue to discuss.\n",
      "  self.tools_menu = ToolsMenu(self, self.qt_viewer.viewer)\n"
     ]
    },
    {
     "data": {
      "text/plain": [
       "Viewer(axes=Axes(visible=False, labels=True, colored=True, dashed=False, arrows=True), camera=Camera(center=(0.0, 180.5, 255.5), zoom=3.0244140625, angles=(0.0, 0.0, 90.0), perspective=0.0, interactive=True), cursor=Cursor(position=(1.0, 1.0, 0.0), scaled=True, size=1, style=<CursorStyle.STANDARD: 'standard'>), dims=Dims(ndim=3, ndisplay=2, last_used=0, range=((0.0, 28.0, 1.0), (0.0, 362.0, 1.0), (0.0, 512.0, 1.0)), current_step=(14, 181, 256), order=(0, 1, 2), axis_labels=('0', '1', '2')), grid=GridCanvas(stride=1, shape=(-1, -1), enabled=False), layers=[<Image layer 'Image' at 0x7f473fd9ab30>], scale_bar=ScaleBar(visible=False, colored=False, ticks=True, position=<Position.BOTTOM_RIGHT: 'bottom_right'>, font_size=10, unit=None), text_overlay=TextOverlay(visible=False, color=(0.5, 0.5, 0.5, 1.0), font_size=10, position=<TextOverlayPosition.TOP_LEFT: 'top_left'>, text=''), overlays=Overlays(interaction_box=InteractionBox(points=None, show=False, show_handle=False, show_vertices=False, selection_box_drag=None, selection_box_final=None, transform_start=<napari.utils.transforms.transforms.Affine object at 0x7f473c46b2b0>, transform_drag=<napari.utils.transforms.transforms.Affine object at 0x7f473c46b310>, transform_final=<napari.utils.transforms.transforms.Affine object at 0x7f473c46b370>, transform=<napari.utils.transforms.transforms.Affine object at 0x7f473c46b3d0>, allow_new_selection=True, selected_vertex=None)), help='', status='Ready', tooltip=Tooltip(visible=False, text=''), theme='dark', title='napari', mouse_move_callbacks=[<function InteractionBoxMouseBindings.initialize_mouse_events.<locals>.mouse_move at 0x7f473fd9d480>], mouse_drag_callbacks=[<function InteractionBoxMouseBindings.initialize_mouse_events.<locals>.mouse_drag at 0x7f473fd9d6c0>], mouse_double_click_callbacks=[], mouse_wheel_callbacks=[<function dims_scroll at 0x7f489d9a5ab0>], _persisted_mouse_event={}, _mouse_drag_gen={}, _mouse_wheel_gen={}, keymap={'Shift': <function InteractionBoxMouseBindings.initialize_key_events.<locals>.hold_to_lock_aspect_ratio at 0x7f473fd9d900>, 'Control-Shift-R': <function InteractionBoxMouseBindings._reset_active_layer_affine at 0x7f473fd9dcf0>, 'Control-Shift-A': <function InteractionBoxMouseBindings._transform_active_layer at 0x7f473fd9dc60>})"
      ]
     },
     "execution_count": 111,
     "metadata": {},
     "output_type": "execute_result"
    }
   ],
   "source": [
    "napari.view_image(stack - 152+124)"
   ]
  },
  {
   "cell_type": "code",
   "execution_count": null,
   "id": "a07d9b25",
   "metadata": {},
   "outputs": [],
   "source": [
    "# exposure.rescale_intensity(stack, in_range = 'image', out_range = 'dtype')"
   ]
  },
  {
   "cell_type": "markdown",
   "id": "39257670",
   "metadata": {},
   "source": [
    "## Фильтрация изображения"
   ]
  },
  {
   "cell_type": "code",
   "execution_count": 55,
   "id": "c3251933",
   "metadata": {},
   "outputs": [],
   "source": [
    "from skimage.filters import threshold_minimum, threshold_li, threshold_yen, threshold_isodata, threshold_otsu, threshold_triangle\n",
    "from skimage.morphology import remove_small_objects"
   ]
  },
  {
   "cell_type": "code",
   "execution_count": 43,
   "id": "a3256aed",
   "metadata": {},
   "outputs": [
    {
     "data": {
      "text/plain": [
       "(91, 349)"
      ]
     },
     "execution_count": 43,
     "metadata": {},
     "output_type": "execute_result"
    }
   ],
   "source": [
    "img_noisy = stack\n",
    "img_noisy.min(), img_noisy.max()"
   ]
  },
  {
   "cell_type": "code",
   "execution_count": 53,
   "id": "5cff95f9",
   "metadata": {},
   "outputs": [],
   "source": [
    "def largest_region(mask):\n",
    "    labels, nlab = ndi.label(mask)\n",
    "    if nlab > 0:\n",
    "        objs = ndi.find_objects(labels)\n",
    "        sizes = [np.sum(labels[o]==k+1) for k,o in enumerate(objs)]\n",
    "        k = np.argmax(sizes)\n",
    "        return labels==k+1\n",
    "    else:\n",
    "        return mask"
   ]
  },
  {
   "cell_type": "code",
   "execution_count": 45,
   "id": "2dce78d1",
   "metadata": {},
   "outputs": [],
   "source": [
    "def filter_image(image, filter_func):\n",
    "    threshold = filter_func(image)\n",
    "    #img_filt = np.where(image > threshold, image, 0)\n",
    "    pre_mask = ndi.binary_closing(image >= threshold)\n",
    "    pre_mask = remove_small_objects(pre_mask, 5, connectivity=3)\n",
    "    binary_clean = largest_region(pre_mask)\n",
    "    return np.where(binary_clean, image, 0), threshold"
   ]
  },
  {
   "cell_type": "code",
   "execution_count": 56,
   "id": "c69076fa",
   "metadata": {},
   "outputs": [],
   "source": [
    "img_li, li = filter_image(img_noisy, threshold_li)\n",
    "img_min, m = filter_image(img_noisy, threshold_minimum)\n",
    "img_iso, iso = filter_image(img_noisy, threshold_isodata)\n",
    "img_yen, yen = filter_image(img_noisy, threshold_yen)\n",
    "# img_loc, loc = filter_image(img_noisy, threshold_local)\n",
    "img_tr, tr = filter_image(img_noisy, threshold_triangle)\n",
    "img_ots, ots = filter_image(img_noisy, threshold_otsu)"
   ]
  },
  {
   "cell_type": "code",
   "execution_count": 59,
   "id": "4c6378f8",
   "metadata": {},
   "outputs": [
    {
     "data": {
      "image/png": "[encoded data removed]",
      "text/plain": [
       "<Figure size 432x288 with 1 Axes>"
      ]
     },
     "metadata": {
      "needs_background": "light"
     },
     "output_type": "display_data"
    }
   ],
   "source": [
    "plt.hist(np.ravel(img_noisy), bins=255)\n",
    "plt.axvline(li, color='red', label='li')\n",
    "plt.axvline(m, color='orange', label='min')\n",
    "plt.axvline(iso, color='green', label='iso')\n",
    "plt.axvline(yen, color='black', label='yen')\n",
    "plt.axvline(ots, color='blue', label='otsu')\n",
    "plt.axvline(tr, color='yellow', label='triangle')\n",
    "plt.legend()\n",
    "# plt.hist(np.ravel(img_clear), bins=255)\n",
    "plt.show()"
   ]
  },
  {
   "cell_type": "code",
   "execution_count": 60,
   "id": "2099df87",
   "metadata": {},
   "outputs": [
    {
     "name": "stderr",
     "output_type": "stream",
     "text": [
      "WARNING: could not determine DPI\n",
      "/home/levtg/astro-morpho/venv/lib64/python3.10/site-packages/napari_tools_menu/__init__.py:179: FutureWarning: Public access to Window.qt_viewer is deprecated and will be removed in\n",
      "v0.5.0. It is considered an \"implementation detail\" of the napari\n",
      "application, not part of the napari viewer model. If your use case\n",
      "requires access to qt_viewer, please open an issue to discuss.\n",
      "  self.tools_menu = ToolsMenu(self, self.qt_viewer.viewer)\n"
     ]
    },
    {
     "ename": "NameError",
     "evalue": "name 'img' is not defined",
     "output_type": "error",
     "traceback": [
      "\u001b[0;31m---------------------------------------------------------------------------\u001b[0m",
      "\u001b[0;31mNameError\u001b[0m                                 Traceback (most recent call last)",
      "Input \u001b[0;32mIn [60]\u001b[0m, in \u001b[0;36m<cell line: 8>\u001b[0;34m()\u001b[0m\n\u001b[1;32m      6\u001b[0m w\u001b[38;5;241m.\u001b[39madd_image(img_yen)\n\u001b[1;32m      7\u001b[0m w\u001b[38;5;241m.\u001b[39madd_image(img_ots)\n\u001b[0;32m----> 8\u001b[0m w\u001b[38;5;241m.\u001b[39madd_image(\u001b[43mimg\u001b[49m)\n",
      "\u001b[0;31mNameError\u001b[0m: name 'img' is not defined"
     ]
    }
   ],
   "source": [
    "w = napari.view_image(img_noisy)\n",
    "w.add_image(img_li)\n",
    "w.add_image(img_tr)\n",
    "w.add_image(img_min)\n",
    "w.add_image(img_iso)\n",
    "w.add_image(img_yen)\n",
    "w.add_image(img_ots)\n",
    "w.add_image(img)"
   ]
  },
  {
   "cell_type": "code",
   "execution_count": 120,
   "id": "dde037f2",
   "metadata": {},
   "outputs": [],
   "source": [
    "image = w.layers[0].data\n",
    "image[image <= 138] = 0"
   ]
  },
  {
   "cell_type": "code",
   "execution_count": 121,
   "id": "dd9c4142",
   "metadata": {},
   "outputs": [
    {
     "name": "stderr",
     "output_type": "stream",
     "text": [
      "WARNING: could not determine DPI\n",
      "/home/levtg/astro-morpho/venv/lib64/python3.10/site-packages/napari_tools_menu/__init__.py:179: FutureWarning: Public access to Window.qt_viewer is deprecated and will be removed in\n",
      "v0.5.0. It is considered an \"implementation detail\" of the napari\n",
      "application, not part of the napari viewer model. If your use case\n",
      "requires access to qt_viewer, please open an issue to discuss.\n",
      "  self.tools_menu = ToolsMenu(self, self.qt_viewer.viewer)\n"
     ]
    }
   ],
   "source": [
    "v = napari.view_image(image)"
   ]
  },
  {
   "cell_type": "code",
   "execution_count": null,
   "id": "7133b5f4",
   "metadata": {},
   "outputs": [],
   "source": []
  }
 ],
 "metadata": {
  "kernelspec": {
   "display_name": "venv",
   "language": "python",
   "name": "venv"
  },
  "language_info": {
   "codemirror_mode": {
    "name": "ipython",
    "version": 3
   },
   "file_extension": ".py",
   "mimetype": "text/x-python",
   "name": "python",
   "nbconvert_exporter": "python",
   "pygments_lexer": "ipython3",
   "version": "3.10.5"
  },
  "toc": {
   "base_numbering": 1,
   "nav_menu": {},
   "number_sections": false,
   "sideBar": true,
   "skip_h1_title": false,
   "title_cell": "Table of Contents",
   "title_sidebar": "Contents",
   "toc_cell": false,
   "toc_position": {
    "height": "calc(100% - 180px)",
    "left": "10px",
    "top": "150px",
    "width": "192px"
   },
   "toc_section_display": true,
   "toc_window_display": true
  }
 },
 "nbformat": 4,
 "nbformat_minor": 5
}
