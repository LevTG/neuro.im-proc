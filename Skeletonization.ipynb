{
 "cells": [
  {
   "cell_type": "markdown",
   "id": "1477e37f",
   "metadata": {
    "toc": true
   },
   "source": [
    "<h1>Table of Contents<span class=\"tocSkip\"></span></h1>\n",
    "<div class=\"toc\"><ul class=\"toc-item\"><li><span><a href=\"#Параметры-для-запуска\" data-toc-modified-id=\"Параметры-для-запуска-1\">Параметры для запуска</a></span></li><li><span><a href=\"#Считывание-изображения\" data-toc-modified-id=\"Считывание-изображения-2\">Считывание изображения</a></span></li><li><span><a href=\"#Фильтрация-изображения\" data-toc-modified-id=\"Фильтрация-изображения-3\">Фильтрация изображения</a></span></li><li><span><a href=\"#Матрица-Гессе\" data-toc-modified-id=\"Матрица-Гессе-4\">Матрица Гессе</a></span></li><li><span><a href=\"#Построение-графа\" data-toc-modified-id=\"Построение-графа-5\">Построение графа</a></span><ul class=\"toc-item\"><li><span><a href=\"#Выделение-сомы\" data-toc-modified-id=\"Выделение-сомы-5.1\">Выделение сомы</a></span></li><li><span><a href=\"#Определение-центра\" data-toc-modified-id=\"Определение-центра-5.2\">Определение центра</a></span></li><li><span><a href=\"#Добавление-точек-сомы-в-граф\" data-toc-modified-id=\"Добавление-точек-сомы-в-граф-5.3\">Добавление точек сомы в граф</a></span></li></ul></li><li><span><a href=\"#Расчет-путей\" data-toc-modified-id=\"Расчет-путей-6\">Расчет путей</a></span></li><li><span><a href=\"#Расчет-встречаемости\" data-toc-modified-id=\"Расчет-встречаемости-7\">Расчет встречаемости</a></span></li><li><span><a href=\"#Фильтрация-точек-по-встречаемости\" data-toc-modified-id=\"Фильтрация-точек-по-встречаемости-8\">Фильтрация точек по встречаемости</a></span></li><li><span><a href=\"#Tree-creation\" data-toc-modified-id=\"Tree-creation-9\">Tree creation</a></span></li></ul></div>"
   ]
  },
  {
   "cell_type": "code",
   "execution_count": 78,
   "id": "bf7a73df",
   "metadata": {},
   "outputs": [],
   "source": [
    "import os\n",
    "import sys"
   ]
  },
  {
   "cell_type": "code",
   "execution_count": 2,
   "id": "cb13ff52",
   "metadata": {},
   "outputs": [],
   "source": [
    "%matplotlib inline\n",
    "\n",
    "import matplotlib.pyplot as plt"
   ]
  },
  {
   "cell_type": "code",
   "execution_count": 3,
   "id": "3947f1d7",
   "metadata": {},
   "outputs": [],
   "source": [
    "import cv2\n",
    "import scipy\n",
    "from scipy import ndimage as ndi\n",
    "import numpy as np\n",
    "import networkx as nx"
   ]
  },
  {
   "cell_type": "code",
   "execution_count": 4,
   "id": "93d7599f",
   "metadata": {},
   "outputs": [],
   "source": [
    "import napari"
   ]
  },
  {
   "cell_type": "code",
   "execution_count": 5,
   "id": "f632bd41",
   "metadata": {},
   "outputs": [],
   "source": [
    "from tqdm.auto import tqdm"
   ]
  },
  {
   "cell_type": "code",
   "execution_count": 6,
   "id": "c843ad15",
   "metadata": {
    "lines_to_next_cell": 0
   },
   "outputs": [
    {
     "name": "stdout",
     "output_type": "stream",
     "text": [
      "Can't load imreg package, affine and homography registrations won't work\n"
     ]
    },
    {
     "name": "stderr",
     "output_type": "stream",
     "text": [
      "/home/levtg/astro-morpho/venv/lib64/python3.10/site-packages/imfun/external/tifffile.py:7261: UserWarning: No module named 'imfun.external._tifffile'\n",
      "  Functionality might be degraded or be slow.\n",
      "\n",
      "  warnings.warn(\"%s%s\" % (e, warn))\n",
      "/home/levtg/astro-morpho/venv/lib64/python3.10/site-packages/imfun/external/czifile.py:146: UserWarning: ImportError: No module named '_czifile'. Decoding of JXR and JPEG encoded images will not be available. Czifile.pyx can be obtained at http://www.lfd.uci.edu/~gohlke/\n",
      "  warnings.warn(\n",
      "2022-05-18 13:37:12.762917: W tensorflow/stream_executor/platform/default/dso_loader.cc:64] Could not load dynamic library 'libcudart.so.11.0'; dlerror: libcudart.so.11.0: cannot open shared object file: No such file or directory; LD_LIBRARY_PATH: /home/levtg/astro-morpho/venv/lib/python3.10/site-packages/cv2/../../lib64:/home/levtg/v3d_external/v3d_main/common_lib/lib/\n",
      "2022-05-18 13:37:12.762940: I tensorflow/stream_executor/cuda/cudart_stub.cc:29] Ignore above cudart dlerror if you do not have a GPU set up on your machine.\n"
     ]
    }
   ],
   "source": [
    "import ccdb\n",
    "import astromorpho as astro"
   ]
  },
  {
   "cell_type": "code",
   "execution_count": 7,
   "id": "7afc138a",
   "metadata": {
    "lines_to_next_cell": 0
   },
   "outputs": [],
   "source": [
    "from networx2napari import draw_edges, draw_nodes"
   ]
  },
  {
   "cell_type": "markdown",
   "id": "7efa27b9",
   "metadata": {},
   "source": [
    "\n",
    "\n",
    " "
   ]
  },
  {
   "cell_type": "code",
   "execution_count": 8,
   "id": "0d2d4763",
   "metadata": {},
   "outputs": [],
   "source": [
    "def weight_of_arr(a, b):\n",
    "    dprod = np.einsum('...ij,...ij->...i', a, b)\n",
    "    norm_a = np.linalg.norm(a, axis=-1)\n",
    "    norm_b = np.linalg.norm(b, axis=-1)\n",
    "    cos_dist = np.nan_to_num(dprod / ((norm_a * norm_b)), nan=0)\n",
    "    cos_dist = 1 - cos_dist\n",
    "    return np.abs(1 - cos_dist) * np.mean([norm_a, norm_b], axis=0)"
   ]
  },
  {
   "cell_type": "code",
   "execution_count": 9,
   "id": "86ab6503",
   "metadata": {},
   "outputs": [],
   "source": [
    "def calc_edges(arr1, arr2, index1, index2):\n",
    "    weights = weight_of_arr(arr1, arr2)\n",
    "    weight = weights.ravel()\n",
    "    li = threshold_li(weight)\n",
    "    idx1 = [tuple(i) for i in index1.reshape((-1, index1.shape[-1]))[weight>li]]\n",
    "    idx2 = [tuple(i) for i in index2.reshape((-1, index2.shape[-1]))[weight>li]]\n",
    "    return zip(idx1, idx2, 1 - weight[weight>li])"
   ]
  },
  {
   "cell_type": "code",
   "execution_count": 10,
   "id": "e67651da",
   "metadata": {},
   "outputs": [],
   "source": [
    "def draw_nodes(pos, nodelist):\n",
    "    return np.asarray([pos[n] for n in nodelist])"
   ]
  },
  {
   "cell_type": "code",
   "execution_count": 11,
   "id": "3a78a697",
   "metadata": {},
   "outputs": [],
   "source": [
    "def count_points_paths(paths):\n",
    "    acc = {}\n",
    "    for path in paths:\n",
    "        for n in path:\n",
    "            if n in acc.keys():\n",
    "                acc[n] += 1\n",
    "            else:\n",
    "                acc[n] = 1\n",
    "    return acc"
   ]
  },
  {
   "cell_type": "markdown",
   "id": "f6413118",
   "metadata": {},
   "source": [
    "# Параметры для запуска"
   ]
  },
  {
   "cell_type": "code",
   "execution_count": 12,
   "id": "50379cdc",
   "metadata": {
    "tags": [
     "parameters"
    ]
   },
   "outputs": [],
   "source": [
    "filename = '/home/levtg/astro-morpho/data/3wk-both1-grn-raw.pic'\n",
    "verbose = True\n",
    "sigma = 2\n",
    "\n",
    "# Set false to start from console\n",
    "HANDY = True"
   ]
  },
  {
   "cell_type": "markdown",
   "id": "8a3d42e4",
   "metadata": {},
   "source": [
    "# Считывание изображения"
   ]
  },
  {
   "cell_type": "code",
   "execution_count": 13,
   "id": "6f97f07c",
   "metadata": {},
   "outputs": [
    {
     "data": {
      "text/plain": [
       "[(0.06491228, \"Microns'\"), (0.06491228, \"Microns'\"), (0.3, \"Microns'\")]"
      ]
     },
     "execution_count": 13,
     "metadata": {},
     "output_type": "execute_result"
    }
   ],
   "source": [
    "stack, meta = ccdb.read_pic(filename)\n",
    "dims = ccdb.get_axes(meta)\n",
    "dims"
   ]
  },
  {
   "cell_type": "code",
   "execution_count": 14,
   "id": "cf1eb851",
   "metadata": {},
   "outputs": [],
   "source": [
    "if len(dims):\n",
    "    zoom = dims[0][0]/dims[-1][0]\n",
    "else:\n",
    "    zoom = 4"
   ]
  },
  {
   "cell_type": "markdown",
   "id": "291fd2d4",
   "metadata": {},
   "source": [
    "clahe"
   ]
  },
  {
   "cell_type": "code",
   "execution_count": 15,
   "id": "fac7f51f",
   "metadata": {},
   "outputs": [],
   "source": [
    "clahe = cv2.createCLAHE(clipLimit =2.0, tileGridSize=(8,8))"
   ]
  },
  {
   "cell_type": "code",
   "execution_count": 16,
   "id": "fe7728a1",
   "metadata": {},
   "outputs": [],
   "source": [
    "IMG_SHAPE = stack.shape\n",
    "stack_flat = stack.reshape((IMG_SHAPE[0], -1))\n",
    "img_flat = clahe.apply(stack_flat)\n",
    "img = img_flat.reshape(IMG_SHAPE)"
   ]
  },
  {
   "cell_type": "code",
   "execution_count": 17,
   "id": "87aaaf9c",
   "metadata": {},
   "outputs": [
    {
     "data": {
      "text/plain": [
       "<matplotlib.image.AxesImage at 0x7f644a900c10>"
      ]
     },
     "execution_count": 17,
     "metadata": {},
     "output_type": "execute_result"
    },
    {
     "data": {
      "image/png": "[encoded data removed]",
      "text/plain": [
       "<Figure size 432x288 with 1 Axes>"
      ]
     },
     "metadata": {
      "needs_background": "light"
     },
     "output_type": "display_data"
    }
   ],
   "source": [
    "plt.imshow(img.max(0), cmap='gray')"
   ]
  },
  {
   "cell_type": "code",
   "execution_count": 18,
   "id": "5a6ed0ce",
   "metadata": {},
   "outputs": [],
   "source": [
    "img_noisy = ndi.zoom(img.astype(float),(1, zoom,zoom))"
   ]
  },
  {
   "cell_type": "code",
   "execution_count": 19,
   "id": "18befac1",
   "metadata": {},
   "outputs": [
    {
     "data": {
      "text/plain": [
       "<matplotlib.image.AxesImage at 0x7f644a8bcaf0>"
      ]
     },
     "execution_count": 19,
     "metadata": {},
     "output_type": "execute_result"
    },
    {
     "data": {
      "image/png": "[encoded data removed]",
      "text/plain": [
       "<Figure size 432x288 with 1 Axes>"
      ]
     },
     "metadata": {
      "needs_background": "light"
     },
     "output_type": "display_data"
    }
   ],
   "source": [
    "plt.imshow(img_noisy.max(0), cmap='gray')"
   ]
  },
  {
   "cell_type": "code",
   "execution_count": 20,
   "id": "5dd81788",
   "metadata": {},
   "outputs": [
    {
     "name": "stderr",
     "output_type": "stream",
     "text": [
      "WARNING: Warning: Ignoring XDG_SESSION_TYPE=wayland on Gnome. Use QT_QPA_PLATFORM=wayland to run on Wayland anyway.\n",
      "WARNING: could not determine DPI\n"
     ]
    },
    {
     "data": {
      "text/plain": [
       "Viewer(axes=Axes(visible=False, labels=True, colored=True, dashed=False, arrows=True), camera=Camera(center=(0.0, 110.5, 110.5), zoom=8.13063063063063, angles=(0.0, 0.0, 90.0), perspective=0.0, interactive=True), cursor=Cursor(position=(1.0, 1.0, 0.0), scaled=True, size=1, style=<CursorStyle.STANDARD: 'standard'>), dims=Dims(ndim=3, ndisplay=2, last_used=0, range=((0.0, 77.0, 1.0), (0.0, 222.0, 1.0), (0.0, 222.0, 1.0)), current_step=(38, 111, 111), order=(0, 1, 2), axis_labels=('0', '1', '2')), grid=GridCanvas(stride=1, shape=(-1, -1), enabled=False), layers=[<Image layer 'img_noisy' at 0x7f644a13a8f0>], scale_bar=ScaleBar(visible=False, colored=False, ticks=True, position=<Position.BOTTOM_RIGHT: 'bottom_right'>, font_size=10, unit=None), text_overlay=TextOverlay(visible=False, color=(0.5, 0.5, 0.5, 1.0), font_size=10, position=<TextOverlayPosition.TOP_LEFT: 'top_left'>, text=''), overlays=Overlays(interaction_box=InteractionBox(points=None, show=False, show_handle=False, show_vertices=False, selection_box_drag=None, selection_box_final=None, transform_start=<napari.utils.transforms.transforms.Affine object at 0x7f640ff48460>, transform_drag=<napari.utils.transforms.transforms.Affine object at 0x7f640ff484c0>, transform_final=<napari.utils.transforms.transforms.Affine object at 0x7f640ff48520>, transform=<napari.utils.transforms.transforms.Affine object at 0x7f640ff48580>, allow_new_selection=True, selected_vertex=None)), help='', status='Ready', tooltip=Tooltip(visible=False, text=''), theme='dark', title='napari', mouse_move_callbacks=[<function InteractionBoxMouseBindings.initialize_mouse_events.<locals>.mouse_move at 0x7f63e04df2e0>], mouse_drag_callbacks=[<function InteractionBoxMouseBindings.initialize_mouse_events.<locals>.mouse_drag at 0x7f63e063b5b0>], mouse_double_click_callbacks=[], mouse_wheel_callbacks=[<function dims_scroll at 0x7f64100d2b90>], _persisted_mouse_event={}, _mouse_drag_gen={}, _mouse_wheel_gen={}, keymap={'Shift': <function InteractionBoxMouseBindings.initialize_key_events.<locals>.hold_to_lock_aspect_ratio at 0x7f63e063b520>, 'Control-Shift-R': <function InteractionBoxMouseBindings._reset_active_layer_affine at 0x7f63e0691090>, 'Control-Shift-A': <function InteractionBoxMouseBindings._transform_active_layer at 0x7f63e06901f0>})"
      ]
     },
     "execution_count": 20,
     "metadata": {},
     "output_type": "execute_result"
    }
   ],
   "source": [
    "napari.view_image(img_noisy)"
   ]
  },
  {
   "cell_type": "markdown",
   "id": "700733f5",
   "metadata": {},
   "source": [
    "# Фильтрация изображения"
   ]
  },
  {
   "cell_type": "code",
   "execution_count": 134,
   "id": "8d0bda77",
   "metadata": {},
   "outputs": [],
   "source": [
    "from skimage.filters import threshold_li, threshold_minimum\n",
    "from skimage.morphology import remove_small_objects"
   ]
  },
  {
   "cell_type": "code",
   "execution_count": 138,
   "id": "a5f106e4",
   "metadata": {},
   "outputs": [],
   "source": [
    "def filter_image(image, filter_func):\n",
    "    threshold = filter_func(image)\n",
    "    img_filt = np.where(image > threshold, image, 0)\n",
    "    napari.view_image(image >= threshold)\n",
    "    binary_clean = remove_small_objects(image >= threshold, 5, connectivity=3)\n",
    "    return np.where(binary_clean, img_filt, 0)"
   ]
  },
  {
   "cell_type": "code",
   "execution_count": 23,
   "id": "2bbff114",
   "metadata": {},
   "outputs": [],
   "source": [
    "threshold = lambda x: 187"
   ]
  },
  {
   "cell_type": "code",
   "execution_count": 139,
   "id": "21902362",
   "metadata": {},
   "outputs": [
    {
     "name": "stderr",
     "output_type": "stream",
     "text": [
      "WARNING: could not determine DPI\n",
      "WARNING: could not determine DPI\n"
     ]
    }
   ],
   "source": [
    "img_clear = filter_image(img_noisy, threshold_li)\n",
    "if HANDY:\n",
    "    img_clear = filter_image(img_noisy, threshold_minimum)"
   ]
  },
  {
   "cell_type": "code",
   "execution_count": 140,
   "id": "376141e8",
   "metadata": {},
   "outputs": [],
   "source": [
    "final_image = img_clear"
   ]
  },
  {
   "cell_type": "code",
   "execution_count": 142,
   "id": "0a0f560a",
   "metadata": {},
   "outputs": [
    {
     "name": "stderr",
     "output_type": "stream",
     "text": [
      "WARNING: could not determine DPI\n"
     ]
    }
   ],
   "source": [
    "w = napari.view_image(final_image)"
   ]
  },
  {
   "cell_type": "markdown",
   "id": "15f28848",
   "metadata": {},
   "source": [
    "# Матрица Гессе"
   ]
  },
  {
   "cell_type": "code",
   "execution_count": 199,
   "id": "d0dcf223",
   "metadata": {},
   "outputs": [],
   "source": [
    "if HANDY:\n",
    "    sigma = 3"
   ]
  },
  {
   "cell_type": "code",
   "execution_count": 200,
   "id": "119b7476",
   "metadata": {},
   "outputs": [],
   "source": [
    "sato, Vf = astro.hessian.sato3d(final_image, sigma, hessian_variant='gradient_of_smoothed', return_vectors=True)"
   ]
  },
  {
   "cell_type": "code",
   "execution_count": 201,
   "id": "5b04c78f",
   "metadata": {},
   "outputs": [],
   "source": [
    "Vfx = Vf[...,0][...,::-1]\n",
    "V = Vfx[..., 0]\n",
    "U = Vfx[..., 1]\n",
    "C = Vfx[..., 2]"
   ]
  },
  {
   "cell_type": "code",
   "execution_count": 202,
   "id": "85c0166e",
   "metadata": {},
   "outputs": [],
   "source": [
    "lengths = astro.enh.percentile_rescale(sato)**0.5"
   ]
  },
  {
   "cell_type": "code",
   "execution_count": 203,
   "id": "22e8a73b",
   "metadata": {},
   "outputs": [],
   "source": [
    "vectors = np.stack((U*lengths, V*lengths, C*lengths), axis=3)"
   ]
  },
  {
   "cell_type": "markdown",
   "id": "c7e30b91",
   "metadata": {},
   "source": [
    "# Построение графа"
   ]
  },
  {
   "cell_type": "code",
   "execution_count": 204,
   "id": "11b4de56",
   "metadata": {},
   "outputs": [],
   "source": [
    "crops = [((slice(1, None)), (slice(None, -1))),\n",
    "         ((slice(1, None), slice(1, None), slice(1, None)), (slice(None, -1), slice(None, -1), slice(None, -1))),\n",
    "         ((slice(1, None), slice(None, -1), slice(None, -1)), (slice(None, -1), slice(1, None), slice(1, None))),\n",
    "         ((slice(1, None), slice(1, None)), (slice(None, -1), slice(None, -1))),\n",
    "         ((slice(1, None), slice(None, -1)), (slice(None, -1), slice(1, None))),\n",
    "         ((slice(1, None), slice(1, None), slice(None, -1)), (slice(None, -1), slice(None, -1), slice(1, None))),\n",
    "         ((slice(1, None), slice(None, -1), slice(1, None)), (slice(None, -1), slice(1, None), slice(None, -1))),\n",
    "         ((slice(1, None), slice(None), slice(None, -1)), (slice(None, -1), slice(None), slice(1, None))),\n",
    "         ((slice(1, None), slice(None), slice(1, None)), (slice(None, -1), slice(None), slice(None, -1))),\n",
    "         ((slice(None), slice(1, None), slice(1, None)), (slice(None), slice(None, -1), slice(None, -1))),\n",
    "         ((slice(None), slice(1, None)), (slice(None), slice(None, -1))),\n",
    "         ((slice(None), slice(1, None), slice(None, -1)), (slice(None), slice(None, -1), slice(1, None))),\n",
    "         ((slice(None), slice(None), slice(None, -1)), (slice(None), slice(None), slice(1, None)))]"
   ]
  },
  {
   "cell_type": "code",
   "execution_count": 205,
   "id": "42023332",
   "metadata": {},
   "outputs": [],
   "source": [
    "i, j, k = np.indices(vectors.shape[:-1])\n",
    "idx = np.stack((i,j,k), axis=3)"
   ]
  },
  {
   "cell_type": "code",
   "execution_count": 206,
   "id": "651a4a32",
   "metadata": {},
   "outputs": [],
   "source": [
    "G3 = nx.Graph()\n",
    "nodes3 = {}"
   ]
  },
  {
   "cell_type": "code",
   "execution_count": 207,
   "id": "c75193aa",
   "metadata": {},
   "outputs": [
    {
     "data": {
      "application/vnd.jupyter.widget-view+json": {
       "model_id": "8b6677e0eb584a8a82781f998db1d87f",
       "version_major": 2,
       "version_minor": 0
      },
      "text/plain": [
       "  0%|          | 0/13 [00:00<?, ?it/s]"
      ]
     },
     "metadata": {},
     "output_type": "display_data"
    },
    {
     "name": "stderr",
     "output_type": "stream",
     "text": [
      "/tmp/ipykernel_10930/1847692117.py:5: RuntimeWarning: invalid value encountered in true_divide\n",
      "  cos_dist = np.nan_to_num(dprod / ((norm_a * norm_b)), nan=0)\n",
      "/home/levtg/astro-morpho/venv/lib64/python3.10/site-packages/skimage/filters/thresholding.py:757: RuntimeWarning: divide by zero encountered in log\n",
      "  / (np.log(mean_back) - np.log(mean_fore)))\n"
     ]
    }
   ],
   "source": [
    "for crop, acrop in tqdm(crops):\n",
    "    G3.add_weighted_edges_from(calc_edges(vectors[crop], vectors[acrop], idx[crop], idx[acrop]))"
   ]
  },
  {
   "cell_type": "code",
   "execution_count": 208,
   "id": "9446e5ac",
   "metadata": {},
   "outputs": [],
   "source": [
    "\n",
    "nodes3 = {n:n for n in G3.nodes()}"
   ]
  },
  {
   "cell_type": "markdown",
   "id": "ca472d23",
   "metadata": {},
   "source": [
    "## Выделение сомы"
   ]
  },
  {
   "cell_type": "code",
   "execution_count": 209,
   "id": "4d1f207f",
   "metadata": {},
   "outputs": [],
   "source": [
    "from skimage.morphology import erosion, dilation"
   ]
  },
  {
   "cell_type": "code",
   "execution_count": 210,
   "id": "0ad3db54",
   "metadata": {},
   "outputs": [],
   "source": [
    "to_erose = final_image[:]"
   ]
  },
  {
   "cell_type": "code",
   "execution_count": 211,
   "id": "334947b0",
   "metadata": {},
   "outputs": [],
   "source": [
    "for i in range(6):\n",
    "    to_erose = erosion(to_erose)"
   ]
  },
  {
   "cell_type": "code",
   "execution_count": 212,
   "id": "c9b95ad8",
   "metadata": {},
   "outputs": [],
   "source": [
    "eroded = remove_small_objects(to_erose > 0, 5, connectivity=3)"
   ]
  },
  {
   "cell_type": "code",
   "execution_count": 213,
   "id": "6b4c4ed9",
   "metadata": {},
   "outputs": [],
   "source": [
    "soma_mask = np.where(dilation(eroded), True, False)"
   ]
  },
  {
   "cell_type": "code",
   "execution_count": 214,
   "id": "5a1eac14",
   "metadata": {},
   "outputs": [],
   "source": [
    "if verbose:\n",
    "    w.add_image(soma_mask, blending='additive', colormap='cyan')"
   ]
  },
  {
   "cell_type": "code",
   "execution_count": 215,
   "id": "b8e998a8",
   "metadata": {},
   "outputs": [],
   "source": [
    "soma = [tuple(i) for i in idx[soma_mask]]"
   ]
  },
  {
   "cell_type": "markdown",
   "id": "a552caa7",
   "metadata": {},
   "source": [
    "## Определение центра"
   ]
  },
  {
   "cell_type": "code",
   "execution_count": 216,
   "id": "df7b2c98",
   "metadata": {},
   "outputs": [],
   "source": [
    "import itertools as itt"
   ]
  },
  {
   "cell_type": "code",
   "execution_count": 217,
   "id": "d2521688",
   "metadata": {},
   "outputs": [],
   "source": [
    "def percentile_rescale(arr, plow=1, phigh=99.5):\n",
    "    low, high = np.percentile(arr, (plow, phigh))\n",
    "    if low == high:\n",
    "        return np.zeros_like(arr)\n",
    "    else:\n",
    "        return np.clip((arr-low)/(high-low), 0, 1)"
   ]
  },
  {
   "cell_type": "code",
   "execution_count": 218,
   "id": "aa766147",
   "metadata": {},
   "outputs": [],
   "source": [
    "zstack = final_image[:]"
   ]
  },
  {
   "cell_type": "code",
   "execution_count": 219,
   "id": "044abecd",
   "metadata": {},
   "outputs": [
    {
     "name": "stdout",
     "output_type": "stream",
     "text": [
      "CPU times: user 1.79 s, sys: 104 ms, total: 1.9 s\n",
      "Wall time: 1.9 s\n"
     ]
    }
   ],
   "source": [
    "%time X = np.array(list(itt.product(*map(range, zstack.shape))))"
   ]
  },
  {
   "cell_type": "code",
   "execution_count": 220,
   "id": "f5a49721",
   "metadata": {},
   "outputs": [],
   "source": [
    "weights_s = percentile_rescale(np.ravel(ndi.gaussian_filter(zstack,5))**2,plow=99.5,phigh=99.99)"
   ]
  },
  {
   "cell_type": "code",
   "execution_count": 221,
   "id": "ebb3d49b",
   "metadata": {},
   "outputs": [
    {
     "data": {
      "text/plain": [
       "(49, 107, 98)"
      ]
     },
     "execution_count": 221,
     "metadata": {},
     "output_type": "execute_result"
    }
   ],
   "source": [
    "center = tuple(map(int, np.sum(X*weights_s[:,None],axis=0)/np.sum(weights_s)))\n",
    "center"
   ]
  },
  {
   "cell_type": "markdown",
   "id": "f7a27f6d",
   "metadata": {},
   "source": [
    "## Добавление точек сомы в граф"
   ]
  },
  {
   "cell_type": "code",
   "execution_count": 222,
   "id": "a6612951",
   "metadata": {},
   "outputs": [],
   "source": [
    "G = nx.complete_graph(soma)"
   ]
  },
  {
   "cell_type": "code",
   "execution_count": 223,
   "id": "11f28a0a",
   "metadata": {},
   "outputs": [],
   "source": [
    "nx.set_edge_attributes(G, 0.7, name='weight')"
   ]
  },
  {
   "cell_type": "code",
   "execution_count": 224,
   "id": "817b2ce3",
   "metadata": {},
   "outputs": [],
   "source": [
    "for p1, p2, weight in G.edges(data=True):\n",
    "    try:\n",
    "        old_weight = G3.get_edge_data(p1, p2)['weight']\n",
    "    except:\n",
    "        old_weight = 1\n",
    "    G3.add_edge(p1, p2, weight=min(weight['weight'], old_weight))"
   ]
  },
  {
   "cell_type": "code",
   "execution_count": 225,
   "id": "e11158c8",
   "metadata": {},
   "outputs": [],
   "source": [
    "nodes3 = {n:n for n in G3.nodes()}"
   ]
  },
  {
   "cell_type": "markdown",
   "id": "975a351e",
   "metadata": {},
   "source": [
    "# Расчет путей"
   ]
  },
  {
   "cell_type": "code",
   "execution_count": 226,
   "id": "246e1d42",
   "metadata": {},
   "outputs": [
    {
     "name": "stdout",
     "output_type": "stream",
     "text": [
      "CPU times: user 232 ms, sys: 108 µs, total: 232 ms\n",
      "Wall time: 232 ms\n"
     ]
    }
   ],
   "source": [
    "%time paths_dict = nx.single_source_dijkstra_path(G3, center)"
   ]
  },
  {
   "cell_type": "code",
   "execution_count": 227,
   "id": "4ae7f63b",
   "metadata": {},
   "outputs": [],
   "source": [
    "paths = list(paths_dict.values())"
   ]
  },
  {
   "cell_type": "code",
   "execution_count": 228,
   "id": "8cf655be",
   "metadata": {},
   "outputs": [],
   "source": [
    "np.save('{}_sigma{}_paths_all'.format(os.path.basename(filename), sigma), np.array(paths, dtype=object))"
   ]
  },
  {
   "cell_type": "markdown",
   "id": "c092a4c9",
   "metadata": {},
   "source": [
    "# Расчет встречаемости"
   ]
  },
  {
   "cell_type": "code",
   "execution_count": 229,
   "id": "1af2ed8b",
   "metadata": {},
   "outputs": [],
   "source": [
    "points = count_points_paths(paths)"
   ]
  },
  {
   "cell_type": "code",
   "execution_count": 230,
   "id": "24dd9330",
   "metadata": {},
   "outputs": [],
   "source": [
    "np.save('{}_sigma{}_points_count'.format(os.path.basename(filename), sigma), np.array(points, dtype=object))"
   ]
  },
  {
   "cell_type": "code",
   "execution_count": 231,
   "id": "b567b8e0",
   "metadata": {},
   "outputs": [
    {
     "name": "stderr",
     "output_type": "stream",
     "text": [
      "/home/levtg/astro-morpho/venv/lib64/python3.10/site-packages/numpy/core/numeric.py:2446: FutureWarning: elementwise comparison failed; returning scalar instead, but in the future will perform elementwise comparison\n",
      "  return bool(asarray(a1 == a2).all())\n"
     ]
    }
   ],
   "source": [
    "if verbose:\n",
    "    w.add_points(draw_nodes(nodes3, points), size=1, edge_color='transparent', face_color='b', name='count')"
   ]
  },
  {
   "cell_type": "code",
   "execution_count": 232,
   "id": "90e2d212",
   "metadata": {},
   "outputs": [],
   "source": [
    "count_1 = []\n",
    "for path in paths:\n",
    "    count = 0\n",
    "    for n in path:\n",
    "        if points[n] == 1:\n",
    "            count += 1\n",
    "    count_1.append(count)"
   ]
  },
  {
   "cell_type": "code",
   "execution_count": 233,
   "id": "be3e2e47",
   "metadata": {},
   "outputs": [
    {
     "data": {
      "image/png": "[encoded data removed]",
      "text/plain": [
       "<Figure size 432x288 with 1 Axes>"
      ]
     },
     "metadata": {
      "needs_background": "light"
     },
     "output_type": "display_data"
    }
   ],
   "source": [
    "plt.hist(count_1)\n",
    "plt.show()"
   ]
  },
  {
   "cell_type": "code",
   "execution_count": 234,
   "id": "ffb48330",
   "metadata": {},
   "outputs": [],
   "source": [
    "to_del = []\n",
    "for point, count in points.items():\n",
    "    if count == 1:\n",
    "        to_del.append(point)"
   ]
  },
  {
   "cell_type": "markdown",
   "id": "c666e6ec",
   "metadata": {},
   "source": [
    "# Фильтрация точек по встречаемости"
   ]
  },
  {
   "cell_type": "code",
   "execution_count": 235,
   "id": "6b0043b7",
   "metadata": {},
   "outputs": [],
   "source": [
    "from copy import copy\n",
    "points_count = copy(points)"
   ]
  },
  {
   "cell_type": "code",
   "execution_count": 236,
   "id": "68b0a73f",
   "metadata": {},
   "outputs": [],
   "source": [
    "for point in to_del:\n",
    "    del points_count[point]"
   ]
  },
  {
   "cell_type": "code",
   "execution_count": 237,
   "id": "c4f2365d",
   "metadata": {},
   "outputs": [
    {
     "data": {
      "text/plain": [
       "[4889,\n",
       " 4918,\n",
       " 4941,\n",
       " 4954,\n",
       " 4959,\n",
       " 4970,\n",
       " 4977,\n",
       " 4985,\n",
       " 4986,\n",
       " 5008,\n",
       " 5022,\n",
       " 6951,\n",
       " 9426,\n",
       " 9433,\n",
       " 9438,\n",
       " 9443,\n",
       " 9449,\n",
       " 9465,\n",
       " 9478,\n",
       " 12667]"
      ]
     },
     "execution_count": 237,
     "metadata": {},
     "output_type": "execute_result"
    }
   ],
   "source": [
    "sorted(points_count.values())[-20:]"
   ]
  },
  {
   "cell_type": "code",
   "execution_count": 238,
   "id": "4dfaaaae",
   "metadata": {},
   "outputs": [],
   "source": [
    "del points_count[center]"
   ]
  },
  {
   "cell_type": "code",
   "execution_count": 239,
   "id": "adc2fa0a",
   "metadata": {},
   "outputs": [
    {
     "name": "stderr",
     "output_type": "stream",
     "text": [
      "/home/levtg/astro-morpho/venv/lib64/python3.10/site-packages/numpy/core/numeric.py:2446: FutureWarning: elementwise comparison failed; returning scalar instead, but in the future will perform elementwise comparison\n",
      "  return bool(asarray(a1 == a2).all())\n"
     ]
    }
   ],
   "source": [
    "if verbose:\n",
    "    w.add_points(draw_nodes(nodes3, points_count), size=1, edge_color='transparent', face_color='r', name='count')"
   ]
  },
  {
   "cell_type": "code",
   "execution_count": 240,
   "id": "a24df386",
   "metadata": {},
   "outputs": [],
   "source": [
    "qstack = np.zeros(vectors.shape[:-1])\n",
    "for loc, val in points_count.items():\n",
    "    qstack[loc] = np.log(val)"
   ]
  },
  {
   "cell_type": "code",
   "execution_count": 241,
   "id": "1d669440",
   "metadata": {},
   "outputs": [],
   "source": [
    "if verbose:\n",
    "    w.add_image(qstack)"
   ]
  },
  {
   "cell_type": "code",
   "execution_count": 242,
   "id": "86efafa3",
   "metadata": {},
   "outputs": [],
   "source": [
    "p = np.asarray(list(points_count.keys()))"
   ]
  },
  {
   "cell_type": "code",
   "execution_count": 243,
   "id": "1113e07d",
   "metadata": {},
   "outputs": [],
   "source": [
    "vals = np.asarray(list(points_count.values()))"
   ]
  },
  {
   "cell_type": "code",
   "execution_count": 244,
   "id": "9ec970e7",
   "metadata": {},
   "outputs": [
    {
     "data": {
      "image/png": "[encoded data removed]",
      "text/plain": [
       "<Figure size 1152x576 with 1 Axes>"
      ]
     },
     "metadata": {
      "needs_background": "light"
     },
     "output_type": "display_data"
    }
   ],
   "source": [
    "plt.figure(figsize=(16,8))\n",
    "plt.hist(np.log(vals[vals>1]), bins=500)\n",
    "#plt.xlim(-10, 100)\n",
    "plt.axvline(np.mean(np.log(vals)), color='cyan', ls='--', label='th.mean')\n",
    "plt.axvline(threshold_li(np.log(vals)), color='tomato', ls='--', label='th.Li')\n",
    "plt.axvline(np.log(np.mean(vals)), color='b', ls='--', label='th.log_mean')\n",
    "plt.legend()\n",
    "plt.show()"
   ]
  },
  {
   "cell_type": "code",
   "execution_count": 245,
   "id": "7572a247",
   "metadata": {},
   "outputs": [
    {
     "data": {
      "image/png": "[encoded data removed]",
      "text/plain": [
       "<Figure size 1152x576 with 1 Axes>"
      ]
     },
     "metadata": {
      "needs_background": "light"
     },
     "output_type": "display_data"
    }
   ],
   "source": [
    "plt.figure(figsize=(16,8))\n",
    "plt.hist(vals[vals>1], bins=500)\n",
    "#plt.xlim(-10, 100)\n",
    "plt.axvline(np.mean(vals), color='b', ls='--', label='th.mean')\n",
    "plt.axvline(threshold_li(vals), color='tomato', ls='--', label='th.Li')\n",
    "plt.axvline(np.exp(np.mean(np.log(vals))), color='cyan', ls='--', label='th.log_mean')\n",
    "plt.legend()\n",
    "plt.show()"
   ]
  },
  {
   "cell_type": "code",
   "execution_count": 246,
   "id": "2eea2646",
   "metadata": {},
   "outputs": [],
   "source": [
    "points_mean = [k for k, v in points_count.items() if v > np.mean(vals)]\n",
    "thr_li = threshold_li(vals)\n",
    "points_li = [k for k, v in points_count.items() if v > thr_li]\n",
    "# points_log_mean = [k for k, v in points_count.items() if np.log(v) > np.mean(np.log(vals))]\n",
    "# points_log_li = [k for k, v in points_count.items() if np.log(v) > threshold_li(np.log(vals))]"
   ]
  },
  {
   "cell_type": "code",
   "execution_count": 247,
   "id": "b7fc2c3c",
   "metadata": {},
   "outputs": [
    {
     "name": "stderr",
     "output_type": "stream",
     "text": [
      "/home/levtg/astro-morpho/venv/lib64/python3.10/site-packages/numpy/core/numeric.py:2446: FutureWarning: elementwise comparison failed; returning scalar instead, but in the future will perform elementwise comparison\n",
      "  return bool(asarray(a1 == a2).all())\n",
      "/home/levtg/astro-morpho/venv/lib64/python3.10/site-packages/numpy/core/numeric.py:2446: FutureWarning: elementwise comparison failed; returning scalar instead, but in the future will perform elementwise comparison\n",
      "  return bool(asarray(a1 == a2).all())\n"
     ]
    }
   ],
   "source": [
    "if verbose:\n",
    "    w.add_points(draw_nodes(nodes3, points_mean), size=1, edge_color='transparent', face_color='m', name='filt mean')\n",
    "    w.add_points(draw_nodes(nodes3, points_li), size=1, edge_color='transparent', face_color='g', name='filt li')"
   ]
  },
  {
   "cell_type": "markdown",
   "id": "9119fc19",
   "metadata": {},
   "source": [
    "# Tree creation"
   ]
  },
  {
   "cell_type": "code",
   "execution_count": 248,
   "id": "f2df8768",
   "metadata": {},
   "outputs": [],
   "source": [
    "Gsub = G3.subgraph(points_mean)\n",
    "nodes_sub = {n:n for n in Gsub.nodes()}"
   ]
  },
  {
   "cell_type": "code",
   "execution_count": 249,
   "id": "56669b41",
   "metadata": {},
   "outputs": [],
   "source": [
    "props = {'weight': 1 - np.array([edgedata[\"weight\"] for _, _, edgedata in Gsub.edges(data=True)])}"
   ]
  },
  {
   "cell_type": "code",
   "execution_count": 194,
   "id": "772cda1b",
   "metadata": {},
   "outputs": [
    {
     "name": "stderr",
     "output_type": "stream",
     "text": [
      "/home/levtg/astro-morpho/venv/lib64/python3.10/site-packages/numpy/core/numeric.py:2446: FutureWarning: elementwise comparison failed; returning scalar instead, but in the future will perform elementwise comparison\n",
      "  return bool(asarray(a1 == a2).all())\n"
     ]
    },
    {
     "data": {
      "text/plain": [
       "<Shapes layer 'Shapes' at 0x7f634bc306d0>"
      ]
     },
     "execution_count": 194,
     "metadata": {},
     "output_type": "execute_result"
    }
   ],
   "source": [
    "w.add_shapes(draw_edges(nodes_sub, list(Gsub.edges())), shape_type='path', edge_color='weight', edge_width=0.1, edge_colormap='inferno', properties=props)"
   ]
  },
  {
   "cell_type": "code",
   "execution_count": 255,
   "id": "539b8e90",
   "metadata": {},
   "outputs": [],
   "source": [
    "from skimage.morphology import skeletonize, flood"
   ]
  },
  {
   "cell_type": "code",
   "execution_count": 196,
   "id": "e602a411",
   "metadata": {},
   "outputs": [
    {
     "data": {
      "text/plain": [
       "<Image layer 'skeleton' at 0x7f634a811630>"
      ]
     },
     "execution_count": 196,
     "metadata": {},
     "output_type": "execute_result"
    }
   ],
   "source": [
    "skeleton = skeletonize(final_image/final_image.max())\n",
    "w.add_image(skeleton, blending='additive', colormap='cyan')"
   ]
  },
  {
   "cell_type": "code",
   "execution_count": 260,
   "id": "5b2ae18c",
   "metadata": {},
   "outputs": [
    {
     "data": {
      "text/plain": [
       "<Image layer 'flood_mask' at 0x7f6354c250f0>"
      ]
     },
     "execution_count": 260,
     "metadata": {},
     "output_type": "execute_result"
    }
   ],
   "source": [
    "flood_mask = flood(final_image > 0, center)\n",
    "w.add_image(flood_mask, colormap='red', opacity=0.5)"
   ]
  },
  {
   "cell_type": "code",
   "execution_count": 262,
   "id": "e8aff1b9",
   "metadata": {},
   "outputs": [
    {
     "data": {
      "text/plain": [
       "<Image layer 'skeleton_2' at 0x7f6361973f70>"
      ]
     },
     "execution_count": 262,
     "metadata": {},
     "output_type": "execute_result"
    }
   ],
   "source": [
    "img = np.where(flood_mask, final_image/final_image.max(), 0)\n",
    "skeleton_2 = skeletonize(img)\n",
    "w.add_image(skeleton_2, blending='additive', colormap='cyan')"
   ]
  },
  {
   "cell_type": "code",
   "execution_count": 197,
   "id": "17579f77",
   "metadata": {},
   "outputs": [],
   "source": [
    "from skimage.graph import pixel_graph"
   ]
  },
  {
   "cell_type": "code",
   "execution_count": 198,
   "id": "de6b3fc1",
   "metadata": {},
   "outputs": [
    {
     "data": {
      "text/plain": [
       "(<3794868x3794868 sparse matrix of type '<class 'numpy.float64'>'\n",
       " \twith 22602264 stored elements in Compressed Sparse Row format>,\n",
       " array([      0,       1,       2, ..., 3794865, 3794866, 3794867]))"
      ]
     },
     "execution_count": 198,
     "metadata": {},
     "output_type": "execute_result"
    }
   ],
   "source": [
    "pixel_graph(skeleton)"
   ]
  },
  {
   "cell_type": "code",
   "execution_count": null,
   "id": "78dfb080",
   "metadata": {},
   "outputs": [],
   "source": []
  }
 ],
 "metadata": {
  "celltoolbar": "Tags",
  "jupytext": {
   "formats": "ipynb,Rmd"
  },
  "kernelspec": {
   "display_name": "venv",
   "language": "python",
   "name": "venv"
  },
  "language_info": {
   "codemirror_mode": {
    "name": "ipython",
    "version": 3
   },
   "file_extension": ".py",
   "mimetype": "text/x-python",
   "name": "python",
   "nbconvert_exporter": "python",
   "pygments_lexer": "ipython3",
   "version": "3.10.2"
  },
  "toc": {
   "base_numbering": 1,
   "nav_menu": {},
   "number_sections": false,
   "sideBar": true,
   "skip_h1_title": false,
   "title_cell": "Table of Contents",
   "title_sidebar": "Contents",
   "toc_cell": true,
   "toc_position": {},
   "toc_section_display": true,
   "toc_window_display": true
  }
 },
 "nbformat": 4,
 "nbformat_minor": 5
}
