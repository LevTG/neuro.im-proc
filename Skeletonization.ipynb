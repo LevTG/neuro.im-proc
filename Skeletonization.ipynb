{
 "cells": [
  {
   "cell_type": "code",
   "execution_count": 1,
   "id": "bf7a73df",
   "metadata": {},
   "outputs": [],
   "source": [
    "import os\n",
    "import sys"
   ]
  },
  {
   "cell_type": "code",
   "execution_count": 2,
   "id": "cb13ff52",
   "metadata": {},
   "outputs": [],
   "source": [
    "%matplotlib inline\n",
    "\n",
    "import matplotlib.pyplot as plt"
   ]
  },
  {
   "cell_type": "code",
   "execution_count": 3,
   "id": "3947f1d7",
   "metadata": {},
   "outputs": [],
   "source": [
    "import scipy\n",
    "from scipy import ndimage as ndi\n",
    "import numpy as np\n",
    "import networkx as nx"
   ]
  },
  {
   "cell_type": "code",
   "execution_count": 4,
   "id": "93d7599f",
   "metadata": {},
   "outputs": [],
   "source": [
    "import napari"
   ]
  },
  {
   "cell_type": "code",
   "execution_count": 5,
   "id": "f632bd41",
   "metadata": {},
   "outputs": [],
   "source": [
    "from tqdm.auto import tqdm"
   ]
  },
  {
   "cell_type": "code",
   "execution_count": 6,
   "id": "c843ad15",
   "metadata": {
    "lines_to_next_cell": 0
   },
   "outputs": [
    {
     "name": "stdout",
     "output_type": "stream",
     "text": [
      "Can't load imreg package, affine and homography registrations won't work\n"
     ]
    },
    {
     "name": "stderr",
     "output_type": "stream",
     "text": [
      "/home/levtg/astro-morpho/venv/lib64/python3.10/site-packages/imfun/external/tifffile.py:7261: UserWarning: No module named 'imfun.external._tifffile'\n",
      "  Functionality might be degraded or be slow.\n",
      "\n",
      "  warnings.warn(\"%s%s\" % (e, warn))\n",
      "/home/levtg/astro-morpho/venv/lib64/python3.10/site-packages/imfun/external/czifile.py:146: UserWarning: ImportError: No module named '_czifile'. Decoding of JXR and JPEG encoded images will not be available. Czifile.pyx can be obtained at http://www.lfd.uci.edu/~gohlke/\n",
      "  warnings.warn(\n",
      "2022-04-22 13:37:57.536329: W tensorflow/stream_executor/platform/default/dso_loader.cc:64] Could not load dynamic library 'libcudart.so.11.0'; dlerror: libcudart.so.11.0: cannot open shared object file: No such file or directory; LD_LIBRARY_PATH: /home/levtg/astro-morpho/venv/lib/python3.10/site-packages/cv2/../../lib64:\n",
      "2022-04-22 13:37:57.536350: I tensorflow/stream_executor/cuda/cudart_stub.cc:29] Ignore above cudart dlerror if you do not have a GPU set up on your machine.\n"
     ]
    }
   ],
   "source": [
    "import ccdb\n",
    "import astromorpho as astro"
   ]
  },
  {
   "cell_type": "markdown",
   "id": "7efa27b9",
   "metadata": {},
   "source": [
    "\n",
    " "
   ]
  },
  {
   "cell_type": "code",
   "execution_count": 7,
   "id": "0d2d4763",
   "metadata": {},
   "outputs": [],
   "source": [
    "def weight_of_arr(a, b):\n",
    "    dprod = np.einsum('...ij,...ij->...i', a, b)\n",
    "    norm_a = np.linalg.norm(a, axis=-1)\n",
    "    norm_b = np.linalg.norm(b, axis=-1)\n",
    "    cos_dist = np.nan_to_num(dprod / ((norm_a * norm_b)), nan=0)\n",
    "    cos_dist = 1 - cos_dist\n",
    "    return np.abs(1 - cos_dist) * np.mean([norm_a, norm_b], axis=0)"
   ]
  },
  {
   "cell_type": "code",
   "execution_count": 8,
   "id": "86ab6503",
   "metadata": {},
   "outputs": [],
   "source": [
    "def calc_edges(arr1, arr2, index1, index2):\n",
    "    weights = weight_of_arr(arr1, arr2)\n",
    "    weight = weights.ravel()\n",
    "    li = threshold_li(weight)\n",
    "    idx1 = [tuple(i) for i in index1.reshape((-1, index1.shape[-1]))[weight>li]]\n",
    "    idx2 = [tuple(i) for i in index2.reshape((-1, index2.shape[-1]))[weight>li]]\n",
    "    return zip(idx1, idx2, 1 - weight[weight>li])"
   ]
  },
  {
   "cell_type": "code",
   "execution_count": 9,
   "id": "e67651da",
   "metadata": {},
   "outputs": [],
   "source": [
    "def draw_nodes(pos, nodelist):\n",
    "    return np.asarray([pos[n] for n in nodelist])"
   ]
  },
  {
   "cell_type": "code",
   "execution_count": 10,
   "id": "3a78a697",
   "metadata": {},
   "outputs": [],
   "source": [
    "def count_points_paths(paths):\n",
    "    acc = {}\n",
    "    for path in paths:\n",
    "        for n in path:\n",
    "            if n in acc.keys():\n",
    "                acc[n] += 1\n",
    "            else:\n",
    "                acc[n] = 1\n",
    "    return acc"
   ]
  },
  {
   "cell_type": "markdown",
   "id": "8a3d42e4",
   "metadata": {},
   "source": [
    "Считывание изображения"
   ]
  },
  {
   "cell_type": "code",
   "execution_count": null,
   "id": "de70427b",
   "metadata": {},
   "outputs": [],
   "source": []
  },
  {
   "cell_type": "code",
   "execution_count": 11,
   "id": "50379cdc",
   "metadata": {
    "tags": [
     "parameters"
    ]
   },
   "outputs": [],
   "source": [
    "filename = '/home/levtg/astro-morpho/data/3wk-both1-grn-raw.pic'\n",
    "verbose = True"
   ]
  },
  {
   "cell_type": "code",
   "execution_count": 12,
   "id": "6f97f07c",
   "metadata": {},
   "outputs": [
    {
     "data": {
      "text/plain": [
       "[(0.06491228, \"Microns'\"), (0.06491228, \"Microns'\"), (0.3, \"Microns'\")]"
      ]
     },
     "execution_count": 12,
     "metadata": {},
     "output_type": "execute_result"
    }
   ],
   "source": [
    "stack, meta = ccdb.read_pic(filename)\n",
    "dims = ccdb.get_axes(meta)\n",
    "dims"
   ]
  },
  {
   "cell_type": "code",
   "execution_count": 13,
   "id": "cf1eb851",
   "metadata": {},
   "outputs": [],
   "source": [
    "if len(dims):\n",
    "    zoom = dims[0][0]/dims[-1][0]\n",
    "else:\n",
    "    zoom = 4"
   ]
  },
  {
   "cell_type": "code",
   "execution_count": 14,
   "id": "5a6ed0ce",
   "metadata": {},
   "outputs": [],
   "source": [
    "img_noisy = ndi.zoom(stack.astype(float),(1, zoom,zoom))"
   ]
  },
  {
   "cell_type": "code",
   "execution_count": 15,
   "id": "18befac1",
   "metadata": {},
   "outputs": [
    {
     "data": {
      "text/plain": [
       "<matplotlib.image.AxesImage at 0x7f5eace434c0>"
      ]
     },
     "execution_count": 15,
     "metadata": {},
     "output_type": "execute_result"
    },
    {
     "data": {
      "image/png": "[encoded data removed]",
      "text/plain": [
       "<Figure size 432x288 with 1 Axes>"
      ]
     },
     "metadata": {
      "needs_background": "light"
     },
     "output_type": "display_data"
    }
   ],
   "source": [
    "plt.imshow(img_noisy.max(0), cmap='gray')"
   ]
  },
  {
   "cell_type": "markdown",
   "id": "700733f5",
   "metadata": {},
   "source": [
    "Фильтрация изображения"
   ]
  },
  {
   "cell_type": "code",
   "execution_count": 16,
   "id": "8d0bda77",
   "metadata": {},
   "outputs": [],
   "source": [
    "from skimage.filters import threshold_li\n",
    "from skimage.morphology import remove_small_objects"
   ]
  },
  {
   "cell_type": "code",
   "execution_count": 17,
   "id": "21902362",
   "metadata": {},
   "outputs": [],
   "source": [
    "li = threshold_li(img_noisy)"
   ]
  },
  {
   "cell_type": "code",
   "execution_count": 18,
   "id": "46d5d43b",
   "metadata": {},
   "outputs": [],
   "source": [
    "img_filt = np.where(img_noisy > li, img_noisy, 0)\n",
    "binary_clean = remove_small_objects(img_noisy >= li, 5, connectivity=3)\n",
    "img_clear = np.where(binary_clean, img_filt, 0)"
   ]
  },
  {
   "cell_type": "code",
   "execution_count": 19,
   "id": "376141e8",
   "metadata": {},
   "outputs": [],
   "source": [
    "final_image = img_clear"
   ]
  },
  {
   "cell_type": "markdown",
   "id": "15f28848",
   "metadata": {},
   "source": [
    "Матрица Гессе"
   ]
  },
  {
   "cell_type": "code",
   "execution_count": 139,
   "id": "daa2df58",
   "metadata": {
    "tags": [
     "parameters"
    ]
   },
   "outputs": [],
   "source": [
    "sigma = 2"
   ]
  },
  {
   "cell_type": "code",
   "execution_count": 140,
   "id": "119b7476",
   "metadata": {},
   "outputs": [],
   "source": [
    "sato, Vf = astro.hessian.sato3d(final_image, sigma, hessian_variant='gradient_of_smoothed', return_vectors=True)"
   ]
  },
  {
   "cell_type": "code",
   "execution_count": 141,
   "id": "5b04c78f",
   "metadata": {},
   "outputs": [],
   "source": [
    "Vfx = Vf[...,0][...,::-1]\n",
    "V = Vfx[..., 0]\n",
    "U = Vfx[..., 1]\n",
    "C = Vfx[..., 2]"
   ]
  },
  {
   "cell_type": "code",
   "execution_count": 142,
   "id": "85c0166e",
   "metadata": {},
   "outputs": [],
   "source": [
    "lengths = astro.enh.percentile_rescale(sato)**0.5"
   ]
  },
  {
   "cell_type": "code",
   "execution_count": 143,
   "id": "22e8a73b",
   "metadata": {},
   "outputs": [],
   "source": [
    "vectors = np.stack((U*lengths, V*lengths, C*lengths), axis=3)"
   ]
  },
  {
   "cell_type": "markdown",
   "id": "c7e30b91",
   "metadata": {},
   "source": [
    "Построение графа"
   ]
  },
  {
   "cell_type": "code",
   "execution_count": 144,
   "id": "11b4de56",
   "metadata": {},
   "outputs": [],
   "source": [
    "crops = [((slice(1, None)), (slice(None, -1))),\n",
    "         ((slice(1, None), slice(1, None), slice(1, None)), (slice(None, -1), slice(None, -1), slice(None, -1))),\n",
    "         ((slice(1, None), slice(None, -1), slice(None, -1)), (slice(None, -1), slice(1, None), slice(1, None))),\n",
    "         ((slice(1, None), slice(1, None)), (slice(None, -1), slice(None, -1))),\n",
    "         ((slice(1, None), slice(None, -1)), (slice(None, -1), slice(1, None))),\n",
    "         ((slice(1, None), slice(1, None), slice(None, -1)), (slice(None, -1), slice(None, -1), slice(1, None))),\n",
    "         ((slice(1, None), slice(None, -1), slice(1, None)), (slice(None, -1), slice(1, None), slice(None, -1))),\n",
    "         ((slice(1, None), slice(None), slice(None, -1)), (slice(None, -1), slice(None), slice(1, None))),\n",
    "         ((slice(1, None), slice(None), slice(1, None)), (slice(None, -1), slice(None), slice(None, -1))),\n",
    "         ((slice(None), slice(1, None), slice(1, None)), (slice(None), slice(None, -1), slice(None, -1))),\n",
    "         ((slice(None), slice(1, None)), (slice(None), slice(None, -1))),\n",
    "         ((slice(None), slice(1, None), slice(None, -1)), (slice(None), slice(None, -1), slice(1, None))),\n",
    "         ((slice(None), slice(None), slice(None, -1)), (slice(None), slice(None), slice(1, None)))]"
   ]
  },
  {
   "cell_type": "code",
   "execution_count": 145,
   "id": "42023332",
   "metadata": {},
   "outputs": [],
   "source": [
    "i, j, k = np.indices(vectors.shape[:-1])\n",
    "idx = np.stack((i,j,k), axis=3)"
   ]
  },
  {
   "cell_type": "code",
   "execution_count": 146,
   "id": "651a4a32",
   "metadata": {},
   "outputs": [],
   "source": [
    "G3 = nx.Graph()\n",
    "nodes3 = {}"
   ]
  },
  {
   "cell_type": "code",
   "execution_count": 147,
   "id": "c75193aa",
   "metadata": {},
   "outputs": [
    {
     "data": {
      "application/vnd.jupyter.widget-view+json": {
       "model_id": "6f8cb32acadc4b61a57350e6a6cfbefe",
       "version_major": 2,
       "version_minor": 0
      },
      "text/plain": [
       "  0%|          | 0/13 [00:00<?, ?it/s]"
      ]
     },
     "metadata": {},
     "output_type": "display_data"
    },
    {
     "name": "stderr",
     "output_type": "stream",
     "text": [
      "/tmp/ipykernel_6023/1847692117.py:5: RuntimeWarning: invalid value encountered in true_divide\n",
      "  cos_dist = np.nan_to_num(dprod / ((norm_a * norm_b)), nan=0)\n"
     ]
    }
   ],
   "source": [
    "for crop, acrop in tqdm(crops):\n",
    "    G3.add_weighted_edges_from(calc_edges(vectors[crop], vectors[acrop], idx[crop], idx[acrop]))"
   ]
  },
  {
   "cell_type": "code",
   "execution_count": 148,
   "id": "9446e5ac",
   "metadata": {},
   "outputs": [],
   "source": [
    "nodes3 = {n:n for n in G3.nodes()}"
   ]
  },
  {
   "cell_type": "markdown",
   "id": "ca472d23",
   "metadata": {},
   "source": [
    "Выделение сомы"
   ]
  },
  {
   "cell_type": "code",
   "execution_count": 83,
   "id": "4d1f207f",
   "metadata": {},
   "outputs": [],
   "source": [
    "from skimage.morphology import erosion, dilation"
   ]
  },
  {
   "cell_type": "code",
   "execution_count": 84,
   "id": "0ad3db54",
   "metadata": {},
   "outputs": [],
   "source": [
    "to_erose = final_image[:]"
   ]
  },
  {
   "cell_type": "code",
   "execution_count": 85,
   "id": "334947b0",
   "metadata": {},
   "outputs": [],
   "source": [
    "for i in range(5):\n",
    "    to_erose = erosion(to_erose)"
   ]
  },
  {
   "cell_type": "code",
   "execution_count": 86,
   "id": "c9b95ad8",
   "metadata": {},
   "outputs": [],
   "source": [
    "eroded = remove_small_objects(to_erose > 0, 5, connectivity=3)"
   ]
  },
  {
   "cell_type": "code",
   "execution_count": 87,
   "id": "6b4c4ed9",
   "metadata": {},
   "outputs": [],
   "source": [
    "soma_mask = np.where(dilation(eroded), True, False)"
   ]
  },
  {
   "cell_type": "code",
   "execution_count": 88,
   "id": "5a1eac14",
   "metadata": {},
   "outputs": [
    {
     "name": "stderr",
     "output_type": "stream",
     "text": [
      "WARNING: could not determine DPI\n"
     ]
    }
   ],
   "source": [
    "if verbose:\n",
    "    w = napari.view_image(final_image)\n",
    "    w.add_image(soma_mask, blending='additive', colormap='cyan')"
   ]
  },
  {
   "cell_type": "code",
   "execution_count": 89,
   "id": "b8e998a8",
   "metadata": {},
   "outputs": [],
   "source": [
    "soma = [tuple(i) for i in idx[soma_mask]]"
   ]
  },
  {
   "cell_type": "markdown",
   "id": "a552caa7",
   "metadata": {},
   "source": [
    "Определение центра"
   ]
  },
  {
   "cell_type": "code",
   "execution_count": 90,
   "id": "df7b2c98",
   "metadata": {},
   "outputs": [],
   "source": [
    "import itertools as itt"
   ]
  },
  {
   "cell_type": "code",
   "execution_count": 91,
   "id": "d2521688",
   "metadata": {},
   "outputs": [],
   "source": [
    "def percentile_rescale(arr, plow=1, phigh=99.5):\n",
    "    low, high = np.percentile(arr, (plow, phigh))\n",
    "    if low == high:\n",
    "        return np.zeros_like(arr)\n",
    "    else:\n",
    "        return np.clip((arr-low)/(high-low), 0, 1)"
   ]
  },
  {
   "cell_type": "code",
   "execution_count": 92,
   "id": "aa766147",
   "metadata": {},
   "outputs": [],
   "source": [
    "zstack = final_image[:]"
   ]
  },
  {
   "cell_type": "code",
   "execution_count": 93,
   "id": "044abecd",
   "metadata": {},
   "outputs": [
    {
     "name": "stdout",
     "output_type": "stream",
     "text": [
      "CPU times: user 1.93 s, sys: 63.2 ms, total: 1.99 s\n",
      "Wall time: 1.99 s\n"
     ]
    }
   ],
   "source": [
    "%time X = np.array(list(itt.product(*map(range, zstack.shape))))"
   ]
  },
  {
   "cell_type": "code",
   "execution_count": 94,
   "id": "f5a49721",
   "metadata": {},
   "outputs": [],
   "source": [
    "weights_s = percentile_rescale(np.ravel(ndi.gaussian_filter(zstack,5))**2,plow=99.5,phigh=99.99)"
   ]
  },
  {
   "cell_type": "code",
   "execution_count": 95,
   "id": "ebb3d49b",
   "metadata": {},
   "outputs": [
    {
     "data": {
      "text/plain": [
       "(50, 106, 98)"
      ]
     },
     "execution_count": 95,
     "metadata": {},
     "output_type": "execute_result"
    }
   ],
   "source": [
    "center = tuple(map(int, np.sum(X*weights_s[:,None],axis=0)/np.sum(weights_s)))\n",
    "center"
   ]
  },
  {
   "cell_type": "markdown",
   "id": "f7a27f6d",
   "metadata": {},
   "source": [
    "Добавление точек сомы в граф"
   ]
  },
  {
   "cell_type": "code",
   "execution_count": 96,
   "id": "a6612951",
   "metadata": {},
   "outputs": [],
   "source": [
    "G = nx.complete_graph(soma)"
   ]
  },
  {
   "cell_type": "code",
   "execution_count": 97,
   "id": "11f28a0a",
   "metadata": {},
   "outputs": [],
   "source": [
    "nx.set_edge_attributes(G, 0.7, name='weight')"
   ]
  },
  {
   "cell_type": "code",
   "execution_count": 149,
   "id": "817b2ce3",
   "metadata": {},
   "outputs": [],
   "source": [
    "for p1, p2, weight in G.edges(data=True):\n",
    "    try:\n",
    "        old_weight = G3.get_edge_data(p1, p2)['weight']\n",
    "    except:\n",
    "        old_weight = 1\n",
    "    G3.add_edge(p1, p2, weight=min(weight['weight'], old_weight))"
   ]
  },
  {
   "cell_type": "code",
   "execution_count": 150,
   "id": "e11158c8",
   "metadata": {},
   "outputs": [],
   "source": [
    "nodes3 = {n:n for n in G3.nodes()}"
   ]
  },
  {
   "cell_type": "code",
   "execution_count": 151,
   "id": "f988c491",
   "metadata": {},
   "outputs": [],
   "source": [
    "nodes = G3.nodes()"
   ]
  },
  {
   "cell_type": "markdown",
   "id": "975a351e",
   "metadata": {},
   "source": [
    "Расчет путей"
   ]
  },
  {
   "cell_type": "code",
   "execution_count": 152,
   "id": "246e1d42",
   "metadata": {},
   "outputs": [
    {
     "name": "stdout",
     "output_type": "stream",
     "text": [
      "CPU times: user 1.94 s, sys: 6.52 ms, total: 1.94 s\n",
      "Wall time: 1.95 s\n"
     ]
    }
   ],
   "source": [
    "%time paths_dict = nx.single_source_dijkstra_path(G3, center)"
   ]
  },
  {
   "cell_type": "code",
   "execution_count": 153,
   "id": "4ae7f63b",
   "metadata": {},
   "outputs": [],
   "source": [
    "paths = list(paths_dict.values())"
   ]
  },
  {
   "cell_type": "code",
   "execution_count": 104,
   "id": "8cf655be",
   "metadata": {},
   "outputs": [],
   "source": [
    "np.save('{}_sigma{}_paths_all'.format(os.path.basename(filename), sigma), np.array(paths, dtype=object))"
   ]
  },
  {
   "cell_type": "markdown",
   "id": "c092a4c9",
   "metadata": {},
   "source": [
    "Расчет встречаемости"
   ]
  },
  {
   "cell_type": "code",
   "execution_count": 154,
   "id": "1af2ed8b",
   "metadata": {},
   "outputs": [],
   "source": [
    "points = count_points_paths(paths)"
   ]
  },
  {
   "cell_type": "code",
   "execution_count": 155,
   "id": "b567b8e0",
   "metadata": {},
   "outputs": [
    {
     "name": "stderr",
     "output_type": "stream",
     "text": [
      "/home/levtg/astro-morpho/venv/lib64/python3.10/site-packages/numpy/core/numeric.py:2446: FutureWarning: elementwise comparison failed; returning scalar instead, but in the future will perform elementwise comparison\n",
      "  return bool(asarray(a1 == a2).all())\n"
     ]
    }
   ],
   "source": [
    "if verbose:\n",
    "    w.add_points(draw_nodes(nodes3, points), size=1, edge_color='transparent', face_color='b', name='count')"
   ]
  },
  {
   "cell_type": "code",
   "execution_count": 156,
   "id": "90e2d212",
   "metadata": {},
   "outputs": [],
   "source": [
    "count_1 = []\n",
    "for path in paths:\n",
    "    count = 0\n",
    "    for n in path:\n",
    "        if points[n] == 1:\n",
    "            count += 1\n",
    "    count_1.append(count)"
   ]
  },
  {
   "cell_type": "code",
   "execution_count": 157,
   "id": "be3e2e47",
   "metadata": {},
   "outputs": [
    {
     "data": {
      "image/png": "[encoded data removed]",
      "text/plain": [
       "<Figure size 432x288 with 1 Axes>"
      ]
     },
     "metadata": {
      "needs_background": "light"
     },
     "output_type": "display_data"
    }
   ],
   "source": [
    "plt.hist(count_1)\n",
    "plt.show()"
   ]
  },
  {
   "cell_type": "code",
   "execution_count": 158,
   "id": "ffb48330",
   "metadata": {},
   "outputs": [],
   "source": [
    "to_del = []\n",
    "for point, count in points.items():\n",
    "    if count == 1:\n",
    "        to_del.append(point)"
   ]
  },
  {
   "cell_type": "code",
   "execution_count": 159,
   "id": "24dd9330",
   "metadata": {},
   "outputs": [],
   "source": [
    "np.save('{}_sigma{}_points_count'.format(os.path.basename(filename), sigma), np.array(points, dtype=object))"
   ]
  },
  {
   "cell_type": "markdown",
   "id": "c666e6ec",
   "metadata": {},
   "source": [
    "Фильтрация точек по встречаемости"
   ]
  },
  {
   "cell_type": "code",
   "execution_count": 160,
   "id": "6b0043b7",
   "metadata": {},
   "outputs": [],
   "source": [
    "from copy import copy\n",
    "points_count = copy(points)"
   ]
  },
  {
   "cell_type": "code",
   "execution_count": 161,
   "id": "68b0a73f",
   "metadata": {},
   "outputs": [],
   "source": [
    "for point in to_del:\n",
    "    del points_count[point]"
   ]
  },
  {
   "cell_type": "code",
   "execution_count": 162,
   "id": "119f44b9",
   "metadata": {},
   "outputs": [
    {
     "data": {
      "text/plain": [
       "[32113,\n",
       " 32117,\n",
       " 32119,\n",
       " 32126,\n",
       " 32131,\n",
       " 32143,\n",
       " 32151,\n",
       " 32152,\n",
       " 32159,\n",
       " 32170,\n",
       " 32179,\n",
       " 32182,\n",
       " 32190,\n",
       " 32207,\n",
       " 32209,\n",
       " 32215,\n",
       " 32273,\n",
       " 37840,\n",
       " 37851,\n",
       " 69023]"
      ]
     },
     "execution_count": 162,
     "metadata": {},
     "output_type": "execute_result"
    }
   ],
   "source": [
    "sorted(points_count.values())[-20:]"
   ]
  },
  {
   "cell_type": "code",
   "execution_count": 163,
   "id": "0f9549d5",
   "metadata": {},
   "outputs": [],
   "source": [
    "del points_count[center]"
   ]
  },
  {
   "cell_type": "code",
   "execution_count": 164,
   "id": "adc2fa0a",
   "metadata": {},
   "outputs": [
    {
     "name": "stderr",
     "output_type": "stream",
     "text": [
      "/home/levtg/astro-morpho/venv/lib64/python3.10/site-packages/numpy/core/numeric.py:2446: FutureWarning: elementwise comparison failed; returning scalar instead, but in the future will perform elementwise comparison\n",
      "  return bool(asarray(a1 == a2).all())\n"
     ]
    }
   ],
   "source": [
    "if verbose:\n",
    "    w.add_points(draw_nodes(nodes3, points_count), size=1, edge_color='transparent', face_color='r', name='count')"
   ]
  },
  {
   "cell_type": "code",
   "execution_count": 165,
   "id": "a24df386",
   "metadata": {},
   "outputs": [],
   "source": [
    "qstack = np.zeros(vectors.shape[:-1])\n",
    "for loc, val in points_count.items():\n",
    "    qstack[loc] = np.log(val)"
   ]
  },
  {
   "cell_type": "code",
   "execution_count": 166,
   "id": "1d669440",
   "metadata": {},
   "outputs": [],
   "source": [
    "if verbose:\n",
    "    w.add_image(qstack)"
   ]
  },
  {
   "cell_type": "code",
   "execution_count": 167,
   "id": "86efafa3",
   "metadata": {},
   "outputs": [],
   "source": [
    "p = np.asarray(list(points_count.keys()))"
   ]
  },
  {
   "cell_type": "code",
   "execution_count": 168,
   "id": "1113e07d",
   "metadata": {},
   "outputs": [],
   "source": [
    "vals = np.asarray(list(points_count.values()))"
   ]
  },
  {
   "cell_type": "code",
   "execution_count": 169,
   "id": "9ec970e7",
   "metadata": {},
   "outputs": [
    {
     "data": {
      "image/png": "[encoded data removed]",
      "text/plain": [
       "<Figure size 1152x576 with 1 Axes>"
      ]
     },
     "metadata": {
      "needs_background": "light"
     },
     "output_type": "display_data"
    }
   ],
   "source": [
    "plt.figure(figsize=(16,8))\n",
    "plt.hist(np.log(vals[vals>1]), bins=500)\n",
    "#plt.xlim(-10, 100)\n",
    "plt.axvline(np.mean(np.log(vals)), color='cyan', ls='--', label='th.mean')\n",
    "plt.axvline(threshold_li(np.log(vals)), color='tomato', ls='--', label='th.Li')\n",
    "plt.axvline(np.log(np.mean(vals)), color='b', ls='--', label='th.log_mean')\n",
    "plt.legend()\n",
    "plt.show()"
   ]
  },
  {
   "cell_type": "code",
   "execution_count": 170,
   "id": "7572a247",
   "metadata": {},
   "outputs": [
    {
     "data": {
      "image/png": "[encoded data removed]",
      "text/plain": [
       "<Figure size 1152x576 with 1 Axes>"
      ]
     },
     "metadata": {
      "needs_background": "light"
     },
     "output_type": "display_data"
    }
   ],
   "source": [
    "plt.figure(figsize=(16,8))\n",
    "plt.hist(vals[vals>1], bins=500)\n",
    "#plt.xlim(-10, 100)\n",
    "plt.axvline(np.mean(vals), color='b', ls='--', label='th.mean')\n",
    "plt.axvline(threshold_li(vals), color='tomato', ls='--', label='th.Li')\n",
    "plt.axvline(np.exp(np.mean(np.log(vals))), color='cyan', ls='--', label='th.log_mean')\n",
    "plt.legend()\n",
    "plt.show()"
   ]
  },
  {
   "cell_type": "code",
   "execution_count": 171,
   "id": "2eea2646",
   "metadata": {},
   "outputs": [],
   "source": [
    "points_mean = [k for k, v in points_count.items() if v > np.mean(vals)]\n",
    "points_li = [k for k, v in points_count.items() if v > threshold_li(vals)]\n",
    "points_log_mean = [k for k, v in points_count.items() if np.log(v) > np.mean(np.log(vals))]\n",
    "points_log_li = [k for k, v in points_count.items() if np.log(v) > threshold_li(np.log(vals))]"
   ]
  },
  {
   "cell_type": "code",
   "execution_count": 172,
   "id": "b7fc2c3c",
   "metadata": {},
   "outputs": [
    {
     "name": "stderr",
     "output_type": "stream",
     "text": [
      "/home/levtg/astro-morpho/venv/lib64/python3.10/site-packages/numpy/core/numeric.py:2446: FutureWarning: elementwise comparison failed; returning scalar instead, but in the future will perform elementwise comparison\n",
      "  return bool(asarray(a1 == a2).all())\n",
      "/home/levtg/astro-morpho/venv/lib64/python3.10/site-packages/numpy/core/numeric.py:2446: FutureWarning: elementwise comparison failed; returning scalar instead, but in the future will perform elementwise comparison\n",
      "  return bool(asarray(a1 == a2).all())\n",
      "/home/levtg/astro-morpho/venv/lib64/python3.10/site-packages/numpy/core/numeric.py:2446: FutureWarning: elementwise comparison failed; returning scalar instead, but in the future will perform elementwise comparison\n",
      "  return bool(asarray(a1 == a2).all())\n",
      "/home/levtg/astro-morpho/venv/lib64/python3.10/site-packages/numpy/core/numeric.py:2446: FutureWarning: elementwise comparison failed; returning scalar instead, but in the future will perform elementwise comparison\n",
      "  return bool(asarray(a1 == a2).all())\n"
     ]
    }
   ],
   "source": [
    "if verbose:\n",
    "    w.add_points(draw_nodes(nodes3, points_mean), size=1, edge_color='transparent', face_color='m', name='filt mean')\n",
    "    w.add_points(draw_nodes(nodes3, points_li), size=1, edge_color='transparent', face_color='g', name='filt li')    \n",
    "    w.add_points(draw_nodes(nodes3, points_log_mean), size=1, edge_color='transparent', face_color='c', name='filt log mean')    \n",
    "    w.add_points(draw_nodes(nodes3, points_log_li), size=1, edge_color='transparent', face_color='r', name='filt log li')    "
   ]
  },
  {
   "cell_type": "code",
   "execution_count": null,
   "id": "b09b74d9",
   "metadata": {},
   "outputs": [],
   "source": []
  },
  {
   "cell_type": "code",
   "execution_count": null,
   "id": "ab9516a7",
   "metadata": {},
   "outputs": [],
   "source": []
  }
 ],
 "metadata": {
  "celltoolbar": "Tags",
  "jupytext": {
   "formats": "ipynb,Rmd"
  },
  "kernelspec": {
   "display_name": "venv",
   "language": "python",
   "name": "venv"
  },
  "language_info": {
   "codemirror_mode": {
    "name": "ipython",
    "version": 3
   },
   "file_extension": ".py",
   "mimetype": "text/x-python",
   "name": "python",
   "nbconvert_exporter": "python",
   "pygments_lexer": "ipython3",
   "version": "3.10.2"
  },
  "toc": {
   "base_numbering": 1,
   "nav_menu": {},
   "number_sections": true,
   "sideBar": true,
   "skip_h1_title": false,
   "title_cell": "Table of Contents",
   "title_sidebar": "Contents",
   "toc_cell": false,
   "toc_position": {},
   "toc_section_display": true,
   "toc_window_display": false
  }
 },
 "nbformat": 4,
 "nbformat_minor": 5
}
